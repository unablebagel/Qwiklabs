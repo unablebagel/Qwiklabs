{
  "nbformat": 4,
  "nbformat_minor": 0,
  "metadata": {
    "colab": {
      "provenance": [],
      "authorship_tag": "ABX9TyNeGKTDqtTSck3wirV0CG4P",
      "include_colab_link": true
    },
    "kernelspec": {
      "name": "python3",
      "display_name": "Python 3"
    },
    "language_info": {
      "name": "python"
    }
  },
  "cells": [
    {
      "cell_type": "markdown",
      "metadata": {
        "id": "view-in-github",
        "colab_type": "text"
      },
      "source": [
        "<a href=\"https://colab.research.google.com/github/unablebagel/Qwiklabs/blob/main/INF1002_Revision.ipynb\" target=\"_parent\"><img src=\"https://colab.research.google.com/assets/colab-badge.svg\" alt=\"Open In Colab\"/></a>"
      ]
    },
    {
      "cell_type": "markdown",
      "source": [
        "# Identation is important"
      ],
      "metadata": {
        "id": "GUNyeEed8VdX"
      }
    },
    {
      "cell_type": "code",
      "execution_count": 1,
      "metadata": {
        "colab": {
          "base_uri": "https://localhost:8080/"
        },
        "id": "EIPyOt6E7M-s",
        "outputId": "d1c8037e-1cab-4dec-f3cc-91bcf1059b69"
      },
      "outputs": [
        {
          "output_type": "stream",
          "name": "stdout",
          "text": [
            "Five is greater than two!\n"
          ]
        }
      ],
      "source": [
        "if 5 > 2:\n",
        "  print(\"Five is greater than two!\")"
      ]
    },
    {
      "cell_type": "code",
      "source": [
        "if 5 > 2:\n",
        "print(\"Five is greater than two!\") # Syntax error"
      ],
      "metadata": {
        "colab": {
          "base_uri": "https://localhost:8080/",
          "height": 106
        },
        "id": "KhaYjWj18NNB",
        "outputId": "9f7eee5e-b9ec-47fb-e87a-4c21710be6ce"
      },
      "execution_count": 2,
      "outputs": [
        {
          "output_type": "error",
          "ename": "IndentationError",
          "evalue": "expected an indented block after 'if' statement on line 1 (<ipython-input-2-249ae2a9850f>, line 2)",
          "traceback": [
            "\u001b[0;36m  File \u001b[0;32m\"<ipython-input-2-249ae2a9850f>\"\u001b[0;36m, line \u001b[0;32m2\u001b[0m\n\u001b[0;31m    print(\"Five is greater than two!\") # Syntax error\u001b[0m\n\u001b[0m    ^\u001b[0m\n\u001b[0;31mIndentationError\u001b[0m\u001b[0;31m:\u001b[0m expected an indented block after 'if' statement on line 1\n"
          ]
        }
      ]
    },
    {
      "cell_type": "markdown",
      "source": [],
      "metadata": {
        "id": "WdCw6GRH8_Yi"
      }
    },
    {
      "cell_type": "code",
      "source": [
        "if 5 > 2:\n",
        " print(\"Five is greater than two!\")\n",
        "if 5 > 2:\n",
        "        print(\"Five is greater than two!\")\n",
        "\n"
      ],
      "metadata": {
        "colab": {
          "base_uri": "https://localhost:8080/"
        },
        "id": "Q8juj7BS8Nvd",
        "outputId": "5b1543a2-bb5e-48a3-a718-62b6d2995172"
      },
      "execution_count": 3,
      "outputs": [
        {
          "output_type": "stream",
          "name": "stdout",
          "text": [
            "Five is greater than two!\n",
            "Five is greater than two!\n"
          ]
        }
      ]
    },
    {
      "cell_type": "markdown",
      "source": [
        "You have to use the same number of spaces in the same block of code, otherwise Python will give you an error:You have to use the same number of spaces in the same block of code, otherwise Python will give you an error:"
      ],
      "metadata": {
        "id": "vVfeVgYM8yzW"
      }
    },
    {
      "cell_type": "code",
      "source": [
        "if 5 > 2:\n",
        " print(\"Five is greater than two!\")\n",
        "        print(\"Five is greater than two!\") #Syntax error"
      ],
      "metadata": {
        "id": "_GyETsHu8xCX"
      },
      "execution_count": null,
      "outputs": []
    },
    {
      "cell_type": "markdown",
      "source": [
        "# Variable Assignment"
      ],
      "metadata": {
        "id": "gRj4UjR49BjP"
      }
    },
    {
      "cell_type": "code",
      "source": [
        "x = 5\n",
        "y = \"Hello, World!\""
      ],
      "metadata": {
        "id": "_GDCUm0W9IYJ"
      },
      "execution_count": null,
      "outputs": []
    },
    {
      "cell_type": "markdown",
      "source": [
        "Comments"
      ],
      "metadata": {
        "id": "RevV3Lcc9Lhk"
      }
    },
    {
      "cell_type": "code",
      "source": [
        "#This is a comment.\n",
        "print(\"Hello, World!\")\n",
        "\n",
        "print(\"Hello, World!\") #This is a comment\n",
        "\n",
        "#This is a comment\n",
        "#written in\n",
        "#more than just one line\n",
        "print(\"Hello, World!\")"
      ],
      "metadata": {
        "id": "z6OSHDP39MTx"
      },
      "execution_count": null,
      "outputs": []
    },
    {
      "cell_type": "markdown",
      "source": [
        "Multistring"
      ],
      "metadata": {
        "id": "ZKJcs0L89ecQ"
      }
    },
    {
      "cell_type": "code",
      "source": [
        "\"\"\"\n",
        "This is a comment\n",
        "written in\n",
        "more than just one line\n",
        "\"\"\"\n",
        "print(\"Hello, World!\")"
      ],
      "metadata": {
        "id": "QQZCf2l29iuF"
      },
      "execution_count": null,
      "outputs": []
    },
    {
      "cell_type": "markdown",
      "source": [
        "Variables do not need to be declared with any particular type, and can even change type after they have been set."
      ],
      "metadata": {
        "id": "IQWt_2ZL9uP2"
      }
    },
    {
      "cell_type": "code",
      "source": [
        "x = 4       # x is of type int\n",
        "x = \"Sally\" # x is now of type str\n",
        "print(x)"
      ],
      "metadata": {
        "colab": {
          "base_uri": "https://localhost:8080/"
        },
        "id": "zNp_qiW19tTS",
        "outputId": "58c7313b-60d6-4e7e-b939-883035bf0578"
      },
      "execution_count": 4,
      "outputs": [
        {
          "output_type": "stream",
          "name": "stdout",
          "text": [
            "Sally\n"
          ]
        }
      ]
    },
    {
      "cell_type": "markdown",
      "source": [
        "Casting"
      ],
      "metadata": {
        "id": "jLq9rN5H9wdf"
      }
    },
    {
      "cell_type": "code",
      "source": [
        "x = str(3)    # x will be '3'\n",
        "y = int(3)    # y will be 3\n",
        "z = float(3)  # z will be 3.0"
      ],
      "metadata": {
        "id": "rPeyXSv79xod"
      },
      "execution_count": null,
      "outputs": []
    },
    {
      "cell_type": "markdown",
      "source": [
        "Get Type"
      ],
      "metadata": {
        "id": "OxQZHUAt92fl"
      }
    },
    {
      "cell_type": "code",
      "source": [
        "x = 5\n",
        "y = \"John\"\n",
        "print(type(x))\n",
        "print(type(y))"
      ],
      "metadata": {
        "colab": {
          "base_uri": "https://localhost:8080/"
        },
        "id": "gGk4Cmsn93vN",
        "outputId": "60a7fc26-f2ca-4f6b-821e-2562f2888237"
      },
      "execution_count": 5,
      "outputs": [
        {
          "output_type": "stream",
          "name": "stdout",
          "text": [
            "<class 'int'>\n",
            "<class 'str'>\n"
          ]
        }
      ]
    },
    {
      "cell_type": "markdown",
      "source": [
        "Single or Double Quotes?"
      ],
      "metadata": {
        "id": "yXGWBCzv9_FI"
      }
    },
    {
      "cell_type": "code",
      "source": [
        "x = \"John\"\n",
        "# is the same as\n",
        "x = 'John'"
      ],
      "metadata": {
        "id": "c1Iq8xmV9_ii"
      },
      "execution_count": null,
      "outputs": []
    },
    {
      "cell_type": "markdown",
      "source": [
        "Case-Sensitive"
      ],
      "metadata": {
        "id": "MzkZOVVp-C_W"
      }
    },
    {
      "cell_type": "code",
      "source": [
        "#This will create two variables:\n",
        "a = 4\n",
        "A = \"Sally\"\n",
        "#A will not overwrite a"
      ],
      "metadata": {
        "id": "bIlUWCWz-EBw"
      },
      "execution_count": null,
      "outputs": []
    },
    {
      "cell_type": "markdown",
      "source": [
        "Rules for Python variables:\n",
        "\n",
        "\n",
        "*   A variable name must start with a letter or the underscore character\n",
        "*   A variable name cannot start with a number\n",
        "*   A variable name can only contain alpha-numeric characters and underscores (A-z, 0-9, and _ )\n",
        "*   Variable names are case-sensitive (age, Age and AGE are three different variables)\n",
        "*    A variable name cannot be any of the Python keywords.\n",
        "\n",
        "\n",
        "\n",
        "\n",
        "\n",
        "  \n",
        "\n",
        "  \n",
        "  \n",
        "\n",
        "\n",
        "\n"
      ],
      "metadata": {
        "id": "EnUMp4PL-XgO"
      }
    },
    {
      "cell_type": "code",
      "source": [
        "#Legal variable names:\n",
        "myvar = \"John\"\n",
        "my_var = \"John\"\n",
        "_my_var = \"John\"\n",
        "myVar = \"John\"\n",
        "MYVAR = \"John\"\n",
        "myvar2 = \"John\"\n",
        "\n",
        "#Camel Case\n",
        "myVariableName = \"John\"\n",
        "\n",
        "#Pascal Case\n",
        "MyVariableName = \"John\"\n",
        "\n",
        "#Snake Case\n",
        "my_variable_name = \"John\""
      ],
      "metadata": {
        "id": "KyMBiZTL-jpd"
      },
      "execution_count": null,
      "outputs": []
    },
    {
      "cell_type": "markdown",
      "source": [
        "Multiple Assignments"
      ],
      "metadata": {
        "id": "h1FujVZ__EkV"
      }
    },
    {
      "cell_type": "code",
      "source": [
        "# Many Values to Multiple Variables\n",
        "x, y, z = \"Orange\", \"Banana\", \"Cherry\"\n",
        "print(x)\n",
        "print(y)\n",
        "print(z)"
      ],
      "metadata": {
        "colab": {
          "base_uri": "https://localhost:8080/"
        },
        "id": "XnKwwf80_GR7",
        "outputId": "8bacd370-97b4-407d-8af3-ec44676daa65"
      },
      "execution_count": 7,
      "outputs": [
        {
          "output_type": "stream",
          "name": "stdout",
          "text": [
            "Orange\n",
            "Banana\n",
            "Cherry\n"
          ]
        }
      ]
    },
    {
      "cell_type": "code",
      "source": [
        "#One Value to Multiple Variables\n",
        "x = y = z = \"Orange\"\n",
        "print(x)\n",
        "print(y)\n",
        "print(z)"
      ],
      "metadata": {
        "colab": {
          "base_uri": "https://localhost:8080/"
        },
        "id": "gvsT1sfV_Kcb",
        "outputId": "8d3fb544-3a9d-4045-8a3c-9946bd428706"
      },
      "execution_count": 8,
      "outputs": [
        {
          "output_type": "stream",
          "name": "stdout",
          "text": [
            "Orange\n",
            "Orange\n",
            "Orange\n"
          ]
        }
      ]
    },
    {
      "cell_type": "markdown",
      "source": [
        "Output Variables"
      ],
      "metadata": {
        "id": "3LBuAofo_u6b"
      }
    },
    {
      "cell_type": "code",
      "source": [
        "x = \"Python\"\n",
        "y = \"is\"\n",
        "z = \"awesome\"\n",
        "print(x, y, z)\n",
        "\n",
        "#Notice the space character after \"Python \" and \"is \", without them the result would be \"Pythonisawesome\".\n",
        "x = \"Python \"\n",
        "y = \"is \"\n",
        "z = \"awesome\"\n",
        "print(x + y + z)\n",
        "\n",
        "x = 5\n",
        "y = 10\n",
        "print(x + y)"
      ],
      "metadata": {
        "colab": {
          "base_uri": "https://localhost:8080/"
        },
        "id": "OgvEZLh__vQB",
        "outputId": "10499b3e-cad4-4a48-fcfa-dcc7fab8e24d"
      },
      "execution_count": 9,
      "outputs": [
        {
          "output_type": "stream",
          "name": "stdout",
          "text": [
            "Python is awesome\n",
            "Python is awesome\n",
            "15\n"
          ]
        }
      ]
    },
    {
      "cell_type": "code",
      "source": [
        "#In the print() function, when you try to combine a string and a number with the + operator, Python will give you an error:\n",
        "\n",
        "print(\"Hello\" + 123)\n",
        "#TypeError: can only concatenate str (not \"int\") to str"
      ],
      "metadata": {
        "colab": {
          "base_uri": "https://localhost:8080/",
          "height": 211
        },
        "id": "tgtX0skB_4XU",
        "outputId": "40f92446-3510-4cc5-e88a-4b6074822904"
      },
      "execution_count": 10,
      "outputs": [
        {
          "output_type": "error",
          "ename": "TypeError",
          "evalue": "can only concatenate str (not \"int\") to str",
          "traceback": [
            "\u001b[0;31m---------------------------------------------------------------------------\u001b[0m",
            "\u001b[0;31mTypeError\u001b[0m                                 Traceback (most recent call last)",
            "\u001b[0;32m<ipython-input-10-ed14f725b002>\u001b[0m in \u001b[0;36m<cell line: 3>\u001b[0;34m()\u001b[0m\n\u001b[1;32m      1\u001b[0m \u001b[0;31m#In the print() function, when you try to combine a string and a number with the + operator, Python will give you an error:\u001b[0m\u001b[0;34m\u001b[0m\u001b[0;34m\u001b[0m\u001b[0m\n\u001b[1;32m      2\u001b[0m \u001b[0;34m\u001b[0m\u001b[0m\n\u001b[0;32m----> 3\u001b[0;31m \u001b[0mprint\u001b[0m\u001b[0;34m(\u001b[0m\u001b[0;34m\"Hello\"\u001b[0m \u001b[0;34m+\u001b[0m \u001b[0;36m123\u001b[0m\u001b[0;34m)\u001b[0m\u001b[0;34m\u001b[0m\u001b[0;34m\u001b[0m\u001b[0m\n\u001b[0m\u001b[1;32m      4\u001b[0m \u001b[0;31m#TypeError: can only concatenate str (not \"int\") to str\u001b[0m\u001b[0;34m\u001b[0m\u001b[0;34m\u001b[0m\u001b[0m\n",
            "\u001b[0;31mTypeError\u001b[0m: can only concatenate str (not \"int\") to str"
          ]
        }
      ]
    },
    {
      "cell_type": "code",
      "source": [
        "# The best way to output multiple variables in the print() function is to separate them with commas, which even support different data types:\n",
        "x = 5\n",
        "y = \"John\"\n",
        "print(x, y)\n"
      ],
      "metadata": {
        "colab": {
          "base_uri": "https://localhost:8080/"
        },
        "id": "1ZNcSCEp_-bt",
        "outputId": "0f831b48-59bf-4f71-a578-100411e7f5dd"
      },
      "execution_count": 11,
      "outputs": [
        {
          "output_type": "stream",
          "name": "stdout",
          "text": [
            "5 John\n"
          ]
        }
      ]
    },
    {
      "cell_type": "markdown",
      "source": [
        "Global Assignment"
      ],
      "metadata": {
        "id": "L_krbF1DAT2E"
      }
    },
    {
      "cell_type": "code",
      "source": [
        "x = \"awesome\"\n",
        "\n",
        "def myfunc():\n",
        "  global x\n",
        "  x = \"fantastic\"\n",
        "\n",
        "myfunc()\n",
        "\n",
        "print(\"Python is \" + x)"
      ],
      "metadata": {
        "colab": {
          "base_uri": "https://localhost:8080/"
        },
        "id": "rB5STfIiAVNe",
        "outputId": "e1fcd2b2-25b7-4fa0-db6a-865d04812dc0"
      },
      "execution_count": 12,
      "outputs": [
        {
          "output_type": "stream",
          "name": "stdout",
          "text": [
            "Python is fantastic\n"
          ]
        }
      ]
    },
    {
      "cell_type": "markdown",
      "source": [
        "# Data Types"
      ],
      "metadata": {
        "id": "wQ3Tr0LwBOkt"
      }
    },
    {
      "cell_type": "markdown",
      "source": [
        "Declaring data type **(Dynamic Typing)**"
      ],
      "metadata": {
        "id": "3HPPoV43Bflz"
      }
    },
    {
      "cell_type": "code",
      "source": [
        "x = \"Hello World\"\t#str\n",
        "x = 20\t#int\n",
        "x = 20.5\t#float\n",
        "x = 1j\t#complex\n",
        "x = [\"apple\", \"banana\", \"cherry\"]\t#list\n",
        "x = (\"apple\", \"banana\", \"cherry\")\t#tuple\n",
        "x = range(6)\t#range\n",
        "x = {\"name\" : \"John\", \"age\" : 36}\t#dict\n",
        "x = {\"apple\", \"banana\", \"cherry\"}\t#set\n",
        "x = frozenset({\"apple\", \"banana\", \"cherry\"})\t#frozenset\n",
        "x = True\t#bool\n",
        "x = b\"Hello\"\t#bytes\n",
        "x = bytearray(5)\t#bytearray\n",
        "x = memoryview(bytes(5))\t#memoryview\n",
        "x = None\t#NoneType"
      ],
      "metadata": {
        "id": "PPQoZbxgBSKs"
      },
      "execution_count": 15,
      "outputs": []
    },
    {
      "cell_type": "markdown",
      "source": [
        "Setting the Specific Data Type **(Type Casting)**"
      ],
      "metadata": {
        "id": "nyD0DIk4Bh5d"
      }
    },
    {
      "cell_type": "code",
      "source": [
        "x = str(\"Hello World\")\t#str\n",
        "x = int(20)\t#int\n",
        "x = float(20.5)\t#float\n",
        "x = complex(1j)\t#complex\n",
        "x = list((\"apple\", \"banana\", \"cherry\"))\t#list\n",
        "x = tuple((\"apple\", \"banana\", \"cherry\"))\t#tuple\n",
        "x = range(6)\t#range\n",
        "x = dict(name=\"John\", age=36)\t#dict\n",
        "x = set((\"apple\", \"banana\", \"cherry\"))\t#set\n",
        "x = frozenset((\"apple\", \"banana\", \"cherry\"))\t#frozenset\n",
        "x = bool(5)\t#bool\n",
        "x = bytes(5)\t#bytes\n",
        "x = bytearray(5)\t#bytearray\n",
        "x = memoryview(bytes(5))\t#memoryview\n",
        "\n",
        "#Numeric precision adjustment\n",
        "\n",
        "# See how round() rounds 1.5 up to 2, and 2.5 down to 2!\n",
        "x = 2.5\n",
        "\n",
        "y = round(x)\n",
        "print(y)\n",
        "\n",
        "z = 1.5\n",
        "\n",
        "y = round(z)\n",
        "print(y)"
      ],
      "metadata": {
        "colab": {
          "base_uri": "https://localhost:8080/"
        },
        "id": "dOHcTbRXBpO6",
        "outputId": "8b2bd690-3eff-493e-a5a1-3f82ed26ae29"
      },
      "execution_count": 29,
      "outputs": [
        {
          "output_type": "stream",
          "name": "stdout",
          "text": [
            "2\n",
            "2\n"
          ]
        }
      ]
    },
    {
      "cell_type": "markdown",
      "source": [
        "# Python Numbers"
      ],
      "metadata": {
        "id": "4tf78019B8kk"
      }
    },
    {
      "cell_type": "markdown",
      "source": [
        "Int, or integer, is a **whole number, positive or negative, without decimals, of unlimited length.**\n",
        "\n"
      ],
      "metadata": {
        "id": "UTnkdHaBCD3T"
      }
    },
    {
      "cell_type": "code",
      "source": [
        "x = 1\n",
        "y = 35656222554887711\n",
        "z = -3255522\n",
        "\n",
        "print(type(x))\n",
        "print(type(y))\n",
        "print(type(z))"
      ],
      "metadata": {
        "colab": {
          "base_uri": "https://localhost:8080/"
        },
        "id": "sMlZUFAgCAmr",
        "outputId": "19052be2-82b9-4234-8bf1-a4fce93de493"
      },
      "execution_count": 16,
      "outputs": [
        {
          "output_type": "stream",
          "name": "stdout",
          "text": [
            "<class 'int'>\n",
            "<class 'int'>\n",
            "<class 'int'>\n"
          ]
        }
      ]
    },
    {
      "cell_type": "markdown",
      "source": [
        "Float, or \"floating point number\" is a number, positive or negative, **containing one or more decimals**."
      ],
      "metadata": {
        "id": "c70yMcwMCHsR"
      }
    },
    {
      "cell_type": "code",
      "source": [
        "x = 1.10\n",
        "y = 1.0\n",
        "z = -35.59\n",
        "\n",
        "print(type(x))\n",
        "print(type(y))\n",
        "print(type(z))"
      ],
      "metadata": {
        "id": "8fXlP60OCKQE"
      },
      "execution_count": null,
      "outputs": []
    },
    {
      "cell_type": "markdown",
      "source": [
        "Float can also be scientific numbers with an \"e\" to indicate the power of 10."
      ],
      "metadata": {
        "id": "64YFDI3_CO8P"
      }
    },
    {
      "cell_type": "code",
      "source": [
        "x = 35e3\n",
        "y = 12E4\n",
        "z = -87.7e100\n",
        "\n",
        "print(type(x))\n",
        "print(type(y))\n",
        "print(type(z))"
      ],
      "metadata": {
        "id": "Vq-zeVlsCNFO"
      },
      "execution_count": null,
      "outputs": []
    },
    {
      "cell_type": "markdown",
      "source": [
        "Type Conversion"
      ],
      "metadata": {
        "id": "sePQXGUCCQ8J"
      }
    },
    {
      "cell_type": "code",
      "source": [
        "x = 1    # int\n",
        "y = 2.8  # float\n",
        "z = 1j   # complex\n",
        "\n",
        "#convert from int to float:\n",
        "a = float(x)\n",
        "\n",
        "#convert from float to int:\n",
        "b = int(y)\n",
        "\n",
        "#convert from int to complex:\n",
        "c = complex(x)\n",
        "\n",
        "print(a)\n",
        "print(b)\n",
        "print(c)\n",
        "\n",
        "print(type(a))\n",
        "print(type(b))\n",
        "print(type(c))"
      ],
      "metadata": {
        "colab": {
          "base_uri": "https://localhost:8080/"
        },
        "id": "Kvx4eyF1DK78",
        "outputId": "ba4e23b5-83cd-4b65-844b-af507fd8a49e"
      },
      "execution_count": 26,
      "outputs": [
        {
          "output_type": "stream",
          "name": "stdout",
          "text": [
            "1.0\n",
            "1\n",
            "(1+0j)\n",
            "2\n",
            "<class 'float'>\n",
            "<class 'int'>\n",
            "<class 'complex'>\n",
            "<class 'int'>\n"
          ]
        }
      ]
    },
    {
      "cell_type": "markdown",
      "source": [
        "# Python Strings"
      ],
      "metadata": {
        "id": "_M74JWerF_ZX"
      }
    },
    {
      "cell_type": "markdown",
      "source": [
        "Quotes Inside Quotes\n",
        "\n",
        "You can use quotes inside a string, as long as they don't match the quotes surrounding the string:"
      ],
      "metadata": {
        "id": "G0cQxWxSGHNu"
      }
    },
    {
      "cell_type": "code",
      "source": [
        "print(\"It's alright\")\n",
        "print(\"He is called 'Johnny'\")\n",
        "print('He is called \"Johnny\"')"
      ],
      "metadata": {
        "id": "FZWFzHYpGJHw"
      },
      "execution_count": null,
      "outputs": []
    },
    {
      "cell_type": "markdown",
      "source": [
        "## Multiline Strings\n",
        "\n",
        "You can assign a multiline string to a variable by using three quotes:"
      ],
      "metadata": {
        "id": "nGQdlJutGQOd"
      }
    },
    {
      "cell_type": "code",
      "source": [
        "# three double quotes\n",
        "a = \"\"\"Lorem ipsum dolor sit amet,\n",
        "consectetur adipiscing elit,\n",
        "sed do eiusmod tempor incididunt\n",
        "ut labore et dolore magna aliqua.\"\"\"\n",
        "print(a)\n",
        "\n",
        "# three single quotes\n",
        "b = '''Lorem ipsum dolor sit amet,\n",
        "consectetur adipiscing elit,\n",
        "sed do eiusmod tempor incididunt\n",
        "ut labore et dolore magna aliqua.'''\n",
        "print(b)\n",
        "\n",
        "# Note: in the result, the line breaks are inserted at the same position as in the code."
      ],
      "metadata": {
        "colab": {
          "base_uri": "https://localhost:8080/"
        },
        "id": "EAzdxW5OGNUi",
        "outputId": "40c83d67-0867-4313-b1f3-15805c310db5"
      },
      "execution_count": 30,
      "outputs": [
        {
          "output_type": "stream",
          "name": "stdout",
          "text": [
            "Lorem ipsum dolor sit amet,\n",
            "consectetur adipiscing elit,\n",
            "sed do eiusmod tempor incididunt\n",
            "ut labore et dolore magna aliqua.\n",
            "Lorem ipsum dolor sit amet,\n",
            "consectetur adipiscing elit,\n",
            "sed do eiusmod tempor incididunt\n",
            "ut labore et dolore magna aliqua.\n"
          ]
        }
      ]
    },
    {
      "cell_type": "markdown",
      "source": [
        "## Strings are Arrays"
      ],
      "metadata": {
        "id": "Q6rBBoAQGjgO"
      }
    },
    {
      "cell_type": "code",
      "source": [
        "a = \"Hello, World!\"\n",
        "print(a[1])"
      ],
      "metadata": {
        "colab": {
          "base_uri": "https://localhost:8080/"
        },
        "id": "Ppdr6kZ2GmS8",
        "outputId": "0c70d3fa-08e1-4614-d313-c0baa4892fbc"
      },
      "execution_count": 31,
      "outputs": [
        {
          "output_type": "stream",
          "name": "stdout",
          "text": [
            "e\n"
          ]
        }
      ]
    },
    {
      "cell_type": "markdown",
      "source": [
        "Since strings are arrays, we can loop through the characters in a string, with a for loop."
      ],
      "metadata": {
        "id": "l3IP7nHEGpRj"
      }
    },
    {
      "cell_type": "code",
      "source": [
        "for x in \"banana\":\n",
        "  print(x)"
      ],
      "metadata": {
        "id": "15DRdD0JGp-h"
      },
      "execution_count": null,
      "outputs": []
    },
    {
      "cell_type": "markdown",
      "source": [
        "## String Length\n",
        "To get the length of a string, use the len() function."
      ],
      "metadata": {
        "id": "-Ec75RiFGu_G"
      }
    },
    {
      "cell_type": "code",
      "source": [
        "a = \"Hello, World!\"\n",
        "print(len(a))"
      ],
      "metadata": {
        "id": "LT8VV46MGxYP"
      },
      "execution_count": null,
      "outputs": []
    },
    {
      "cell_type": "markdown",
      "source": [
        "## Check String\n",
        "To check if a certain phrase or character is present in a string, we can use the keyword in."
      ],
      "metadata": {
        "id": "f8Y2YhWMHBT1"
      }
    },
    {
      "cell_type": "code",
      "source": [
        "txt = \"The best things in life are free!\"\n",
        "print(\"free\" in txt)"
      ],
      "metadata": {
        "id": "bMmFr08_HF4J"
      },
      "execution_count": null,
      "outputs": []
    },
    {
      "cell_type": "code",
      "source": [
        "txt = \"The best things in life are free!\"\n",
        "if \"free\" in txt:\n",
        "  print(\"Yes, 'free' is present.\")"
      ],
      "metadata": {
        "id": "2fFt1gdcHJLe"
      },
      "execution_count": null,
      "outputs": []
    },
    {
      "cell_type": "markdown",
      "source": [
        "To check if a certain phrase or character is NOT present in a string, we can use the keyword not in."
      ],
      "metadata": {
        "id": "Ykvnl7fKHLNd"
      }
    },
    {
      "cell_type": "code",
      "source": [
        "txt = \"The best things in life are free!\"\n",
        "print(\"expensive\" not in txt)"
      ],
      "metadata": {
        "id": "8Rbjg6DwHML_"
      },
      "execution_count": null,
      "outputs": []
    },
    {
      "cell_type": "code",
      "source": [
        "txt = \"The best things in life are free!\"\n",
        "if \"expensive\" not in txt:\n",
        "  print(\"No, 'expensive' is NOT present.\")"
      ],
      "metadata": {
        "id": "7DwAvqV_HPN-"
      },
      "execution_count": null,
      "outputs": []
    }
  ]
}