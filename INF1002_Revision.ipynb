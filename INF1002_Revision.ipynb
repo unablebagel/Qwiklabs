{
  "nbformat": 4,
  "nbformat_minor": 0,
  "metadata": {
    "colab": {
      "provenance": [],
      "collapsed_sections": [
        "_M74JWerF_ZX",
        "ROh1It5bbij_",
        "1-QFMNBmbwFT",
        "XHjWUnoBk2Zp",
        "p2J5cYPanRZc",
        "DKZoZRlE-IR5",
        "8Xk13-3eRjL0",
        "HoQLN8eUR-co"
      ],
      "authorship_tag": "ABX9TyPwu9xT1oNbLH0mAG0OQlIC",
      "include_colab_link": true
    },
    "kernelspec": {
      "name": "python3",
      "display_name": "Python 3"
    },
    "language_info": {
      "name": "python"
    }
  },
  "cells": [
    {
      "cell_type": "markdown",
      "metadata": {
        "id": "view-in-github",
        "colab_type": "text"
      },
      "source": [
        "<a href=\"https://colab.research.google.com/github/unablebagel/Qwiklabs/blob/main/INF1002_Revision.ipynb\" target=\"_parent\"><img src=\"https://colab.research.google.com/assets/colab-badge.svg\" alt=\"Open In Colab\"/></a>"
      ]
    },
    {
      "cell_type": "markdown",
      "source": [
        "# Identation is important"
      ],
      "metadata": {
        "id": "GUNyeEed8VdX"
      }
    },
    {
      "cell_type": "code",
      "execution_count": null,
      "metadata": {
        "colab": {
          "base_uri": "https://localhost:8080/"
        },
        "id": "EIPyOt6E7M-s",
        "outputId": "ca449ebf-ae13-44f1-beb6-64a53555ffdf"
      },
      "outputs": [
        {
          "output_type": "stream",
          "name": "stdout",
          "text": [
            "Five is greater than two!\n"
          ]
        }
      ],
      "source": [
        "if 5 > 2:\n",
        "  print(\"Five is greater than two!\")"
      ]
    },
    {
      "cell_type": "code",
      "source": [
        "if 5 > 2:\n",
        "print(\"Five is greater than two!\") # Syntax error"
      ],
      "metadata": {
        "colab": {
          "base_uri": "https://localhost:8080/",
          "height": 106
        },
        "id": "KhaYjWj18NNB",
        "outputId": "7dc3cbd1-e778-4676-a557-b782426096bc"
      },
      "execution_count": null,
      "outputs": [
        {
          "output_type": "error",
          "ename": "IndentationError",
          "evalue": "expected an indented block after 'if' statement on line 1 (<ipython-input-44-249ae2a9850f>, line 2)",
          "traceback": [
            "\u001b[0;36m  File \u001b[0;32m\"<ipython-input-44-249ae2a9850f>\"\u001b[0;36m, line \u001b[0;32m2\u001b[0m\n\u001b[0;31m    print(\"Five is greater than two!\") # Syntax error\u001b[0m\n\u001b[0m    ^\u001b[0m\n\u001b[0;31mIndentationError\u001b[0m\u001b[0;31m:\u001b[0m expected an indented block after 'if' statement on line 1\n"
          ]
        }
      ]
    },
    {
      "cell_type": "markdown",
      "source": [],
      "metadata": {
        "id": "WdCw6GRH8_Yi"
      }
    },
    {
      "cell_type": "code",
      "source": [
        "if 5 > 2:\n",
        " print(\"Five is greater than two!\")\n",
        "if 5 > 2:\n",
        "        print(\"Five is greater than two!\")\n",
        "\n"
      ],
      "metadata": {
        "colab": {
          "base_uri": "https://localhost:8080/"
        },
        "id": "Q8juj7BS8Nvd",
        "outputId": "a28b6b9c-6cb3-4d38-dfba-de6fddfaf2d2"
      },
      "execution_count": null,
      "outputs": [
        {
          "output_type": "stream",
          "name": "stdout",
          "text": [
            "Five is greater than two!\n",
            "Five is greater than two!\n"
          ]
        }
      ]
    },
    {
      "cell_type": "markdown",
      "source": [
        "You have to use the same number of spaces in the same block of code, otherwise Python will give you an error:"
      ],
      "metadata": {
        "id": "vVfeVgYM8yzW"
      }
    },
    {
      "cell_type": "code",
      "source": [
        "if 5 > 2:\n",
        " print(\"Five is greater than two!\")\n",
        "        print(\"Five is greater than two!\") #Syntax error"
      ],
      "metadata": {
        "colab": {
          "base_uri": "https://localhost:8080/",
          "height": 106
        },
        "id": "_GyETsHu8xCX",
        "outputId": "8c28b3cb-80ce-46be-de94-261d5dc8db5a"
      },
      "execution_count": null,
      "outputs": [
        {
          "output_type": "error",
          "ename": "IndentationError",
          "evalue": "unexpected indent (<ipython-input-73-948dfce52970>, line 3)",
          "traceback": [
            "\u001b[0;36m  File \u001b[0;32m\"<ipython-input-73-948dfce52970>\"\u001b[0;36m, line \u001b[0;32m3\u001b[0m\n\u001b[0;31m    print(\"Five is greater than two!\") #Syntax error\u001b[0m\n\u001b[0m    ^\u001b[0m\n\u001b[0;31mIndentationError\u001b[0m\u001b[0;31m:\u001b[0m unexpected indent\n"
          ]
        }
      ]
    },
    {
      "cell_type": "markdown",
      "source": [
        "# Variable Assignment"
      ],
      "metadata": {
        "id": "gRj4UjR49BjP"
      }
    },
    {
      "cell_type": "code",
      "source": [
        "x = 5\n",
        "y = \"Hello, World!\""
      ],
      "metadata": {
        "id": "_GDCUm0W9IYJ"
      },
      "execution_count": null,
      "outputs": []
    },
    {
      "cell_type": "markdown",
      "source": [
        "##Comments"
      ],
      "metadata": {
        "id": "RevV3Lcc9Lhk"
      }
    },
    {
      "cell_type": "code",
      "source": [
        "#This is a comment.\n",
        "print(\"Hello, World!\")\n",
        "\n",
        "print(\"Hello, World!\") #This is a comment\n",
        "\n",
        "#This is a comment\n",
        "#written in\n",
        "#more than just one line\n",
        "print(\"Hello, World!\")"
      ],
      "metadata": {
        "colab": {
          "base_uri": "https://localhost:8080/"
        },
        "id": "z6OSHDP39MTx",
        "outputId": "ec2719f8-5fde-4e17-f096-c786c096fc90"
      },
      "execution_count": null,
      "outputs": [
        {
          "output_type": "stream",
          "name": "stdout",
          "text": [
            "Hello, World!\n",
            "Hello, World!\n",
            "Hello, World!\n"
          ]
        }
      ]
    },
    {
      "cell_type": "markdown",
      "source": [
        "### Multistring"
      ],
      "metadata": {
        "id": "ZKJcs0L89ecQ"
      }
    },
    {
      "cell_type": "code",
      "source": [
        "\"\"\"\n",
        "This is a comment\n",
        "written in\n",
        "more than just one line\n",
        "\"\"\"\n",
        "print(\"Hello, World!\")"
      ],
      "metadata": {
        "colab": {
          "base_uri": "https://localhost:8080/"
        },
        "id": "QQZCf2l29iuF",
        "outputId": "3bda9f11-d2a0-43fe-e3e0-4a95e35f5c96"
      },
      "execution_count": null,
      "outputs": [
        {
          "output_type": "stream",
          "name": "stdout",
          "text": [
            "Hello, World!\n"
          ]
        }
      ]
    },
    {
      "cell_type": "markdown",
      "source": [
        "### Variables do not need to be declared with any particular type, and can even change type after they have been set."
      ],
      "metadata": {
        "id": "IQWt_2ZL9uP2"
      }
    },
    {
      "cell_type": "code",
      "source": [
        "x = 4       # x is of type int\n",
        "x = \"Sally\" # x is now of type str\n",
        "print(x)"
      ],
      "metadata": {
        "colab": {
          "base_uri": "https://localhost:8080/"
        },
        "id": "zNp_qiW19tTS",
        "outputId": "556bcceb-7512-4f82-ef6a-030d95475f67"
      },
      "execution_count": null,
      "outputs": [
        {
          "output_type": "stream",
          "name": "stdout",
          "text": [
            "Sally\n"
          ]
        }
      ]
    },
    {
      "cell_type": "markdown",
      "source": [
        "Casting"
      ],
      "metadata": {
        "id": "jLq9rN5H9wdf"
      }
    },
    {
      "cell_type": "code",
      "source": [
        "x = str(3)    # x will be '3'\n",
        "y = int(3)    # y will be 3\n",
        "z = float(3)  # z will be 3.0"
      ],
      "metadata": {
        "id": "rPeyXSv79xod"
      },
      "execution_count": null,
      "outputs": []
    },
    {
      "cell_type": "markdown",
      "source": [
        "Get Type"
      ],
      "metadata": {
        "id": "OxQZHUAt92fl"
      }
    },
    {
      "cell_type": "code",
      "source": [
        "x = 5\n",
        "y = \"John\"\n",
        "print(type(x))\n",
        "print(type(y))"
      ],
      "metadata": {
        "colab": {
          "base_uri": "https://localhost:8080/"
        },
        "id": "gGk4Cmsn93vN",
        "outputId": "9112406d-af41-4d0b-8c0e-016bef558fb3"
      },
      "execution_count": null,
      "outputs": [
        {
          "output_type": "stream",
          "name": "stdout",
          "text": [
            "<class 'int'>\n",
            "<class 'str'>\n"
          ]
        }
      ]
    },
    {
      "cell_type": "markdown",
      "source": [
        "Single or Double Quotes?"
      ],
      "metadata": {
        "id": "yXGWBCzv9_FI"
      }
    },
    {
      "cell_type": "code",
      "source": [
        "x = \"John\"\n",
        "# is the same as\n",
        "x = 'John'"
      ],
      "metadata": {
        "id": "c1Iq8xmV9_ii"
      },
      "execution_count": null,
      "outputs": []
    },
    {
      "cell_type": "markdown",
      "source": [
        "Case-Sensitive"
      ],
      "metadata": {
        "id": "MzkZOVVp-C_W"
      }
    },
    {
      "cell_type": "code",
      "source": [
        "#This will create two variables:\n",
        "a = 4\n",
        "A = \"Sally\"\n",
        "#A will not overwrite a"
      ],
      "metadata": {
        "id": "bIlUWCWz-EBw"
      },
      "execution_count": null,
      "outputs": []
    },
    {
      "cell_type": "markdown",
      "source": [
        "Rules for Python variables:\n",
        "\n",
        "\n",
        "*   A variable name must start with a letter or the underscore character\n",
        "*   A variable name cannot start with a number\n",
        "*   A variable name can only contain alpha-numeric characters and underscores (A-z, 0-9, and _ )\n",
        "*   Variable names are case-sensitive (age, Age and AGE are three different variables)\n",
        "*    A variable name cannot be any of the Python keywords.\n",
        "\n",
        "\n",
        "\n",
        "\n",
        "\n",
        "  \n",
        "\n",
        "  \n",
        "  \n",
        "\n",
        "\n",
        "\n"
      ],
      "metadata": {
        "id": "EnUMp4PL-XgO"
      }
    },
    {
      "cell_type": "code",
      "source": [
        "#Legal variable names:\n",
        "myvar = \"John\"\n",
        "my_var = \"John\"\n",
        "_my_var = \"John\"\n",
        "myVar = \"John\"\n",
        "MYVAR = \"John\"\n",
        "myvar2 = \"John\"\n",
        "\n",
        "#Camel Case\n",
        "myVariableName = \"John\"\n",
        "\n",
        "#Pascal Case\n",
        "MyVariableName = \"John\"\n",
        "\n",
        "#Snake Case\n",
        "my_variable_name = \"John\""
      ],
      "metadata": {
        "id": "KyMBiZTL-jpd"
      },
      "execution_count": null,
      "outputs": []
    },
    {
      "cell_type": "markdown",
      "source": [
        "Multiple Assignments"
      ],
      "metadata": {
        "id": "h1FujVZ__EkV"
      }
    },
    {
      "cell_type": "code",
      "source": [
        "# Many Values to Multiple Variables\n",
        "x, y, z = \"Orange\", \"Banana\", \"Cherry\"\n",
        "print(x)\n",
        "print(y)\n",
        "print(z)"
      ],
      "metadata": {
        "colab": {
          "base_uri": "https://localhost:8080/"
        },
        "id": "XnKwwf80_GR7",
        "outputId": "171e66f9-648f-441c-f7a5-840b01d9b38d"
      },
      "execution_count": null,
      "outputs": [
        {
          "output_type": "stream",
          "name": "stdout",
          "text": [
            "Orange\n",
            "Banana\n",
            "Cherry\n"
          ]
        }
      ]
    },
    {
      "cell_type": "code",
      "source": [
        "#One Value to Multiple Variables\n",
        "x = y = z = \"Orange\"\n",
        "print(x)\n",
        "print(y)\n",
        "print(z)"
      ],
      "metadata": {
        "colab": {
          "base_uri": "https://localhost:8080/"
        },
        "id": "gvsT1sfV_Kcb",
        "outputId": "df1e5656-8700-4b03-84cb-db1a202c9909"
      },
      "execution_count": null,
      "outputs": [
        {
          "output_type": "stream",
          "name": "stdout",
          "text": [
            "Orange\n",
            "Orange\n",
            "Orange\n"
          ]
        }
      ]
    },
    {
      "cell_type": "markdown",
      "source": [
        "Output Variables"
      ],
      "metadata": {
        "id": "3LBuAofo_u6b"
      }
    },
    {
      "cell_type": "code",
      "source": [
        "x = \"Python\"\n",
        "y = \"is\"\n",
        "z = \"awesome\"\n",
        "print(x, y, z)\n",
        "\n",
        "#Notice the space character after \"Python \" and \"is \", without them the result would be \"Pythonisawesome\".\n",
        "x = \"Python \"\n",
        "y = \"is \"\n",
        "z = \"awesome\"\n",
        "print(x + y + z)\n",
        "\n",
        "x = 5\n",
        "y = 10\n",
        "print(x + y)"
      ],
      "metadata": {
        "colab": {
          "base_uri": "https://localhost:8080/"
        },
        "id": "OgvEZLh__vQB",
        "outputId": "54dd981f-5e7b-44bc-bed0-fdc60b1386c4"
      },
      "execution_count": null,
      "outputs": [
        {
          "output_type": "stream",
          "name": "stdout",
          "text": [
            "Python is awesome\n",
            "Python is awesome\n",
            "15\n"
          ]
        }
      ]
    },
    {
      "cell_type": "code",
      "source": [
        "#In the print() function, when you try to combine a string and a number with the + operator, Python will give you an error:\n",
        "\n",
        "print(\"Hello\" + 123)\n",
        "#TypeError: can only concatenate str (not \"int\") to str"
      ],
      "metadata": {
        "colab": {
          "base_uri": "https://localhost:8080/",
          "height": 211
        },
        "id": "tgtX0skB_4XU",
        "outputId": "5d64d7be-9e6e-4bcc-9fc9-3aab0dd512e2"
      },
      "execution_count": null,
      "outputs": [
        {
          "output_type": "error",
          "ename": "TypeError",
          "evalue": "can only concatenate str (not \"int\") to str",
          "traceback": [
            "\u001b[0;31m---------------------------------------------------------------------------\u001b[0m",
            "\u001b[0;31mTypeError\u001b[0m                                 Traceback (most recent call last)",
            "\u001b[0;32m<ipython-input-57-ed14f725b002>\u001b[0m in \u001b[0;36m<cell line: 3>\u001b[0;34m()\u001b[0m\n\u001b[1;32m      1\u001b[0m \u001b[0;31m#In the print() function, when you try to combine a string and a number with the + operator, Python will give you an error:\u001b[0m\u001b[0;34m\u001b[0m\u001b[0;34m\u001b[0m\u001b[0m\n\u001b[1;32m      2\u001b[0m \u001b[0;34m\u001b[0m\u001b[0m\n\u001b[0;32m----> 3\u001b[0;31m \u001b[0mprint\u001b[0m\u001b[0;34m(\u001b[0m\u001b[0;34m\"Hello\"\u001b[0m \u001b[0;34m+\u001b[0m \u001b[0;36m123\u001b[0m\u001b[0;34m)\u001b[0m\u001b[0;34m\u001b[0m\u001b[0;34m\u001b[0m\u001b[0m\n\u001b[0m\u001b[1;32m      4\u001b[0m \u001b[0;31m#TypeError: can only concatenate str (not \"int\") to str\u001b[0m\u001b[0;34m\u001b[0m\u001b[0;34m\u001b[0m\u001b[0m\n",
            "\u001b[0;31mTypeError\u001b[0m: can only concatenate str (not \"int\") to str"
          ]
        }
      ]
    },
    {
      "cell_type": "code",
      "source": [
        "# The best way to output multiple variables in the print() function is to separate them with commas, which even support different data types:\n",
        "x = 5\n",
        "y = \"John\"\n",
        "print(x, y)\n"
      ],
      "metadata": {
        "colab": {
          "base_uri": "https://localhost:8080/"
        },
        "id": "1ZNcSCEp_-bt",
        "outputId": "acc85dd5-efaa-4670-e8d3-0a41412eedd5"
      },
      "execution_count": null,
      "outputs": [
        {
          "output_type": "stream",
          "name": "stdout",
          "text": [
            "5 John\n"
          ]
        }
      ]
    },
    {
      "cell_type": "markdown",
      "source": [
        "Global Assignment"
      ],
      "metadata": {
        "id": "L_krbF1DAT2E"
      }
    },
    {
      "cell_type": "code",
      "source": [
        "x = \"awesome\"\n",
        "\n",
        "def myfunc():\n",
        "  global x\n",
        "  x = \"fantastic\"\n",
        "\n",
        "myfunc()\n",
        "\n",
        "print(\"Python is \" + x)"
      ],
      "metadata": {
        "colab": {
          "base_uri": "https://localhost:8080/"
        },
        "id": "rB5STfIiAVNe",
        "outputId": "94732406-fbeb-4e8d-9b4e-8f8ecd83de62"
      },
      "execution_count": null,
      "outputs": [
        {
          "output_type": "stream",
          "name": "stdout",
          "text": [
            "Python is fantastic\n"
          ]
        }
      ]
    },
    {
      "cell_type": "markdown",
      "source": [
        "# Data Types"
      ],
      "metadata": {
        "id": "wQ3Tr0LwBOkt"
      }
    },
    {
      "cell_type": "markdown",
      "source": [
        "### Declaring data type **(Dynamic Typing)**"
      ],
      "metadata": {
        "id": "3HPPoV43Bflz"
      }
    },
    {
      "cell_type": "code",
      "source": [
        "x = \"Hello World\"\t#str\n",
        "x = 20\t#int\n",
        "x = 20.5\t#float\n",
        "x = 1j\t#complex\n",
        "x = [\"apple\", \"banana\", \"cherry\"]\t#list\n",
        "x = (\"apple\", \"banana\", \"cherry\")\t#tuple\n",
        "x = range(6)\t#range\n",
        "x = {\"name\" : \"John\", \"age\" : 36}\t#dict\n",
        "x = {\"apple\", \"banana\", \"cherry\"}\t#set\n",
        "x = frozenset({\"apple\", \"banana\", \"cherry\"})\t#frozenset\n",
        "x = True\t#bool\n",
        "x = b\"Hello\"\t#bytes\n",
        "x = bytearray(5)\t#bytearray\n",
        "x = memoryview(bytes(5))\t#memoryview\n",
        "x = None\t#NoneType"
      ],
      "metadata": {
        "id": "PPQoZbxgBSKs"
      },
      "execution_count": null,
      "outputs": []
    },
    {
      "cell_type": "markdown",
      "source": [
        "### Setting the Specific Data Type **(Type Casting)**"
      ],
      "metadata": {
        "id": "nyD0DIk4Bh5d"
      }
    },
    {
      "cell_type": "code",
      "source": [
        "x = str(\"Hello World\")\t#str\n",
        "x = int(20)\t#int\n",
        "x = float(20.5)\t#float\n",
        "x = complex(1j)\t#complex\n",
        "x = list((\"apple\", \"banana\", \"cherry\"))\t#list\n",
        "x = tuple((\"apple\", \"banana\", \"cherry\"))\t#tuple\n",
        "x = range(6)\t#range\n",
        "x = dict(name=\"John\", age=36)\t#dict\n",
        "x = set((\"apple\", \"banana\", \"cherry\"))\t#set\n",
        "x = frozenset((\"apple\", \"banana\", \"cherry\"))\t#frozenset\n",
        "x = bool(5)\t#bool\n",
        "x = bytes(5)\t#bytes\n",
        "x = bytearray(5)\t#bytearray\n",
        "x = memoryview(bytes(5))\t#memoryview\n",
        "\n",
        "#Numeric precision adjustment\n",
        "\n",
        "# See how round() rounds 1.5 up to 2, and 2.5 down to 2!\n",
        "x = 2.5\n",
        "\n",
        "y = round(x)\n",
        "print(y)\n",
        "\n",
        "z = 1.5\n",
        "\n",
        "y = round(z)\n",
        "print(y)"
      ],
      "metadata": {
        "colab": {
          "base_uri": "https://localhost:8080/"
        },
        "id": "dOHcTbRXBpO6",
        "outputId": "a631cc14-c718-499c-b1bb-841139670293"
      },
      "execution_count": null,
      "outputs": [
        {
          "output_type": "stream",
          "name": "stdout",
          "text": [
            "2\n",
            "2\n"
          ]
        }
      ]
    },
    {
      "cell_type": "markdown",
      "source": [
        "# Python Numbers"
      ],
      "metadata": {
        "id": "4tf78019B8kk"
      }
    },
    {
      "cell_type": "markdown",
      "source": [
        "Int, or integer, is a **whole number, positive or negative, without decimals, of unlimited length.**\n",
        "\n"
      ],
      "metadata": {
        "id": "UTnkdHaBCD3T"
      }
    },
    {
      "cell_type": "code",
      "source": [
        "x = 1\n",
        "y = 35656222554887711\n",
        "z = -3255522\n",
        "\n",
        "print(type(x))\n",
        "print(type(y))\n",
        "print(type(z))"
      ],
      "metadata": {
        "colab": {
          "base_uri": "https://localhost:8080/"
        },
        "id": "sMlZUFAgCAmr",
        "outputId": "0f984999-8952-4d5e-a3ad-377c5bbe57bf"
      },
      "execution_count": null,
      "outputs": [
        {
          "output_type": "stream",
          "name": "stdout",
          "text": [
            "<class 'int'>\n",
            "<class 'int'>\n",
            "<class 'int'>\n"
          ]
        }
      ]
    },
    {
      "cell_type": "markdown",
      "source": [
        "Float, or \"floating point number\" is a number, positive or negative, **containing one or more decimals**."
      ],
      "metadata": {
        "id": "c70yMcwMCHsR"
      }
    },
    {
      "cell_type": "code",
      "source": [
        "x = 1.10\n",
        "y = 1.0\n",
        "z = -35.59\n",
        "\n",
        "print(type(x))\n",
        "print(type(y))\n",
        "print(type(z))"
      ],
      "metadata": {
        "colab": {
          "base_uri": "https://localhost:8080/"
        },
        "id": "8fXlP60OCKQE",
        "outputId": "360423cd-3bce-4765-f9e0-252360b465d1"
      },
      "execution_count": null,
      "outputs": [
        {
          "output_type": "stream",
          "name": "stdout",
          "text": [
            "<class 'float'>\n",
            "<class 'float'>\n",
            "<class 'float'>\n"
          ]
        }
      ]
    },
    {
      "cell_type": "markdown",
      "source": [
        "Float can also be scientific numbers with an \"e\" to indicate the power of 10."
      ],
      "metadata": {
        "id": "64YFDI3_CO8P"
      }
    },
    {
      "cell_type": "code",
      "source": [
        "x = 35e3\n",
        "y = 12E4\n",
        "z = -87.7e100\n",
        "\n",
        "print(type(x))\n",
        "print(type(y))\n",
        "print(type(z))"
      ],
      "metadata": {
        "colab": {
          "base_uri": "https://localhost:8080/"
        },
        "id": "Vq-zeVlsCNFO",
        "outputId": "10cd1763-8b28-4941-ff68-2f4187abfc7d"
      },
      "execution_count": null,
      "outputs": [
        {
          "output_type": "stream",
          "name": "stdout",
          "text": [
            "<class 'float'>\n",
            "<class 'float'>\n",
            "<class 'float'>\n"
          ]
        }
      ]
    },
    {
      "cell_type": "markdown",
      "source": [
        "Type Conversion"
      ],
      "metadata": {
        "id": "sePQXGUCCQ8J"
      }
    },
    {
      "cell_type": "code",
      "source": [
        "x = 1    # int\n",
        "y = 2.8  # float\n",
        "z = 1j   # complex\n",
        "\n",
        "#convert from int to float:\n",
        "a = float(x)\n",
        "\n",
        "#convert from float to int:\n",
        "b = int(y)\n",
        "\n",
        "#convert from int to complex:\n",
        "c = complex(x)\n",
        "\n",
        "print(a)\n",
        "print(b)\n",
        "print(c)\n",
        "\n",
        "print(type(a))\n",
        "print(type(b))\n",
        "print(type(c))"
      ],
      "metadata": {
        "colab": {
          "base_uri": "https://localhost:8080/"
        },
        "id": "Kvx4eyF1DK78",
        "outputId": "39101e47-3ecf-4900-aa50-66fc3498013f"
      },
      "execution_count": null,
      "outputs": [
        {
          "output_type": "stream",
          "name": "stdout",
          "text": [
            "1.0\n",
            "2\n",
            "(1+0j)\n",
            "<class 'float'>\n",
            "<class 'int'>\n",
            "<class 'complex'>\n"
          ]
        }
      ]
    },
    {
      "cell_type": "markdown",
      "source": [
        "# Python Strings"
      ],
      "metadata": {
        "id": "_M74JWerF_ZX"
      }
    },
    {
      "cell_type": "markdown",
      "source": [
        "Quotes Inside Quotes\n",
        "\n",
        "You can use quotes inside a string, as long as they don't match the quotes surrounding the string:"
      ],
      "metadata": {
        "id": "G0cQxWxSGHNu"
      }
    },
    {
      "cell_type": "code",
      "source": [
        "print(\"It's alright\")\n",
        "print(\"He is called 'Johnny'\")\n",
        "print('He is called \"Johnny\"')"
      ],
      "metadata": {
        "colab": {
          "base_uri": "https://localhost:8080/"
        },
        "id": "FZWFzHYpGJHw",
        "outputId": "19746173-439f-4805-cb3b-8a95a6b04aec"
      },
      "execution_count": null,
      "outputs": [
        {
          "output_type": "stream",
          "name": "stdout",
          "text": [
            "It's alright\n",
            "He is called 'Johnny'\n",
            "He is called \"Johnny\"\n"
          ]
        }
      ]
    },
    {
      "cell_type": "markdown",
      "source": [
        "## Multiline Strings\n",
        "\n",
        "You can assign a multiline string to a variable by using three quotes:"
      ],
      "metadata": {
        "id": "nGQdlJutGQOd"
      }
    },
    {
      "cell_type": "code",
      "source": [
        "# three double quotes\n",
        "a = \"\"\"Lorem ipsum dolor sit amet,\n",
        "consectetur adipiscing elit,\n",
        "sed do eiusmod tempor incididunt\n",
        "ut labore et dolore magna aliqua.\"\"\"\n",
        "print(a)\n",
        "\n",
        "# three single quotes\n",
        "b = '''Lorem ipsum dolor sit amet,\n",
        "consectetur adipiscing elit,\n",
        "sed do eiusmod tempor incididunt\n",
        "ut labore et dolore magna aliqua.'''\n",
        "print(b)\n",
        "\n",
        "# Note: in the result, the line breaks are inserted at the same position as in the code."
      ],
      "metadata": {
        "colab": {
          "base_uri": "https://localhost:8080/"
        },
        "id": "EAzdxW5OGNUi",
        "outputId": "53bbd354-3063-426c-bcc8-25ffab622133"
      },
      "execution_count": null,
      "outputs": [
        {
          "output_type": "stream",
          "name": "stdout",
          "text": [
            "Lorem ipsum dolor sit amet,\n",
            "consectetur adipiscing elit,\n",
            "sed do eiusmod tempor incididunt\n",
            "ut labore et dolore magna aliqua.\n",
            "Lorem ipsum dolor sit amet,\n",
            "consectetur adipiscing elit,\n",
            "sed do eiusmod tempor incididunt\n",
            "ut labore et dolore magna aliqua.\n"
          ]
        }
      ]
    },
    {
      "cell_type": "markdown",
      "source": [
        "## Strings are Arrays"
      ],
      "metadata": {
        "id": "Q6rBBoAQGjgO"
      }
    },
    {
      "cell_type": "code",
      "source": [
        "a = \"Hello, World!\"\n",
        "print(a[1])"
      ],
      "metadata": {
        "colab": {
          "base_uri": "https://localhost:8080/"
        },
        "id": "Ppdr6kZ2GmS8",
        "outputId": "97e57414-21b6-4fe7-ac6c-a8c0820bc988"
      },
      "execution_count": null,
      "outputs": [
        {
          "output_type": "stream",
          "name": "stdout",
          "text": [
            "e\n"
          ]
        }
      ]
    },
    {
      "cell_type": "markdown",
      "source": [
        "Since strings are arrays, we can loop through the characters in a string, with a for loop."
      ],
      "metadata": {
        "id": "l3IP7nHEGpRj"
      }
    },
    {
      "cell_type": "code",
      "source": [
        "for x in \"banana\":\n",
        "  print(x)"
      ],
      "metadata": {
        "colab": {
          "base_uri": "https://localhost:8080/"
        },
        "id": "15DRdD0JGp-h",
        "outputId": "bdb828a6-bdc9-4a3b-c1e3-44cd3d42ea30"
      },
      "execution_count": null,
      "outputs": [
        {
          "output_type": "stream",
          "name": "stdout",
          "text": [
            "b\n",
            "a\n",
            "n\n",
            "a\n",
            "n\n",
            "a\n"
          ]
        }
      ]
    },
    {
      "cell_type": "markdown",
      "source": [
        "## String Length\n",
        "To get the length of a string, use the len() function."
      ],
      "metadata": {
        "id": "-Ec75RiFGu_G"
      }
    },
    {
      "cell_type": "code",
      "source": [
        "a = \"Hello, World!\"\n",
        "print(len(a))"
      ],
      "metadata": {
        "colab": {
          "base_uri": "https://localhost:8080/"
        },
        "id": "LT8VV46MGxYP",
        "outputId": "330bbcaa-4e8c-4782-f942-f1fc5953d0c8"
      },
      "execution_count": null,
      "outputs": [
        {
          "output_type": "stream",
          "name": "stdout",
          "text": [
            "13\n"
          ]
        }
      ]
    },
    {
      "cell_type": "markdown",
      "source": [
        "## Check String\n",
        "To check if a certain phrase or character is present in a string, we can use the keyword in."
      ],
      "metadata": {
        "id": "f8Y2YhWMHBT1"
      }
    },
    {
      "cell_type": "code",
      "source": [
        "txt = \"The best things in life are free!\"\n",
        "print(\"free\" in txt)"
      ],
      "metadata": {
        "colab": {
          "base_uri": "https://localhost:8080/"
        },
        "id": "bMmFr08_HF4J",
        "outputId": "7d0ae2d8-965d-4209-e900-61a1e8c3ee86"
      },
      "execution_count": null,
      "outputs": [
        {
          "output_type": "stream",
          "name": "stdout",
          "text": [
            "True\n"
          ]
        }
      ]
    },
    {
      "cell_type": "code",
      "source": [
        "txt = \"The best things in life are free!\"\n",
        "if \"free\" in txt:\n",
        "  print(\"Yes, 'free' is present.\")"
      ],
      "metadata": {
        "colab": {
          "base_uri": "https://localhost:8080/"
        },
        "id": "2fFt1gdcHJLe",
        "outputId": "8e926626-737e-400c-f0fb-c91e93164c1f"
      },
      "execution_count": null,
      "outputs": [
        {
          "output_type": "stream",
          "name": "stdout",
          "text": [
            "Yes, 'free' is present.\n"
          ]
        }
      ]
    },
    {
      "cell_type": "markdown",
      "source": [
        "To check if a certain phrase or character is NOT present in a string, we can use the keyword not in."
      ],
      "metadata": {
        "id": "Ykvnl7fKHLNd"
      }
    },
    {
      "cell_type": "code",
      "source": [
        "txt = \"The best things in life are free!\"\n",
        "print(\"expensive\" not in txt)"
      ],
      "metadata": {
        "colab": {
          "base_uri": "https://localhost:8080/"
        },
        "id": "8Rbjg6DwHML_",
        "outputId": "f39a8802-b43e-4295-d62e-3a38c1ebe422"
      },
      "execution_count": null,
      "outputs": [
        {
          "output_type": "stream",
          "name": "stdout",
          "text": [
            "True\n"
          ]
        }
      ]
    },
    {
      "cell_type": "code",
      "source": [
        "txt = \"The best things in life are free!\"\n",
        "if \"expensive\" not in txt:\n",
        "  print(\"No, 'expensive' is NOT present.\")"
      ],
      "metadata": {
        "colab": {
          "base_uri": "https://localhost:8080/"
        },
        "id": "7DwAvqV_HPN-",
        "outputId": "882161d4-22c9-49c1-8eab-d2210c19399b"
      },
      "execution_count": null,
      "outputs": [
        {
          "output_type": "stream",
          "name": "stdout",
          "text": [
            "No, 'expensive' is NOT present.\n"
          ]
        }
      ]
    },
    {
      "cell_type": "markdown",
      "source": [
        "## Escape Characters\n",
        "To insert characters that are illegal in a string, use an escape character.\n",
        "\n",
        "An escape character is a backslash `\\` followed by the character you want to insert.\n",
        "\n",
        "An example of an illegal character is a double quote inside a string that is surrounded by double quotes:"
      ],
      "metadata": {
        "id": "djSH45-0YVcM"
      }
    },
    {
      "cell_type": "code",
      "source": [
        "txt = \"We are the so-called \\\"Vikings\\\" from the north.\""
      ],
      "metadata": {
        "id": "fPFOv8BxYZ2A"
      },
      "execution_count": null,
      "outputs": []
    },
    {
      "cell_type": "markdown",
      "source": [
        "### Examples"
      ],
      "metadata": {
        "id": "Ct_ivKq_ZRhU"
      }
    },
    {
      "cell_type": "code",
      "source": [
        "# ignore \\\n",
        "s = 'This string will not include \\\n",
        "backslashes or newline characters.'\n",
        "print (s)\n",
        "\n",
        "# escape backslash\n",
        "s= 'The \\\\character is called backslash'\n",
        "print (s)\n",
        "\n",
        "# escape single quote\n",
        "s='Hello \\'Python\\''\n",
        "print (s)\n",
        "\n",
        "# escape double quote\n",
        "s=\"Hello \\\"Python\\\"\"\n",
        "print (s)\n",
        "\n",
        "# escape \\b to generate ASCII backspace\n",
        "s='Hel\\blo'\n",
        "print (s)\n",
        "\n",
        "# ASCII Bell character\n",
        "s='Hello\\a'\n",
        "print (s)\n",
        "\n",
        "# newline\n",
        "s='Hello\\nPython'\n",
        "print (s)\n",
        "\n",
        "# Horizontal tab\n",
        "s='Hello\\tPython'\n",
        "print (s)\n",
        "\n",
        "# form feed\n",
        "s= \"hello\\fworld\"\n",
        "print (s)\n",
        "\n",
        "# Octal notation\n",
        "s=\"\\101\"\n",
        "print(s)\n",
        "\n",
        "# Hexadecimal notation\n",
        "s=\"\\x41\"\n",
        "print (s)"
      ],
      "metadata": {
        "colab": {
          "base_uri": "https://localhost:8080/"
        },
        "id": "Ip54F4nMZQAK",
        "outputId": "72b0b536-9eed-44b6-8641-23951d5979e1"
      },
      "execution_count": null,
      "outputs": [
        {
          "output_type": "stream",
          "name": "stdout",
          "text": [
            "This string will not include backslashes or newline characters.\n",
            "The \\character is called backslash\n",
            "Hello 'Python'\n",
            "Hello \"Python\"\n",
            "Hel\blo\n",
            "Hello\u0007\n",
            "Hello\n",
            "Python\n",
            "Hello\tPython\n",
            "hello\fworld\n",
            "A\n",
            "A\n"
          ]
        }
      ]
    },
    {
      "cell_type": "markdown",
      "source": [
        "### Raw String\n",
        "\n",
        "In the following example, when a normal string is printed the escape character '\\n' is processed to introduce a newline. However, because of the raw string operator 'r' the effect of escape character is not translated as per its meaning."
      ],
      "metadata": {
        "id": "0etCAaP-Y-gZ"
      }
    },
    {
      "cell_type": "code",
      "source": [
        "normal = \"Hello\\nWorld\"\n",
        "print (normal)\n",
        "\n",
        "raw = r\"Hello\\nWorld\"\n",
        "print (raw)"
      ],
      "metadata": {
        "colab": {
          "base_uri": "https://localhost:8080/"
        },
        "id": "s8X-OsxQYhk6",
        "outputId": "0804bf87-ef1b-40b9-a970-9ae411927730"
      },
      "execution_count": null,
      "outputs": [
        {
          "output_type": "stream",
          "name": "stdout",
          "text": [
            "Hello\n",
            "World\n",
            "Hello\\nWorld\n"
          ]
        }
      ]
    },
    {
      "cell_type": "markdown",
      "source": [
        "# Python Boolean\n",
        "When you compare two values, the expression is evaluated and Python returns the Boolean answer:"
      ],
      "metadata": {
        "id": "ksooF2SKe6XB"
      }
    },
    {
      "cell_type": "code",
      "source": [
        "a = 200\n",
        "b = 33\n",
        "\n",
        "if b > a:\n",
        "  print(\"b is greater than a\")\n",
        "else:\n",
        "  print(\"b is not greater than a\")"
      ],
      "metadata": {
        "id": "jqFn8XyXfAl6"
      },
      "execution_count": null,
      "outputs": []
    },
    {
      "cell_type": "markdown",
      "source": [
        "### Evaluate Values and Variables\n",
        "The bool() function allows you to evaluate any value, and give you True or False in return,"
      ],
      "metadata": {
        "id": "BlefEbPKfLUa"
      }
    },
    {
      "cell_type": "code",
      "source": [
        "print(bool(\"Hello\"))\n",
        "print(bool(15))"
      ],
      "metadata": {
        "colab": {
          "base_uri": "https://localhost:8080/"
        },
        "id": "v0GhkKpFfH2j",
        "outputId": "4d9240f2-3abb-4c5d-8007-b6a36fd5120c"
      },
      "execution_count": null,
      "outputs": [
        {
          "output_type": "stream",
          "name": "stdout",
          "text": [
            "True\n",
            "True\n"
          ]
        }
      ]
    },
    {
      "cell_type": "markdown",
      "source": [
        "### **Most Values are True**\n",
        "Almost any value is evaluated to True if it has some sort of content.\n",
        "\n",
        "Any string is True, except empty strings.\n",
        "\n",
        "Any number is True, except 0.\n",
        "\n",
        "Any list, tuple, set, and dictionary are True, except empty ones."
      ],
      "metadata": {
        "id": "5uJqUBg1fyNs"
      }
    },
    {
      "cell_type": "code",
      "source": [
        "# The following will return True\n",
        "bool(\"abc\")\n",
        "bool(123)\n",
        "bool([\"apple\", \"cherry\", \"banana\"])"
      ],
      "metadata": {
        "id": "pQmWHBVzf5a-"
      },
      "execution_count": null,
      "outputs": []
    },
    {
      "cell_type": "markdown",
      "source": [
        "In fact, there are not many values that evaluate to `False`, except empty values, such as `(), [], {}, \"\"`, the number `0`, and the value `None`. And of course the value `False` evaluates to `False`."
      ],
      "metadata": {
        "id": "xEL-XqHygCJS"
      }
    },
    {
      "cell_type": "markdown",
      "source": [
        "### Functions can Return a Boolean\n",
        "You can create functions that returns a Boolean Value:"
      ],
      "metadata": {
        "id": "Yie71sIzggga"
      }
    },
    {
      "cell_type": "code",
      "source": [
        "def myFunction() :\n",
        "  return True\n",
        "\n",
        "if myFunction():\n",
        "  print(\"YES!\")\n",
        "else:\n",
        "  print(\"NO!\")"
      ],
      "metadata": {
        "id": "JOcuVxzcgf5j"
      },
      "execution_count": null,
      "outputs": []
    },
    {
      "cell_type": "markdown",
      "source": [
        "# Python Operators"
      ],
      "metadata": {
        "id": "ROh1It5bbij_"
      }
    },
    {
      "cell_type": "markdown",
      "source": [
        "## Arithmetic Operators\n",
        "Arithmetic operators are used with numeric values to perform common mathematical operations:"
      ],
      "metadata": {
        "id": "1-QFMNBmbwFT"
      }
    },
    {
      "cell_type": "code",
      "source": [
        "a = 7\n",
        "b = 2\n",
        "\n",
        "# addition\n",
        "print ('Sum: ', a + b)\n",
        "\n",
        "# subtraction\n",
        "print ('Subtraction: ', a - b)\n",
        "\n",
        "# multiplication\n",
        "print ('Multiplication: ', a * b)\n",
        "\n",
        "# division\n",
        "print ('Division: ', a / b)\n",
        "\n",
        "# floor division\n",
        "print ('Floor Division: ', a // b)\n",
        "\n",
        "# modulo\n",
        "print ('Modulo: ', a % b)\n",
        "\n",
        "# a to the power b\n",
        "print ('Power: ', a ** b)"
      ],
      "metadata": {
        "colab": {
          "base_uri": "https://localhost:8080/"
        },
        "id": "36vulwBPb9c9",
        "outputId": "5ded1af1-1a05-475b-d606-2a152be15cf1"
      },
      "execution_count": null,
      "outputs": [
        {
          "output_type": "stream",
          "name": "stdout",
          "text": [
            "Sum:  9\n",
            "Subtraction:  5\n",
            "Multiplication:  14\n",
            "Division:  3.5\n",
            "Floor Division:  3\n",
            "Modulo:  1\n",
            "Power:  49\n"
          ]
        }
      ]
    },
    {
      "cell_type": "markdown",
      "source": [
        "## Assignment Operators\n",
        "Assignment operators are used to assign values to variables:"
      ],
      "metadata": {
        "id": "JSNYcXVIcDAV"
      }
    },
    {
      "cell_type": "code",
      "source": [
        "# assign 10 to a\n",
        "a = 10\n",
        "\n",
        "# assign 5 to b\n",
        "b = 5\n",
        "\n",
        "# assign the sum of a and b to a\n",
        "a += b      # a = a + b\n",
        "\n",
        "print(a)\n",
        "\n",
        "# Output: 15\n",
        "\n",
        "# assign 5 to a\n",
        "x = 5\n",
        "\n",
        "# same as x = x % 3\n",
        "x%=3\n",
        "\n",
        "print(x)\n",
        "\n",
        "#Output: 2\n",
        "\n",
        "# assign 5 10 y\n",
        "y = 5\n",
        "\n",
        "# same as x = x ** 3\n",
        "y **= 3\n",
        "\n",
        "print(y)\n",
        "# Output: 125"
      ],
      "metadata": {
        "colab": {
          "base_uri": "https://localhost:8080/"
        },
        "id": "4JJn1g9mcLO3",
        "outputId": "2c7318af-a3a7-413a-8fc1-a155ddd1032c"
      },
      "execution_count": null,
      "outputs": [
        {
          "output_type": "stream",
          "name": "stdout",
          "text": [
            "15\n",
            "2\n",
            "125\n"
          ]
        }
      ]
    },
    {
      "cell_type": "markdown",
      "source": [
        "## Comparison Operators\n",
        "Comparison operators are used to compare two values:"
      ],
      "metadata": {
        "id": "oCMfNzMjdWSv"
      }
    },
    {
      "cell_type": "code",
      "source": [
        "a = 5\n",
        "\n",
        "b = 2\n",
        "\n",
        "# equal to operator\n",
        "print('a == b =', a == b)\n",
        "\n",
        "# not equal to operator\n",
        "print('a != b =', a != b)\n",
        "\n",
        "# greater than operator\n",
        "print('a > b =', a > b)\n",
        "\n",
        "# less than operator\n",
        "print('a < b =', a < b)\n",
        "\n",
        "# greater than or equal to operator\n",
        "print('a >= b =', a >= b)\n",
        "\n",
        "# less than or equal to operator\n",
        "print('a <= b =', a <= b)"
      ],
      "metadata": {
        "colab": {
          "base_uri": "https://localhost:8080/"
        },
        "id": "qsLhXRJ7dd3A",
        "outputId": "223e06cb-403e-4bb0-e701-d6dfe771da81"
      },
      "execution_count": null,
      "outputs": [
        {
          "output_type": "stream",
          "name": "stdout",
          "text": [
            "a == b = False\n",
            "a != b = True\n",
            "a > b = True\n",
            "a < b = False\n",
            "a >= b = True\n",
            "a <= b = False\n"
          ]
        }
      ]
    },
    {
      "cell_type": "markdown",
      "source": [
        "## Logical Operators\n",
        "Logical operators are used to combine conditional statements:"
      ],
      "metadata": {
        "id": "po0HwDq4dkIi"
      }
    },
    {
      "cell_type": "code",
      "source": [
        "# logical AND\n",
        "print(True and True)     # True\n",
        "print(True and False)    # False\n",
        "\n",
        "# logical OR\n",
        "print(True or False)     # True\n",
        "\n",
        "# logical NOT, reverse the result\n",
        "print(not True)          # False"
      ],
      "metadata": {
        "id": "cv9x2OrXdovz",
        "colab": {
          "base_uri": "https://localhost:8080/"
        },
        "outputId": "e5517ce1-1127-482a-f8c2-673f569dac5b"
      },
      "execution_count": null,
      "outputs": [
        {
          "output_type": "stream",
          "name": "stdout",
          "text": [
            "True\n",
            "False\n",
            "True\n",
            "False\n"
          ]
        }
      ]
    },
    {
      "cell_type": "code",
      "source": [
        "a = 10\n",
        "\n",
        "if a:\n",
        "    print(\"Boolean value of a is True\")\n",
        "if not (a % 3 == 0 or a % 5 == 0):\n",
        "    print(\"10 is not divisible by either 3 or 5\")\n",
        "else:\n",
        "    print(\"10 is divisible by either 3 or 5\")"
      ],
      "metadata": {
        "colab": {
          "base_uri": "https://localhost:8080/"
        },
        "id": "qUTTVcW-hJOJ",
        "outputId": "7aa66270-29af-474a-ced3-c883067d777a"
      },
      "execution_count": null,
      "outputs": [
        {
          "output_type": "stream",
          "name": "stdout",
          "text": [
            "Boolean value of a is True\n",
            "10 is divisible by either 3 or 5\n"
          ]
        }
      ]
    },
    {
      "cell_type": "markdown",
      "source": [
        "## Identity Operators\n",
        "Identity operators are used to compare the objects, not if they are equal, but if they are actually the same object, with the same memory location:"
      ],
      "metadata": {
        "id": "FVP29YuPdron"
      }
    },
    {
      "cell_type": "code",
      "source": [
        "x1 = 5\n",
        "y1 = 5\n",
        "x2 = 'Hello'\n",
        "y2 = 'Hello'\n",
        "x3 = [1,2,3]\n",
        "y3 = [1,2,3]\n",
        "\n",
        "print(x1 is not y1)  # prints False\n",
        "\n",
        "print(x2 is y2)  # prints True\n",
        "\n",
        "print(x3 is y3)  # prints False because x3 is not the same object as y3, even if they have the same content"
      ],
      "metadata": {
        "colab": {
          "base_uri": "https://localhost:8080/"
        },
        "id": "tZagUOM6dxN7",
        "outputId": "b1f26580-45c4-4a5d-ee2c-7bd3a9b009ad"
      },
      "execution_count": null,
      "outputs": [
        {
          "output_type": "stream",
          "name": "stdout",
          "text": [
            "False\n",
            "True\n",
            "False\n"
          ]
        }
      ]
    },
    {
      "cell_type": "code",
      "source": [
        "a=[1,2,3]\n",
        "b=[1,2,3]\n",
        "print (\"id(a), id(b):\", id(a), id(b))\n",
        "print (\"a is b:\", a is b)\n",
        "print (\"b is not a:\", b is not a)\n",
        "\n",
        "print (id(a[0]), id(a[1]), id(a[2]))\n",
        "print (id(b[0]), id(b[1]), id(b[2]))\n",
        "print(a[0] is b[0])"
      ],
      "metadata": {
        "colab": {
          "base_uri": "https://localhost:8080/"
        },
        "id": "DvtF3jd1cUMH",
        "outputId": "0b2860a4-5d17-4148-cf28-0a94722dad08"
      },
      "execution_count": null,
      "outputs": [
        {
          "output_type": "stream",
          "name": "stdout",
          "text": [
            "id(a), id(b): 137247697652352 137247697652160\n",
            "a is b: False\n",
            "b is not a: True\n",
            "137247995445488 137247995445520 137247995445552\n",
            "137247995445488 137247995445520 137247995445552\n",
            "True\n"
          ]
        }
      ]
    },
    {
      "cell_type": "markdown",
      "source": [
        "### Difference between` ‘==’` and `‘is’` Operator\n",
        "The equality operator is used to compare the value of two variables, whereas the identities operator is used to compare the memory location of two variables."
      ],
      "metadata": {
        "id": "HmHgsl_oeGRy"
      }
    },
    {
      "cell_type": "code",
      "source": [
        "# Python program to illustrate the use\n",
        "# of 'is' and '==' operators\n",
        "lst1 = [1, 2, 3]\n",
        "lst2 = [1, 2, 3]\n",
        "\n",
        "# using 'is' and '==' operators\n",
        "print(lst1 is lst2)\n",
        "print(lst1 == lst2)"
      ],
      "metadata": {
        "colab": {
          "base_uri": "https://localhost:8080/"
        },
        "id": "QxVwyaQeeLM8",
        "outputId": "b79b5661-4532-4e6d-9c2b-a9aefcec0499"
      },
      "execution_count": null,
      "outputs": [
        {
          "output_type": "stream",
          "name": "stdout",
          "text": [
            "False\n",
            "True\n"
          ]
        }
      ]
    },
    {
      "cell_type": "markdown",
      "source": [
        "## Membership Operators\n",
        "Membership operators are used to test if a sequence is presented in an object:"
      ],
      "metadata": {
        "id": "DSiViD1Pd4ti"
      }
    },
    {
      "cell_type": "code",
      "source": [
        "message = 'Hello world'\n",
        "dict1 = {1:'a', 2:'b'}\n",
        "\n",
        "# check if 'H' is present in message string\n",
        "print('H' in message)  # prints True\n",
        "\n",
        "# check if 'hello' is present in message string\n",
        "print('hello' not in message)  # prints True, case-sensitive\n",
        "\n",
        "# check if '1' key is present in dict1\n",
        "print(1 in dict1)  # prints True\n",
        "\n",
        "# check if 'a' key is present in dict1\n",
        "print('a' in dict1)  # prints False"
      ],
      "metadata": {
        "colab": {
          "base_uri": "https://localhost:8080/"
        },
        "id": "mHM-MBUid9NR",
        "outputId": "8d91a7a0-c239-498b-d014-50b2e6dce511"
      },
      "execution_count": null,
      "outputs": [
        {
          "output_type": "stream",
          "name": "stdout",
          "text": [
            "True\n",
            "False\n",
            "True\n",
            "False\n"
          ]
        }
      ]
    },
    {
      "cell_type": "markdown",
      "source": [
        "# Python If ... Else\n",
        "An \"if statement\" is written by using the if keyword."
      ],
      "metadata": {
        "id": "XHjWUnoBk2Zp"
      }
    },
    {
      "cell_type": "code",
      "source": [
        "a = 33\n",
        "b = 200\n",
        "if b > a:\n",
        "  print(\"b is greater than a\")"
      ],
      "metadata": {
        "colab": {
          "base_uri": "https://localhost:8080/"
        },
        "id": "craKyxvtlN8G",
        "outputId": "d271185f-364c-4951-c23f-09bd38973a87"
      },
      "execution_count": null,
      "outputs": [
        {
          "output_type": "stream",
          "name": "stdout",
          "text": [
            "b is greater than a\n"
          ]
        }
      ]
    },
    {
      "cell_type": "markdown",
      "source": [
        "## Elif and Else\n",
        "The `elif` keyword is Python's way of saying \"if the previous conditions were not true, then try this condition\".\n",
        "\n",
        "The `else` keyword catches anything which isn't caught by the preceding conditions."
      ],
      "metadata": {
        "id": "ZvBcREQmlL_A"
      }
    },
    {
      "cell_type": "code",
      "source": [
        "a = 200\n",
        "b = 33\n",
        "if b > a:\n",
        "  print(\"b is greater than a\")\n",
        "elif a == b:\n",
        "  print(\"a and b are equal\")\n",
        "else:\n",
        "  print(\"a is greater than b\")"
      ],
      "metadata": {
        "colab": {
          "base_uri": "https://localhost:8080/"
        },
        "id": "JeyLBiEglcHT",
        "outputId": "0750a00a-7d52-4b9c-b3c8-49c2c14c898e"
      },
      "execution_count": null,
      "outputs": [
        {
          "output_type": "stream",
          "name": "stdout",
          "text": [
            "a is greater than b\n"
          ]
        }
      ]
    },
    {
      "cell_type": "markdown",
      "source": [
        "You can also have an `else` without the `elif`:"
      ],
      "metadata": {
        "id": "wvyajYNslfW3"
      }
    },
    {
      "cell_type": "code",
      "source": [
        "a = 200\n",
        "b = 33\n",
        "if b > a:\n",
        "  print(\"b is greater than a\")\n",
        "else:\n",
        "  print(\"b is not greater than a\")"
      ],
      "metadata": {
        "colab": {
          "base_uri": "https://localhost:8080/"
        },
        "id": "BIUAva3Wlg1q",
        "outputId": "2a069465-7315-4d07-c313-571b6966eef8"
      },
      "execution_count": null,
      "outputs": [
        {
          "output_type": "stream",
          "name": "stdout",
          "text": [
            "b is not greater than a\n"
          ]
        }
      ]
    },
    {
      "cell_type": "markdown",
      "source": [
        "## Short Hand If\n",
        "If you have only one statement to execute, you can put it on the same line as the if statement.\n",
        "\n"
      ],
      "metadata": {
        "id": "ihJjzIwplion"
      }
    },
    {
      "cell_type": "code",
      "source": [
        "a = 200\n",
        "b = 33\n",
        "\n",
        "if a > b: print(\"a is greater than b\")"
      ],
      "metadata": {
        "colab": {
          "base_uri": "https://localhost:8080/"
        },
        "id": "F5rPgwsGllRp",
        "outputId": "9fdf2c8d-3d7c-4d69-919e-ecbb7b5083f7"
      },
      "execution_count": null,
      "outputs": [
        {
          "output_type": "stream",
          "name": "stdout",
          "text": [
            "a is greater than b\n"
          ]
        }
      ]
    },
    {
      "cell_type": "markdown",
      "source": [
        "## Short Hand If ... Else\n",
        "If you have only one statement to execute, one for if, and one for else, you can put it all on the same line:\n",
        "\n"
      ],
      "metadata": {
        "id": "0uNdayFul4fI"
      }
    },
    {
      "cell_type": "code",
      "source": [
        "a = 2\n",
        "b = 330\n",
        "print(\"A\") if a > b else print(\"B\") # no need for semicolons"
      ],
      "metadata": {
        "colab": {
          "base_uri": "https://localhost:8080/"
        },
        "id": "-qNc_lgRl8r2",
        "outputId": "749faba5-4dff-47e2-a776-31d2440cb934"
      },
      "execution_count": null,
      "outputs": [
        {
          "output_type": "stream",
          "name": "stdout",
          "text": [
            "B\n"
          ]
        }
      ]
    },
    {
      "cell_type": "code",
      "source": [
        "a = 330\n",
        "b = 330\n",
        "print(\"A\") if a > b else print(\"=\") if a == b else print(\"B\")"
      ],
      "metadata": {
        "colab": {
          "base_uri": "https://localhost:8080/"
        },
        "id": "yBZq5UYIl_ul",
        "outputId": "d1efd946-d29d-4b33-ebc9-0956bcc74c6c"
      },
      "execution_count": null,
      "outputs": [
        {
          "output_type": "stream",
          "name": "stdout",
          "text": [
            "=\n"
          ]
        }
      ]
    },
    {
      "cell_type": "markdown",
      "source": [
        "## Pass\n",
        "`if` statements cannot be empty, but if you for some reason have an `if` statement with no content, put in the `pass` statement to avoid getting an error."
      ],
      "metadata": {
        "id": "6pkJQk-ymDQi"
      }
    },
    {
      "cell_type": "code",
      "source": [
        "a = 33\n",
        "b = 200\n",
        "\n",
        "if b > a:\n",
        "  pass"
      ],
      "metadata": {
        "id": "q2VhhruVmEwM"
      },
      "execution_count": null,
      "outputs": []
    },
    {
      "cell_type": "markdown",
      "source": [
        "# Python Match Case\n",
        "The match case statement in Python is initialized with the match keyword followed by the parameter to be matched. Then various cases are defined using the case keyword and the pattern to match the parameter. The “_” is the wildcard character that runs when all the cases fail to match the parameter value."
      ],
      "metadata": {
        "id": "p2J5cYPanRZc"
      }
    },
    {
      "cell_type": "markdown",
      "source": [
        "\n",
        "\n",
        "```\n",
        "match variable_name:\n",
        "  case 'pattern 1' :\n",
        "    statement1\n",
        "  case 'pattern 2' :\n",
        "    statement2\n",
        "...\n",
        "  case 'pattern n' :\n",
        "    statement\n",
        "  case _:\n",
        "    print('default')\n",
        "```\n",
        "\n"
      ],
      "metadata": {
        "id": "62xvk5QEn_OE"
      }
    },
    {
      "cell_type": "code",
      "source": [
        "# simple match case statement\n",
        "def runMatch():\n",
        "    num = int(input(\"Enter a number between 1 and 3: \"))\n",
        "\n",
        "    # match case\n",
        "    match num:\n",
        "        # pattern 1\n",
        "        case 1:\n",
        "            print(\"One\")\n",
        "        # pattern 2\n",
        "        case 2:\n",
        "            print(\"Two\")\n",
        "        # pattern 3. case and statement can be inline\n",
        "        case 3: print(\"Three\")\n",
        "        # default pattern\n",
        "        case _:\n",
        "            print(\"Number not between 1 and 3\")\n",
        "\n",
        "runMatch()"
      ],
      "metadata": {
        "colab": {
          "base_uri": "https://localhost:8080/"
        },
        "id": "VkWUJZ9lnb8f",
        "outputId": "f8b6a43c-2539-4b89-ab3b-78aac682595d"
      },
      "execution_count": null,
      "outputs": [
        {
          "output_type": "stream",
          "name": "stdout",
          "text": [
            "Enter a number between 1 and 3: 3\n",
            "Three\n"
          ]
        }
      ]
    },
    {
      "cell_type": "markdown",
      "source": [
        "## Match Case Statement with OR Operator\n",
        "Match case statement in Python are meant to be for only matching the patterns and specific keywords or parameters. But we can also use match case statement in python when there are more than one case that results in same output. In this case, we can use **pipe** operator, also known as OR Operator in match case statement."
      ],
      "metadata": {
        "id": "yhrFx5H6o4B5"
      }
    },
    {
      "cell_type": "code",
      "source": [
        "def access(user):\n",
        "   match user:\n",
        "      case \"admin\" | \"manager\": return \"Full access\"\n",
        "      case \"Guest\": return \"Limited access\"\n",
        "      case _: return \"No access\"\n",
        "print (access(\"manager\"))\n",
        "print (access(\"Guest\"))\n",
        "print (access(\"Ravi\"))"
      ],
      "metadata": {
        "id": "yGiBF8EJo3lN"
      },
      "execution_count": null,
      "outputs": []
    },
    {
      "cell_type": "markdown",
      "source": [
        "## Match case with List\n",
        "Since Python can match the expression against any literal, you can use a list as a case value. Moreover, for variable number of items in the list, they can be parsed to a sequence with `*` operator."
      ],
      "metadata": {
        "id": "HZKK0bTRpnXt"
      }
    },
    {
      "cell_type": "code",
      "source": [
        "# python match case with list\n",
        "def runMatch(mystr):\n",
        "\n",
        "    # match case\n",
        "    match mystr:\n",
        "        # pattern 1\n",
        "        case [\"a\"]:\n",
        "            print(\"a\")\n",
        "        # pattern 2\n",
        "        case [\"a\", *b]:\n",
        "            print(f\"a and {b}\")\n",
        "        # pattern 3\n",
        "        case [*a, \"e\"] | (*a, \"e\"):\n",
        "            return (f\"{a} and e\") #notice how return will encapsulate output with single quote\n",
        "        # default pattern\n",
        "        case _:\n",
        "            print(\"No data\")\n",
        "\n",
        "runMatch([])\n",
        "runMatch([\"a\"])\n",
        "runMatch([\"a\", \"b\"])\n",
        "runMatch([\"b\", \"c\", \"d\", \"e\"])"
      ],
      "metadata": {
        "colab": {
          "base_uri": "https://localhost:8080/",
          "height": 87
        },
        "id": "_oTOOqg7p9xG",
        "outputId": "08dacf46-dffd-430f-9521-0a410c15913e"
      },
      "execution_count": null,
      "outputs": [
        {
          "output_type": "stream",
          "name": "stdout",
          "text": [
            "No data\n",
            "a\n",
            "a and ['b']\n"
          ]
        },
        {
          "output_type": "execute_result",
          "data": {
            "text/plain": [
              "\"['b', 'c', 'd'] and e\""
            ],
            "application/vnd.google.colaboratory.intrinsic+json": {
              "type": "string"
            }
          },
          "metadata": {},
          "execution_count": 36
        }
      ]
    },
    {
      "cell_type": "code",
      "source": [
        "def greeting(details):\n",
        "   match details:\n",
        "      case [time, name]:\n",
        "         return f'Good {time} {name}!'\n",
        "      case [time, *names]:\n",
        "         msg=''\n",
        "         for name in names:\n",
        "            msg+=f'Good {time} {name}!\\n'\n",
        "         return msg\n",
        "\n",
        "print (greeting([\"Morning\", \"Ravi\"]))\n",
        "print (greeting([\"Afternoon\",\"Guest\"]))\n",
        "print (greeting([\"Evening\", \"Kajal\", \"Praveen\", \"Lata\"]))"
      ],
      "metadata": {
        "colab": {
          "base_uri": "https://localhost:8080/"
        },
        "id": "DVovzY6XqNFb",
        "outputId": "c1b1014e-772d-4fb7-f8c3-6d2525852932"
      },
      "execution_count": null,
      "outputs": [
        {
          "output_type": "stream",
          "name": "stdout",
          "text": [
            "Good Morning Ravi!\n",
            "Good Afternoon Guest!\n",
            "Good Evening Kajal!\n",
            "Good Evening Praveen!\n",
            "Good Evening Lata!\n",
            "\n"
          ]
        }
      ]
    },
    {
      "cell_type": "markdown",
      "source": [
        "# Control Flow"
      ],
      "metadata": {
        "id": "Z1T6I_-qtJ_a"
      }
    },
    {
      "cell_type": "markdown",
      "source": [
        "## While Loop\n",
        "With the while loop we can execute a set of statements as long as a condition is true.\n",
        "\n"
      ],
      "metadata": {
        "id": "i082VmjJtMY3"
      }
    },
    {
      "cell_type": "code",
      "source": [
        "i = 1\n",
        "while i < 6:\n",
        "  print(i)\n",
        "  if i == 3:\n",
        "    break\n",
        "  i += 1"
      ],
      "metadata": {
        "colab": {
          "base_uri": "https://localhost:8080/"
        },
        "id": "LQ-nhEnotVLR",
        "outputId": "6e8ec14b-66bd-4abe-9a31-a063f6c98fd6"
      },
      "execution_count": null,
      "outputs": [
        {
          "output_type": "stream",
          "name": "stdout",
          "text": [
            "1\n",
            "2\n",
            "3\n"
          ]
        }
      ]
    },
    {
      "cell_type": "markdown",
      "source": [
        "With the `break` statement we can stop the loop even if the while condition is true:"
      ],
      "metadata": {
        "id": "GUcQducYtrZi"
      }
    },
    {
      "cell_type": "code",
      "source": [
        "i = 1\n",
        "while i < 6:\n",
        "  print(i)\n",
        "  if i == 3:\n",
        "    break\n",
        "  i += 1"
      ],
      "metadata": {
        "colab": {
          "base_uri": "https://localhost:8080/"
        },
        "id": "23UoCSnhtrwq",
        "outputId": "2e9be4fb-690f-4675-d243-f7215c6df124"
      },
      "execution_count": null,
      "outputs": [
        {
          "output_type": "stream",
          "name": "stdout",
          "text": [
            "1\n",
            "2\n",
            "3\n"
          ]
        }
      ]
    },
    {
      "cell_type": "markdown",
      "source": [
        "With the `continue` statement we can stop the current iteration, and continue with the next:"
      ],
      "metadata": {
        "id": "S3mZPIs0tdNU"
      }
    },
    {
      "cell_type": "code",
      "source": [
        "i = 0\n",
        "while i < 6:\n",
        "  i += 1\n",
        "  if i == 3:\n",
        "    continue\n",
        "  print(i)"
      ],
      "metadata": {
        "colab": {
          "base_uri": "https://localhost:8080/"
        },
        "id": "sXbXc6VHtfob",
        "outputId": "dcee9c4f-2608-4280-fd09-b252f7710af6"
      },
      "execution_count": null,
      "outputs": [
        {
          "output_type": "stream",
          "name": "stdout",
          "text": [
            "1\n",
            "2\n",
            "4\n",
            "5\n",
            "6\n"
          ]
        }
      ]
    },
    {
      "cell_type": "markdown",
      "source": [
        "With the else statement we can run a block of code once when the condition no longer is true:\n",
        "\n"
      ],
      "metadata": {
        "id": "qAuHo1oEtiO7"
      }
    },
    {
      "cell_type": "code",
      "source": [
        "i = 1\n",
        "while i < 6:\n",
        "  print(i)\n",
        "  i += 1\n",
        "else:\n",
        "  print(\"i is no longer less than 6\")"
      ],
      "metadata": {
        "colab": {
          "base_uri": "https://localhost:8080/"
        },
        "id": "KPfS4inBtkPf",
        "outputId": "eb3e2889-3421-4783-e9f8-e2c94c19a37a"
      },
      "execution_count": null,
      "outputs": [
        {
          "output_type": "stream",
          "name": "stdout",
          "text": [
            "1\n",
            "2\n",
            "3\n",
            "4\n",
            "5\n",
            "i is no longer less than 6\n"
          ]
        }
      ]
    },
    {
      "cell_type": "markdown",
      "source": [
        "## For Loop\n",
        "A `for` loop is used for iterating over a sequence (that is either a list, a tuple, a dictionary, a set, or a string)."
      ],
      "metadata": {
        "id": "rdNrej0Rt9HP"
      }
    },
    {
      "cell_type": "code",
      "source": [
        "fruits = [\"apple\", \"banana\", \"cherry\"]\n",
        "for x in fruits:\n",
        "  print(x)"
      ],
      "metadata": {
        "id": "3YRr8dwhuMSW"
      },
      "execution_count": null,
      "outputs": []
    },
    {
      "cell_type": "code",
      "source": [
        "for x in \"banana\":\n",
        "  print(x)"
      ],
      "metadata": {
        "id": "oK9jRmxYuNVf"
      },
      "execution_count": null,
      "outputs": []
    },
    {
      "cell_type": "markdown",
      "source": [
        "With the `break` statement we can stop the loop before it has looped through all the items:\n",
        "\n",
        "\n"
      ],
      "metadata": {
        "id": "qhaSuH6yuRZE"
      }
    },
    {
      "cell_type": "code",
      "source": [
        "#Exit the loop when x is \"banana\":\n",
        "\n",
        "fruits = [\"apple\", \"banana\", \"cherry\"]\n",
        "for x in fruits:\n",
        "  print(x)\n",
        "  if x == \"banana\":\n",
        "    break"
      ],
      "metadata": {
        "colab": {
          "base_uri": "https://localhost:8080/"
        },
        "id": "9s8fDI2zuYJl",
        "outputId": "7752c081-07b7-4d8e-bed7-1664095adf01"
      },
      "execution_count": null,
      "outputs": [
        {
          "output_type": "stream",
          "name": "stdout",
          "text": [
            "apple\n",
            "banana\n"
          ]
        }
      ]
    },
    {
      "cell_type": "markdown",
      "source": [
        "With the continue statement we can stop the current iteration of the loop, and continue with the next:"
      ],
      "metadata": {
        "id": "FdMi7Iqjug7t"
      }
    },
    {
      "cell_type": "code",
      "source": [
        "fruits = [\"apple\", \"banana\", \"cherry\"]\n",
        "for x in fruits:\n",
        "  if x == \"banana\":\n",
        "    continue\n",
        "  print(x)"
      ],
      "metadata": {
        "colab": {
          "base_uri": "https://localhost:8080/"
        },
        "id": "kx7Gz00Fugec",
        "outputId": "b48f4159-3c86-4403-d7fd-75163b33d027"
      },
      "execution_count": null,
      "outputs": [
        {
          "output_type": "stream",
          "name": "stdout",
          "text": [
            "apple\n",
            "cherry\n"
          ]
        }
      ]
    },
    {
      "cell_type": "markdown",
      "source": [
        "## range() Function\n",
        "To loop through a set of code a specified number of times, we can use the `range()` function,\n",
        "\n",
        "The `range()` function returns a sequence of numbers, starting from 0 by default, and increments by 1 (by default), and ends at a specified number."
      ],
      "metadata": {
        "id": "ILG3jZCMujJZ"
      }
    },
    {
      "cell_type": "code",
      "source": [
        "#Note that range(6) is not the values of 0 to 6, but the values 0 to 5.\n",
        "for x in range(6):\n",
        "  print(x)"
      ],
      "metadata": {
        "colab": {
          "base_uri": "https://localhost:8080/"
        },
        "id": "COq-pTtBup6y",
        "outputId": "a5fa0108-117f-4a73-a0b2-b1fbc1c8fd6c"
      },
      "execution_count": null,
      "outputs": [
        {
          "output_type": "stream",
          "name": "stdout",
          "text": [
            "0\n",
            "1\n",
            "2\n",
            "3\n",
            "4\n",
            "5\n"
          ]
        }
      ]
    },
    {
      "cell_type": "markdown",
      "source": [
        "The `range()` function defaults to 0 as a starting value, however it is possible to specify the starting value by adding a parameter: `range(2, 6)`, which means values from 2 to 6 (but not including 6):"
      ],
      "metadata": {
        "id": "bmdYGrI1ux29"
      }
    },
    {
      "cell_type": "code",
      "source": [
        "for x in range(2, 6):\n",
        "  print(x)"
      ],
      "metadata": {
        "colab": {
          "base_uri": "https://localhost:8080/"
        },
        "id": "A-8dzg9FuzaY",
        "outputId": "de10b6e6-04eb-4468-eb36-a40cd1c547d7"
      },
      "execution_count": null,
      "outputs": [
        {
          "output_type": "stream",
          "name": "stdout",
          "text": [
            "2\n",
            "3\n",
            "4\n",
            "5\n"
          ]
        }
      ]
    },
    {
      "cell_type": "markdown",
      "source": [
        "The `range()` function defaults to increment the sequence by 1, however it is possible to specify the increment value by adding a third parameter: `range(2, 30, 3)`:"
      ],
      "metadata": {
        "id": "fYVhVuMFu4pi"
      }
    },
    {
      "cell_type": "code",
      "source": [
        "for x in range(2, 30, 3):\n",
        "  print(x)"
      ],
      "metadata": {
        "colab": {
          "base_uri": "https://localhost:8080/"
        },
        "id": "_IYY5I29vC_5",
        "outputId": "39d71847-c1f0-4e13-ea50-369066643634"
      },
      "execution_count": null,
      "outputs": [
        {
          "output_type": "stream",
          "name": "stdout",
          "text": [
            "2\n",
            "5\n",
            "8\n",
            "11\n",
            "14\n",
            "17\n",
            "20\n",
            "23\n",
            "26\n",
            "29\n"
          ]
        }
      ]
    },
    {
      "cell_type": "markdown",
      "source": [
        "## Else in For Loop"
      ],
      "metadata": {
        "id": "OLIauL-FvJBW"
      }
    },
    {
      "cell_type": "code",
      "source": [
        "for x in range(6):\n",
        "  print(x)\n",
        "else:\n",
        "  print(\"Finally finished!\")\n",
        "\n",
        "#Note: The else block will NOT be executed if the loop is stopped by a break statement.\n",
        "\n"
      ],
      "metadata": {
        "id": "wOGqXxwYvLAw"
      },
      "execution_count": null,
      "outputs": []
    },
    {
      "cell_type": "markdown",
      "source": [
        "## Pass\n",
        "for loops cannot be empty, but if you for some reason have a for loop with no content, put in the pass statement to avoid getting an error."
      ],
      "metadata": {
        "id": "lWQMRE5jvRJ4"
      }
    },
    {
      "cell_type": "code",
      "source": [
        "for x in [0, 1, 2]:\n",
        "  pass"
      ],
      "metadata": {
        "id": "FTpX9pZ1vUnP"
      },
      "execution_count": null,
      "outputs": []
    },
    {
      "cell_type": "markdown",
      "source": [
        "# sys.argv\n",
        "• sys.argv is a list in Python\n",
        "\n",
        "• contains the command-line arguments passed to the script\n",
        "\n",
        "• sys.argv[0] is the name of the script\n",
        "\n",
        "• sys.argv[1] to sys.argv[n] are the additional arguments passed"
      ],
      "metadata": {
        "id": "DKZoZRlE-IR5"
      }
    },
    {
      "cell_type": "code",
      "source": [
        "# Python program to demonstrate\n",
        "# sys.argv\n",
        "\n",
        "\n",
        "import sys\n",
        "\n",
        "print(\"This is the name of the program:\", sys.argv[0])\n",
        "\n",
        "print(\"Argument List:\", str(sys.argv))"
      ],
      "metadata": {
        "colab": {
          "base_uri": "https://localhost:8080/"
        },
        "id": "nQ0GMoCE-g5f",
        "outputId": "7981d314-c91d-4e6b-cee0-5fb06900767f"
      },
      "execution_count": null,
      "outputs": [
        {
          "output_type": "stream",
          "name": "stdout",
          "text": [
            "This is the name of the program: /usr/local/lib/python3.10/dist-packages/colab_kernel_launcher.py\n",
            "Argument List: ['/usr/local/lib/python3.10/dist-packages/colab_kernel_launcher.py', '-f', '/root/.local/share/jupyter/runtime/kernel-29a7c544-f26c-411e-96dd-7c77bbbd7b72.json']\n"
          ]
        }
      ]
    },
    {
      "cell_type": "markdown",
      "source": [
        "## Functions that can be used with sys.argv\n",
        "\n",
        "\n",
        "*   len()- function is used to count the number of arguments passed to the command line. Since the iteration starts with 0, it also counts the name of the program as one argument. If one just wants to deal with other inputs they can use (len(sys.argv)-1).\n",
        "*   str()- this function is used to present the array as a string array. Makes displaying the command line array easier and better.\n",
        "\n"
      ],
      "metadata": {
        "id": "tKo7sbQt-zDa"
      }
    },
    {
      "cell_type": "code",
      "source": [
        "# Python program to demonstrate\n",
        "# sys.argv\n",
        "\n",
        "\n",
        "import sys\n",
        "\n",
        "\n",
        "print(\"This is the name of the program:\",\n",
        "       sys.argv[0])\n",
        "print(\"Number of elements including the name of the program:\",\n",
        "       len(sys.argv))\n",
        "print(\"Number of elements excluding the name of the program:\",\n",
        "      (len(sys.argv)-1))\n",
        "print(\"Argument List:\",\n",
        "       str(sys.argv))"
      ],
      "metadata": {
        "id": "wQgxCoHo_Ad8"
      },
      "execution_count": null,
      "outputs": []
    },
    {
      "cell_type": "markdown",
      "source": [
        "#input() Function"
      ],
      "metadata": {
        "id": "jsMZwCe2AGyQ"
      }
    },
    {
      "cell_type": "code",
      "source": [
        "prompt = int(input(\"Enter a number \"))\n",
        "\n",
        "print(type(prompt))\n",
        "\n",
        "x = input(\"Enter your name: \")\n",
        "print(f'Hello, {x}')"
      ],
      "metadata": {
        "colab": {
          "base_uri": "https://localhost:8080/"
        },
        "id": "rYnMYGyB_LKK",
        "outputId": "febfbbb6-500e-4c62-cc5d-027f1e1f6ddc"
      },
      "execution_count": null,
      "outputs": [
        {
          "output_type": "stream",
          "name": "stdout",
          "text": [
            "Enter a number 25\n",
            "<class 'int'>\n",
            "Enter your name: Winson\n",
            "Hello, Winson\n"
          ]
        }
      ]
    },
    {
      "cell_type": "markdown",
      "source": [
        "# String Formatting\n",
        "## F-Strings\n",
        "F-string allows you to format selected parts of a string.\n",
        "\n",
        "To specify a string as an f-string, simply put an `f` in front of the string literal, like this:"
      ],
      "metadata": {
        "id": "DndRx7eiAS83"
      }
    },
    {
      "cell_type": "code",
      "source": [
        "price = 49\n",
        "txt = f\"The price is {price} dollars\"\n",
        "print(txt)"
      ],
      "metadata": {
        "colab": {
          "base_uri": "https://localhost:8080/"
        },
        "id": "2NK9AHGKAftf",
        "outputId": "6b95a640-e07d-4be9-f1c8-4926db0b23e0"
      },
      "execution_count": null,
      "outputs": [
        {
          "output_type": "stream",
          "name": "stdout",
          "text": [
            "The price is 49 dollars\n"
          ]
        }
      ]
    },
    {
      "cell_type": "markdown",
      "source": [
        "A placeholder can also include a modifier to format the value.\n",
        "\n",
        "A modifier is included by adding a colon `:` followed by a legal formatting type, like `.2f` which means fixed point number with 2 decimals:"
      ],
      "metadata": {
        "id": "Wxk1JPNdAqcw"
      }
    },
    {
      "cell_type": "code",
      "source": [
        "price = 59\n",
        "txt = f\"The price is {price:.2f} dollars\"\n",
        "print(txt)\n",
        "\n",
        "txt = f\"The price is {95:.2f} dollars\"\n",
        "print(txt)"
      ],
      "metadata": {
        "colab": {
          "base_uri": "https://localhost:8080/"
        },
        "id": "Wpo8QeRmAqPf",
        "outputId": "244313ea-bfe4-4729-dc9b-029b233167d5"
      },
      "execution_count": null,
      "outputs": [
        {
          "output_type": "stream",
          "name": "stdout",
          "text": [
            "The price is 59.00 dollars\n",
            "The price is 95.00 dollars\n"
          ]
        }
      ]
    },
    {
      "cell_type": "markdown",
      "source": [
        "Format an Integer to a fixed Width"
      ],
      "metadata": {
        "id": "CQsASy4fEUp_"
      }
    },
    {
      "cell_type": "code",
      "source": [
        "my_num = 12\n",
        "\n",
        "# formatting integer to a fixed width of 3\n",
        "print(f'{my_num:03d}')\n",
        "\n",
        "# formatting integer to a fixed width of 4\n",
        "print(f'{my_num:4d}')\n",
        "\n",
        "# formatting integer to a fixed width of 6 (with leading spaces)\n",
        "print(f'{my_num:6d}')"
      ],
      "metadata": {
        "colab": {
          "base_uri": "https://localhost:8080/"
        },
        "id": "pc7AxCdLEIf4",
        "outputId": "8e02874c-a8c1-49d6-b368-4a01e51ee119"
      },
      "execution_count": null,
      "outputs": [
        {
          "output_type": "stream",
          "name": "stdout",
          "text": [
            "012\n",
            "  12\n",
            "    12\n"
          ]
        }
      ]
    },
    {
      "cell_type": "markdown",
      "source": [
        "### Performing Operations in F-Strings"
      ],
      "metadata": {
        "id": "dN5Iux3rA4ix"
      }
    },
    {
      "cell_type": "code",
      "source": [
        "txt = f\"The price is {20 * 59} dollars\"\n",
        "print(txt)\n",
        "\n",
        "price = 59\n",
        "tax = 0.25\n",
        "txt = f\"The price is {price + (price * tax)} dollars\"\n",
        "print(txt)\n",
        "\n",
        "#You can perform if...else statements inside the placeholders:\n",
        "price = 49\n",
        "txt = f\"It is very {'Expensive' if price>50 else 'Cheap'}\"\n",
        "\n",
        "print(txt)"
      ],
      "metadata": {
        "colab": {
          "base_uri": "https://localhost:8080/"
        },
        "id": "zSGuo1KFA3LO",
        "outputId": "ac71d2d5-30f7-4e10-fdb7-88500ace9d5e"
      },
      "execution_count": null,
      "outputs": [
        {
          "output_type": "stream",
          "name": "stdout",
          "text": [
            "The price is 1180 dollars\n",
            "The price is 73.75 dollars\n",
            "It is very Cheap\n"
          ]
        }
      ]
    },
    {
      "cell_type": "markdown",
      "source": [
        "## Data Formatting\n",
        "`%s` : perform concatenation of strings together\n",
        "\n",
        "`%d` : put where the string is to be specified. The number of values you want to append to a string should be equivalent to the number specified in parentheses after the % operator at the end of the string value."
      ],
      "metadata": {
        "id": "1MMPUr45CGsw"
      }
    },
    {
      "cell_type": "code",
      "source": [
        "# declaring a string variable\n",
        "name = \"Geek\"\n",
        "\n",
        "# append a string within a string\n",
        "print(\"Hey, %s!\" % name)\n",
        "\n",
        "# declaring numeric variables\n",
        "num = 2021\n",
        "\n",
        "# concatenating numeric value within string\n",
        "print(\"%d is here!!\" % num)"
      ],
      "metadata": {
        "colab": {
          "base_uri": "https://localhost:8080/"
        },
        "id": "xuskDIlUCtOC",
        "outputId": "45b30037-8111-46bd-8f91-ec2c71ad74c4"
      },
      "execution_count": null,
      "outputs": [
        {
          "output_type": "stream",
          "name": "stdout",
          "text": [
            "Hey, Geek!\n",
            "2021 is here!!\n"
          ]
        }
      ]
    },
    {
      "cell_type": "code",
      "source": [
        "# declaring string variables\n",
        "str1 = 'Understanding'\n",
        "str2 = '%s'\n",
        "str3 = 'at'\n",
        "str4 = 'GeeksforGeeks'\n",
        "\n",
        "# concatenating strings\n",
        "final_str = \"%s %s %s %s\" % (str1, str2, str3, str4)\n",
        "\n",
        "# printing the final string\n",
        "print(\"Concatenating multiple strings using Python '%s' operator:\\n\")\n",
        "print(final_str)"
      ],
      "metadata": {
        "colab": {
          "base_uri": "https://localhost:8080/"
        },
        "id": "nzOx3bc-DV9M",
        "outputId": "a4a43a69-ed77-4ab0-e3c4-1b67ff5943a6"
      },
      "execution_count": null,
      "outputs": [
        {
          "output_type": "stream",
          "name": "stdout",
          "text": [
            "Concatenating multiple strings using Python '%s' operator:\n",
            "\n",
            "Understanding %s at GeeksforGeeks\n"
          ]
        }
      ]
    },
    {
      "cell_type": "code",
      "source": [
        "# string width control\n",
        "name = 'Mike'\n",
        "print('your name is 1234567, right?')\n",
        "print('your name is %7s, right?' % name)"
      ],
      "metadata": {
        "colab": {
          "base_uri": "https://localhost:8080/"
        },
        "id": "rW6YDCbxDqeD",
        "outputId": "7d2b5552-7af0-4b7e-c5e8-056c36a09dc8"
      },
      "execution_count": null,
      "outputs": [
        {
          "output_type": "stream",
          "name": "stdout",
          "text": [
            "your name is 1234567, right?\n",
            "your name is    Mike, right?\n"
          ]
        }
      ]
    },
    {
      "cell_type": "code",
      "source": [
        "salary = 543.21\n",
        "print('your salary is 1234567, right?')\n",
        "print('your salary is %7.2f, right?' % salary)"
      ],
      "metadata": {
        "colab": {
          "base_uri": "https://localhost:8080/"
        },
        "id": "QCmghRGdEyhw",
        "outputId": "915d5f72-615d-42c4-f6f6-dcbe2885f760"
      },
      "execution_count": null,
      "outputs": [
        {
          "output_type": "stream",
          "name": "stdout",
          "text": [
            "your salary is 1234567, right?\n",
            "your salary is  543.21, right?\n"
          ]
        }
      ]
    },
    {
      "cell_type": "markdown",
      "source": [
        "## String Methods"
      ],
      "metadata": {
        "id": "AXajz1QQL6Uz"
      }
    },
    {
      "cell_type": "markdown",
      "source": [
        "### join() Method\n",
        "The `join()` method takes all items in an iterable and joins them into one string.\n",
        "\n",
        "A string must be specified as the separator."
      ],
      "metadata": {
        "id": "ayoN6ogSL87P"
      }
    },
    {
      "cell_type": "code",
      "source": [
        "#Join all items in a tuple into a string, using a hash character as separator:\n",
        "\n",
        "myTuple = (\"John\", \"Peter\", \"Vicky\")\n",
        "\n",
        "x = \"#\".join(myTuple)\n",
        "\n",
        "print(x)"
      ],
      "metadata": {
        "colab": {
          "base_uri": "https://localhost:8080/"
        },
        "id": "rymaxum7MG29",
        "outputId": "ed0e7e58-fdad-4ff4-e166-ce7efed417ed"
      },
      "execution_count": 15,
      "outputs": [
        {
          "output_type": "stream",
          "name": "stdout",
          "text": [
            "John#Peter#Vicky\n"
          ]
        }
      ]
    },
    {
      "cell_type": "code",
      "source": [
        "myDict = {'a':\"1\",'b':\"2\"}\n",
        "#List comprehension: [thing for thing in list_of_things]\n",
        "# List comprehension offers a shorter syntax when you want to create a new list based on the values of an existing list.\n",
        "result = \"\".join(f\"{key}{value}\" for key, value in myDict.items())\n",
        "print(result)"
      ],
      "metadata": {
        "colab": {
          "base_uri": "https://localhost:8080/"
        },
        "id": "GSfEKZDGIGVz",
        "outputId": "155a3e80-738a-42fe-f1ea-dae1f26661ca"
      },
      "execution_count": 21,
      "outputs": [
        {
          "output_type": "stream",
          "name": "stdout",
          "text": [
            "a1b2\n"
          ]
        }
      ]
    },
    {
      "cell_type": "markdown",
      "source": [
        "### split() Method\n",
        "The `split()` method splits a string into a list.\n",
        "\n",
        "You can specify the separator, default separator is any whitespace."
      ],
      "metadata": {
        "id": "aHJHFNYhPFVf"
      }
    },
    {
      "cell_type": "code",
      "source": [
        "txt = \"welcome to the jungle\"\n",
        "\n",
        "x = txt.split()\n",
        "\n",
        "print(x)"
      ],
      "metadata": {
        "id": "OJ0QbWTJPNRJ"
      },
      "execution_count": null,
      "outputs": []
    },
    {
      "cell_type": "code",
      "source": [
        "txt = \"hello, my name is Peter, I am 26 years old\"\n",
        "\n",
        "x = txt.split(\", \")\n",
        "\n",
        "print(x)"
      ],
      "metadata": {
        "colab": {
          "base_uri": "https://localhost:8080/"
        },
        "id": "GzdnHrIBPUBP",
        "outputId": "595e5886-815b-4223-fcaf-5a6fb8ad16ce"
      },
      "execution_count": 22,
      "outputs": [
        {
          "output_type": "stream",
          "name": "stdout",
          "text": [
            "['hello', 'my name is Peter', 'I am 26 years old']\n"
          ]
        }
      ]
    },
    {
      "cell_type": "code",
      "source": [],
      "metadata": {
        "id": "gnKpz7fGPqva"
      },
      "execution_count": null,
      "outputs": []
    },
    {
      "cell_type": "code",
      "source": [
        "txt = \"apple#banana#cherry#orange\"\n",
        "\n",
        "# setting the maxsplit parameter to 1, will return a list with 2 elements!\n",
        "x = txt.split(\"#\", 1)\n",
        "\n",
        "print(x)"
      ],
      "metadata": {
        "id": "4RboRJymPXBf"
      },
      "execution_count": null,
      "outputs": []
    },
    {
      "cell_type": "markdown",
      "source": [
        "# Python List\n",
        "List items are ordered, changeable, and allow duplicate values.\n",
        "\n",
        "List items can be of any data type, and can contain different data types"
      ],
      "metadata": {
        "id": "0hPf_DnzPZzx"
      }
    },
    {
      "cell_type": "code",
      "source": [
        "list1 = [\"abc\", 34, True, 40, \"male\"]\n",
        "\n",
        "print(list1)"
      ],
      "metadata": {
        "colab": {
          "base_uri": "https://localhost:8080/"
        },
        "id": "lhNfTk7fPrA9",
        "outputId": "b1114510-2bd2-4acd-8cca-d8087b67861d"
      },
      "execution_count": 24,
      "outputs": [
        {
          "output_type": "stream",
          "name": "stdout",
          "text": [
            "['abc', 34, True, 40, 'male']\n"
          ]
        }
      ]
    },
    {
      "cell_type": "markdown",
      "source": [
        "##list() Constructor\n",
        "It is also possible to use the `list()` constructor when creating a new list.\n",
        "\n"
      ],
      "metadata": {
        "id": "-bfpLPBKP1wQ"
      }
    },
    {
      "cell_type": "code",
      "source": [
        "thislist = list((\"apple\", \"banana\", \"cherry\")) # note the double round-brackets\n",
        "print(thislist)"
      ],
      "metadata": {
        "id": "Gdw8y7AUQBO2"
      },
      "execution_count": null,
      "outputs": []
    },
    {
      "cell_type": "markdown",
      "source": [
        "## List Slicing"
      ],
      "metadata": {
        "id": "NVcZJDfGQOK0"
      }
    },
    {
      "cell_type": "code",
      "source": [
        "thislist = [\"apple\", \"banana\", \"cherry\"]\n",
        "print(thislist[1])"
      ],
      "metadata": {
        "colab": {
          "base_uri": "https://localhost:8080/"
        },
        "id": "VdZ3mqI8QU9f",
        "outputId": "c5b4f2a1-d16b-4333-9af4-a7cd98e6aa05"
      },
      "execution_count": 29,
      "outputs": [
        {
          "output_type": "stream",
          "name": "stdout",
          "text": [
            "banana\n"
          ]
        }
      ]
    },
    {
      "cell_type": "code",
      "source": [
        "thislist = [\"apple\", \"banana\", \"cherry\"]\n",
        "print(thislist[-1])"
      ],
      "metadata": {
        "colab": {
          "base_uri": "https://localhost:8080/"
        },
        "id": "i6eJAdlzQVZR",
        "outputId": "ee4e49f9-1510-48d3-85fc-0ff612e4238e"
      },
      "execution_count": 28,
      "outputs": [
        {
          "output_type": "stream",
          "name": "stdout",
          "text": [
            "cherry\n"
          ]
        }
      ]
    },
    {
      "cell_type": "code",
      "source": [
        "thislist = [\"apple\", \"banana\", \"cherry\", \"orange\", \"kiwi\", \"melon\", \"mango\"]\n",
        "print(thislist[2:5])"
      ],
      "metadata": {
        "colab": {
          "base_uri": "https://localhost:8080/"
        },
        "id": "Zvaouv5_QXoP",
        "outputId": "e3480961-d2ec-4a82-cc53-f18bc2f7d9b4"
      },
      "execution_count": 27,
      "outputs": [
        {
          "output_type": "stream",
          "name": "stdout",
          "text": [
            "['cherry', 'orange', 'kiwi']\n"
          ]
        }
      ]
    },
    {
      "cell_type": "code",
      "source": [
        "thislist = [\"apple\", \"banana\", \"cherry\", \"orange\", \"kiwi\", \"melon\", \"mango\"]\n",
        "print(thislist[:4])"
      ],
      "metadata": {
        "colab": {
          "base_uri": "https://localhost:8080/"
        },
        "id": "lI0mLdpMQYtC",
        "outputId": "d04b97a8-4ab9-4116-887b-07e300534309"
      },
      "execution_count": 26,
      "outputs": [
        {
          "output_type": "stream",
          "name": "stdout",
          "text": [
            "['apple', 'banana', 'cherry', 'orange']\n"
          ]
        }
      ]
    },
    {
      "cell_type": "code",
      "source": [
        "thislist = [\"apple\", \"banana\", \"cherry\", \"orange\", \"kiwi\", \"melon\", \"mango\"]\n",
        "print(thislist[2:])"
      ],
      "metadata": {
        "colab": {
          "base_uri": "https://localhost:8080/"
        },
        "id": "-ywN3ByxQZxT",
        "outputId": "3d189ab6-4a61-43d5-9536-3a2639e22ee5"
      },
      "execution_count": 25,
      "outputs": [
        {
          "output_type": "stream",
          "name": "stdout",
          "text": [
            "['cherry', 'orange', 'kiwi', 'melon', 'mango']\n"
          ]
        }
      ]
    },
    {
      "cell_type": "markdown",
      "source": [
        "## Change Item Value"
      ],
      "metadata": {
        "id": "tcaMnLIHQvjq"
      }
    },
    {
      "cell_type": "code",
      "source": [
        "thislist = [\"apple\", \"banana\", \"cherry\"]\n",
        "thislist[1] = \"blackcurrant\"\n",
        "print(thislist)"
      ],
      "metadata": {
        "colab": {
          "base_uri": "https://localhost:8080/"
        },
        "id": "p7dT7aKsQx3m",
        "outputId": "f0f3c26d-9bf3-419f-e8ab-6798f6fe526d"
      },
      "execution_count": 32,
      "outputs": [
        {
          "output_type": "stream",
          "name": "stdout",
          "text": [
            "['apple', 'blackcurrant', 'cherry']\n"
          ]
        }
      ]
    },
    {
      "cell_type": "markdown",
      "source": [
        "To change the value of items within a specific range, define a list with the new values, and refer to the range of index numbers where you want to insert the new values:"
      ],
      "metadata": {
        "id": "9doQzC6oQ08p"
      }
    },
    {
      "cell_type": "code",
      "source": [
        "thislist = [\"apple\", \"banana\", \"cherry\", \"orange\", \"kiwi\", \"mango\"]\n",
        "thislist[1:3] = [\"blackcurrant\", \"watermelon\"]\n",
        "print(thislist)"
      ],
      "metadata": {
        "colab": {
          "base_uri": "https://localhost:8080/"
        },
        "id": "kQr1_Ae3Q3JH",
        "outputId": "5d34f158-44b2-4cca-eaf7-25623b03d369"
      },
      "execution_count": 31,
      "outputs": [
        {
          "output_type": "stream",
          "name": "stdout",
          "text": [
            "['apple', 'blackcurrant', 'watermelon', 'orange', 'kiwi', 'mango']\n"
          ]
        }
      ]
    },
    {
      "cell_type": "markdown",
      "source": [
        "If you insert more items than you replace, the new items will be inserted where you specified, and the remaining items will move accordingly:"
      ],
      "metadata": {
        "id": "frEdb9c4Q3b_"
      }
    },
    {
      "cell_type": "code",
      "source": [
        "thislist = [\"apple\", \"banana\", \"cherry\"]\n",
        "thislist[1:2] = [\"blackcurrant\", \"watermelon\"]\n",
        "print(thislist)"
      ],
      "metadata": {
        "colab": {
          "base_uri": "https://localhost:8080/"
        },
        "id": "L1T8fXYgQ43X",
        "outputId": "7e454b1d-0f3f-41b9-d0d7-89ba85bb9242"
      },
      "execution_count": 34,
      "outputs": [
        {
          "output_type": "stream",
          "name": "stdout",
          "text": [
            "['apple', 'blackcurrant', 'watermelon', 'cherry']\n"
          ]
        }
      ]
    },
    {
      "cell_type": "markdown",
      "source": [
        "If you insert less items than you replace, the new items will be inserted where you specified, and the remaining items will move accordingly:"
      ],
      "metadata": {
        "id": "bA6X4nk_RDLk"
      }
    },
    {
      "cell_type": "code",
      "source": [
        "thislist = [\"apple\", \"banana\", \"cherry\"]\n",
        "thislist[1:3] = [\"watermelon\"]\n",
        "print(thislist)"
      ],
      "metadata": {
        "colab": {
          "base_uri": "https://localhost:8080/"
        },
        "id": "WvHP8CBvREvc",
        "outputId": "400fe88a-d9f2-4a97-b620-aab671b0d289"
      },
      "execution_count": 33,
      "outputs": [
        {
          "output_type": "stream",
          "name": "stdout",
          "text": [
            "['apple', 'watermelon']\n"
          ]
        }
      ]
    },
    {
      "cell_type": "markdown",
      "source": [
        "## Add List Items"
      ],
      "metadata": {
        "id": "goGv6V0JRSe0"
      }
    },
    {
      "cell_type": "markdown",
      "source": [
        "### Append Items\n",
        "To add an item to the end of the list, use the `append()` method:"
      ],
      "metadata": {
        "id": "_VmzsahwRVso"
      }
    },
    {
      "cell_type": "code",
      "source": [
        "thislist = [\"apple\", \"banana\", \"cherry\"]\n",
        "thislist.append(\"orange\")\n",
        "print(thislist)"
      ],
      "metadata": {
        "colab": {
          "base_uri": "https://localhost:8080/"
        },
        "id": "vPG-DRP5RZlP",
        "outputId": "245e5279-92da-4003-a3a7-30572c79883b"
      },
      "execution_count": 36,
      "outputs": [
        {
          "output_type": "stream",
          "name": "stdout",
          "text": [
            "['apple', 'banana', 'cherry', 'orange']\n"
          ]
        }
      ]
    },
    {
      "cell_type": "markdown",
      "source": [
        "### Insert Items\n",
        "To insert a list item at a specified index, use the `insert()` method.\n",
        "\n",
        "The `insert()` method inserts an item at the specified index:"
      ],
      "metadata": {
        "id": "7gNerYMXRa8L"
      }
    },
    {
      "cell_type": "code",
      "source": [
        "thislist = [\"apple\", \"banana\", \"cherry\"]\n",
        "thislist.insert(1, \"orange\")\n",
        "print(thislist)"
      ],
      "metadata": {
        "colab": {
          "base_uri": "https://localhost:8080/"
        },
        "id": "vJ8LjS7qRenr",
        "outputId": "0c1d0188-cd91-45c7-cf64-3c57e1f6ab78"
      },
      "execution_count": 37,
      "outputs": [
        {
          "output_type": "stream",
          "name": "stdout",
          "text": [
            "['apple', 'orange', 'banana', 'cherry']\n"
          ]
        }
      ]
    },
    {
      "cell_type": "markdown",
      "source": [
        "### Extend List\n",
        "To append elements from another list to the current list, use the `extend()` method."
      ],
      "metadata": {
        "id": "8Xk13-3eRjL0"
      }
    },
    {
      "cell_type": "code",
      "source": [
        "thislist = [\"apple\", \"banana\", \"cherry\"]\n",
        "tropical = [\"mango\", \"pineapple\", \"papaya\"]\n",
        "thislist.extend(tropical)\n",
        "print(thislist)"
      ],
      "metadata": {
        "colab": {
          "base_uri": "https://localhost:8080/"
        },
        "id": "8-Hdpy7tRqDv",
        "outputId": "901dbebc-a804-4be0-950a-cc8d9d3b3ee6"
      },
      "execution_count": 40,
      "outputs": [
        {
          "output_type": "stream",
          "name": "stdout",
          "text": [
            "['apple', 'banana', 'cherry', 'mango', 'pineapple', 'papaya']\n"
          ]
        }
      ]
    },
    {
      "cell_type": "markdown",
      "source": [
        "The `extend()` method does not have to append lists, you can add any iterable object (tuples, sets, dictionaries etc.)."
      ],
      "metadata": {
        "id": "PRKc-XC6RrSG"
      }
    },
    {
      "cell_type": "code",
      "source": [
        "thislist = [\"apple\", \"banana\", \"cherry\"]\n",
        "thistuple = (\"kiwi\", \"orange\")\n",
        "thislist.extend(thistuple)\n",
        "print(thislist)"
      ],
      "metadata": {
        "colab": {
          "base_uri": "https://localhost:8080/"
        },
        "id": "6utueXlgRr5e",
        "outputId": "b7a1cee2-a0b5-4bb9-914a-c33e819618ac"
      },
      "execution_count": 39,
      "outputs": [
        {
          "output_type": "stream",
          "name": "stdout",
          "text": [
            "['apple', 'banana', 'cherry', 'kiwi', 'orange']\n"
          ]
        }
      ]
    },
    {
      "cell_type": "markdown",
      "source": [
        "### Remove List Items"
      ],
      "metadata": {
        "id": "HoQLN8eUR-co"
      }
    },
    {
      "cell_type": "markdown",
      "source": [
        "The `remove()` method removes the specified item."
      ],
      "metadata": {
        "id": "tD55MCFBSBk0"
      }
    },
    {
      "cell_type": "code",
      "source": [
        "thislist = [\"apple\", \"banana\", \"cherry\"]\n",
        "thislist.remove(\"banana\")\n",
        "print(thislist)"
      ],
      "metadata": {
        "colab": {
          "base_uri": "https://localhost:8080/"
        },
        "id": "cAMwXnFhSE5Q",
        "outputId": "fcd2cd12-c772-4024-8cb5-a9d7e811fa3a"
      },
      "execution_count": 41,
      "outputs": [
        {
          "output_type": "stream",
          "name": "stdout",
          "text": [
            "['apple', 'cherry']\n"
          ]
        }
      ]
    },
    {
      "cell_type": "markdown",
      "source": [
        "If there are more than one item with the specified value, the remove() method removes the first occurrence:\n",
        "\n"
      ],
      "metadata": {
        "id": "l0AX6JtZSI-J"
      }
    },
    {
      "cell_type": "code",
      "source": [
        "thislist = [\"apple\", \"banana\", \"cherry\", \"banana\", \"kiwi\"]\n",
        "#Remove the first occurrence of \"banana\":\n",
        "thislist.remove(\"banana\")\n",
        "print(thislist)"
      ],
      "metadata": {
        "colab": {
          "base_uri": "https://localhost:8080/"
        },
        "id": "UIW6RvvTSIqR",
        "outputId": "5dc0d639-da1a-4ae7-c9b6-51bc005b42fc"
      },
      "execution_count": 42,
      "outputs": [
        {
          "output_type": "stream",
          "name": "stdout",
          "text": [
            "['apple', 'cherry', 'banana', 'kiwi']\n"
          ]
        }
      ]
    },
    {
      "cell_type": "markdown",
      "source": [
        "The `pop()` method removes the specified index."
      ],
      "metadata": {
        "id": "GJ3DACB_SNkP"
      }
    },
    {
      "cell_type": "code",
      "source": [
        "thislist = [\"apple\", \"banana\", \"cherry\"]\n",
        "thislist.pop(1)\n",
        "print(thislist)"
      ],
      "metadata": {
        "id": "3cYDSEqdSPTl"
      },
      "execution_count": null,
      "outputs": []
    },
    {
      "cell_type": "markdown",
      "source": [
        "If you do not specify the index, the `pop()` method removes the last item."
      ],
      "metadata": {
        "id": "nRGmr7GcSR1o"
      }
    },
    {
      "cell_type": "code",
      "source": [
        "thislist = [\"apple\", \"banana\", \"cherry\"]\n",
        "thislist.pop()\n",
        "print(thislist)"
      ],
      "metadata": {
        "colab": {
          "base_uri": "https://localhost:8080/"
        },
        "id": "6sM3OKpDSToa",
        "outputId": "b4d833d2-a10e-4c2e-e74c-23172cd0e97d"
      },
      "execution_count": 43,
      "outputs": [
        {
          "output_type": "stream",
          "name": "stdout",
          "text": [
            "['apple', 'banana']\n"
          ]
        }
      ]
    },
    {
      "cell_type": "markdown",
      "source": [
        "The `del` keyword also removes the specified index:"
      ],
      "metadata": {
        "id": "z0J10tJVSXHf"
      }
    },
    {
      "cell_type": "code",
      "source": [
        "thislist = [\"apple\", \"banana\", \"cherry\"]\n",
        "del thislist[0]\n",
        "print(thislist)"
      ],
      "metadata": {
        "colab": {
          "base_uri": "https://localhost:8080/"
        },
        "id": "SFsnYNUrSY2_",
        "outputId": "5b398341-d75e-459a-b660-47e428fe8680"
      },
      "execution_count": 45,
      "outputs": [
        {
          "output_type": "stream",
          "name": "stdout",
          "text": [
            "['banana', 'cherry']\n"
          ]
        }
      ]
    },
    {
      "cell_type": "markdown",
      "source": [
        "The `del` keyword can also delete the list completely.\n",
        "\n"
      ],
      "metadata": {
        "id": "e6auLVwDSaOB"
      }
    },
    {
      "cell_type": "code",
      "source": [
        "thislist = [\"apple\", \"banana\", \"cherry\"]\n",
        "del thislist"
      ],
      "metadata": {
        "id": "C-VtHHDVSbYZ"
      },
      "execution_count": 47,
      "outputs": []
    },
    {
      "cell_type": "markdown",
      "source": [
        "The `clear()` method empties the list.\n",
        "\n",
        "The list still remains, but it has no content."
      ],
      "metadata": {
        "id": "3SELNWDHSdyB"
      }
    },
    {
      "cell_type": "code",
      "source": [
        "thislist = [\"apple\", \"banana\", \"cherry\"]\n",
        "thislist.clear()\n",
        "print(thislist)"
      ],
      "metadata": {
        "colab": {
          "base_uri": "https://localhost:8080/"
        },
        "id": "nKVawkn-SgSS",
        "outputId": "c9a036e4-ec22-4ca4-f654-ca916810e378"
      },
      "execution_count": 46,
      "outputs": [
        {
          "output_type": "stream",
          "name": "stdout",
          "text": [
            "[]\n"
          ]
        }
      ]
    },
    {
      "cell_type": "markdown",
      "source": [
        "## List Comprehension\n",
        "syntax: `newlist = [expression for item in iterable if condition == True]`"
      ],
      "metadata": {
        "id": "LwGJgXI-S-qQ"
      }
    },
    {
      "cell_type": "code",
      "source": [
        "thislist = [\"apple\", \"banana\", \"cherry\"]\n",
        "[print(x) for x in thislist]\n",
        "\n",
        "[print(y) for y in ['chocolate', 'strawberry', 'vanila']]"
      ],
      "metadata": {
        "colab": {
          "base_uri": "https://localhost:8080/"
        },
        "id": "UbHTfaGlTBPo",
        "outputId": "3455bdaa-a5c7-42d5-a149-65c89da378d0"
      },
      "execution_count": 50,
      "outputs": [
        {
          "output_type": "stream",
          "name": "stdout",
          "text": [
            "apple\n",
            "banana\n",
            "cherry\n",
            "chocolate\n",
            "strawberry\n",
            "vanila\n"
          ]
        },
        {
          "output_type": "execute_result",
          "data": {
            "text/plain": [
              "[None, None, None]"
            ]
          },
          "metadata": {},
          "execution_count": 50
        }
      ]
    },
    {
      "cell_type": "code",
      "source": [
        "# Condition\n",
        "fruits = [\"apple\", \"banana\", \"cherry\", \"kiwi\", \"mango\"]\n",
        "\n",
        "newlist = [x for x in fruits if x != \"apple\"]\n",
        "\n",
        "print(newlist)\n"
      ],
      "metadata": {
        "id": "cWVjEz3jTiO4"
      },
      "execution_count": null,
      "outputs": []
    },
    {
      "cell_type": "code",
      "source": [
        "fruits = [\"apple\", \"banana\", \"cherry\", \"kiwi\", \"mango\"]\n",
        "\n",
        "newlist = [x if x != \"banana\" else \"orange\" for x in fruits]\n",
        "\n",
        "print(newlist)"
      ],
      "metadata": {
        "colab": {
          "base_uri": "https://localhost:8080/"
        },
        "id": "6_U2WQsnTs65",
        "outputId": "ebd04ba8-da98-481b-c65c-26e370c7a659"
      },
      "execution_count": 51,
      "outputs": [
        {
          "output_type": "stream",
          "name": "stdout",
          "text": [
            "['apple', 'orange', 'cherry', 'kiwi', 'mango']\n"
          ]
        }
      ]
    },
    {
      "cell_type": "markdown",
      "source": [
        "## Sort Lists\n",
        "List objects have a `sort()` method that will sort the list alphanumerically, ascending, by default:"
      ],
      "metadata": {
        "id": "Bk1TaK5BT8RE"
      }
    },
    {
      "cell_type": "code",
      "source": [
        "thislist = [\"orange\", \"mango\", \"kiwi\", \"pineapple\", \"banana\"]\n",
        "thislist.sort()\n",
        "print(thislist)"
      ],
      "metadata": {
        "colab": {
          "base_uri": "https://localhost:8080/"
        },
        "id": "Q6RQYgBRUBDP",
        "outputId": "5854cb61-0d5a-40fb-def3-50b10e48840e"
      },
      "execution_count": 53,
      "outputs": [
        {
          "output_type": "stream",
          "name": "stdout",
          "text": [
            "['banana', 'kiwi', 'mango', 'orange', 'pineapple']\n"
          ]
        }
      ]
    },
    {
      "cell_type": "code",
      "source": [
        "thislist = [100, 50, 65, 82, 23]\n",
        "thislist.sort()\n",
        "print(thislist)"
      ],
      "metadata": {
        "colab": {
          "base_uri": "https://localhost:8080/"
        },
        "id": "vyfQp-_6UCIV",
        "outputId": "0269cf87-8c63-418f-9dbb-1782c92d8f6a"
      },
      "execution_count": 54,
      "outputs": [
        {
          "output_type": "stream",
          "name": "stdout",
          "text": [
            "[23, 50, 65, 82, 100]\n"
          ]
        }
      ]
    },
    {
      "cell_type": "markdown",
      "source": [
        "To sort descending, use the keyword argument `reverse = True`:"
      ],
      "metadata": {
        "id": "jxYB5wYDUEmY"
      }
    },
    {
      "cell_type": "code",
      "source": [
        "thislist = [\"orange\", \"mango\", \"kiwi\", \"pineapple\", \"banana\"]\n",
        "thislist.sort(reverse = True)\n",
        "print(thislist)"
      ],
      "metadata": {
        "colab": {
          "base_uri": "https://localhost:8080/"
        },
        "id": "q2XB27OoUHCo",
        "outputId": "ff6df2ae-eb57-4380-84ff-a0af6b88d731"
      },
      "execution_count": 52,
      "outputs": [
        {
          "output_type": "stream",
          "name": "stdout",
          "text": [
            "['pineapple', 'orange', 'mango', 'kiwi', 'banana']\n"
          ]
        }
      ]
    },
    {
      "cell_type": "code",
      "source": [
        "thislist = [100, 50, 65, 82, 23]\n",
        "thislist.sort(reverse = True)\n",
        "print(thislist)"
      ],
      "metadata": {
        "colab": {
          "base_uri": "https://localhost:8080/"
        },
        "id": "K3DxbIdhUHyA",
        "outputId": "2295198d-5446-4905-f023-24ef79739bf3"
      },
      "execution_count": 55,
      "outputs": [
        {
          "output_type": "stream",
          "name": "stdout",
          "text": [
            "[100, 82, 65, 50, 23]\n"
          ]
        }
      ]
    },
    {
      "cell_type": "markdown",
      "source": [
        "By default the `sort()` method is case sensitive, resulting in all capital letters being sorted before lower case letters:"
      ],
      "metadata": {
        "id": "e7bpTq1xUO6t"
      }
    },
    {
      "cell_type": "code",
      "source": [
        "thislist = [\"banana\", \"Orange\", \"Kiwi\", \"cherry\"]\n",
        "thislist.sort()\n",
        "print(thislist)"
      ],
      "metadata": {
        "colab": {
          "base_uri": "https://localhost:8080/"
        },
        "id": "8zq0Z0o5URYR",
        "outputId": "045cebd6-0ae1-453e-cefa-4a50e607982d"
      },
      "execution_count": 56,
      "outputs": [
        {
          "output_type": "stream",
          "name": "stdout",
          "text": [
            "['Kiwi', 'Orange', 'banana', 'cherry']\n"
          ]
        }
      ]
    },
    {
      "cell_type": "code",
      "source": [
        "# if you want a case-insensitive sort function, use str.lower as a key function:\n",
        "thislist = [\"banana\", \"Orange\", \"Kiwi\", \"cherry\"]\n",
        "thislist.sort(key = str.lower)\n",
        "print(thislist)"
      ],
      "metadata": {
        "colab": {
          "base_uri": "https://localhost:8080/"
        },
        "id": "wXD8P6V2UUhD",
        "outputId": "865da5d4-a945-4814-897e-f495df9ee3fa"
      },
      "execution_count": 58,
      "outputs": [
        {
          "output_type": "stream",
          "name": "stdout",
          "text": [
            "['banana', 'cherry', 'Kiwi', 'Orange']\n"
          ]
        }
      ]
    },
    {
      "cell_type": "markdown",
      "source": [
        "The `reverse()` method reverses the current sorting order of the elements."
      ],
      "metadata": {
        "id": "ExVk1QkUUcoE"
      }
    },
    {
      "cell_type": "code",
      "source": [
        "thislist = [\"banana\", \"Orange\", \"Kiwi\", \"cherry\"]\n",
        "thislist.reverse()\n",
        "print(thislist)"
      ],
      "metadata": {
        "colab": {
          "base_uri": "https://localhost:8080/"
        },
        "id": "Wu0kjh91Ue4j",
        "outputId": "0924879f-8883-45cb-d703-0aaab42ab61f"
      },
      "execution_count": 57,
      "outputs": [
        {
          "output_type": "stream",
          "name": "stdout",
          "text": [
            "['cherry', 'Kiwi', 'Orange', 'banana']\n"
          ]
        }
      ]
    },
    {
      "cell_type": "markdown",
      "source": [
        "## count() Method\n",
        "The `count()` method returns the number of elements with the specified value."
      ],
      "metadata": {
        "id": "XbzPOZ9AVBTC"
      }
    },
    {
      "cell_type": "code",
      "source": [
        "fruits = [\"apple\", \"banana\", \"cherry\"]\n",
        "\n",
        "x = fruits.count(\"cherry\")\n",
        "\n",
        "print(x)\n"
      ],
      "metadata": {
        "colab": {
          "base_uri": "https://localhost:8080/"
        },
        "id": "FmgiTNOzVIwy",
        "outputId": "ef7d777f-68c3-461f-8b0f-48bd0892bfea"
      },
      "execution_count": 61,
      "outputs": [
        {
          "output_type": "stream",
          "name": "stdout",
          "text": [
            "1\n"
          ]
        }
      ]
    }
  ]
}