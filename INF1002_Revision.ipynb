{
  "nbformat": 4,
  "nbformat_minor": 0,
  "metadata": {
    "colab": {
      "provenance": [],
      "collapsed_sections": [
        "gRj4UjR49BjP",
        "wQ3Tr0LwBOkt",
        "4tf78019B8kk"
      ],
      "authorship_tag": "ABX9TyNLSUwcusqNG1NwsU048Tnl",
      "include_colab_link": true
    },
    "kernelspec": {
      "name": "python3",
      "display_name": "Python 3"
    },
    "language_info": {
      "name": "python"
    }
  },
  "cells": [
    {
      "cell_type": "markdown",
      "metadata": {
        "id": "view-in-github",
        "colab_type": "text"
      },
      "source": [
        "<a href=\"https://colab.research.google.com/github/unablebagel/Qwiklabs/blob/main/INF1002_Revision.ipynb\" target=\"_parent\"><img src=\"https://colab.research.google.com/assets/colab-badge.svg\" alt=\"Open In Colab\"/></a>"
      ]
    },
    {
      "cell_type": "markdown",
      "source": [
        "# Identation is important"
      ],
      "metadata": {
        "id": "GUNyeEed8VdX"
      }
    },
    {
      "cell_type": "code",
      "execution_count": null,
      "metadata": {
        "colab": {
          "base_uri": "https://localhost:8080/"
        },
        "id": "EIPyOt6E7M-s",
        "outputId": "ca449ebf-ae13-44f1-beb6-64a53555ffdf"
      },
      "outputs": [
        {
          "output_type": "stream",
          "name": "stdout",
          "text": [
            "Five is greater than two!\n"
          ]
        }
      ],
      "source": [
        "if 5 > 2:\n",
        "  print(\"Five is greater than two!\")"
      ]
    },
    {
      "cell_type": "code",
      "source": [
        "if 5 > 2:\n",
        "print(\"Five is greater than two!\") # Syntax error"
      ],
      "metadata": {
        "colab": {
          "base_uri": "https://localhost:8080/",
          "height": 106
        },
        "id": "KhaYjWj18NNB",
        "outputId": "7dc3cbd1-e778-4676-a557-b782426096bc"
      },
      "execution_count": null,
      "outputs": [
        {
          "output_type": "error",
          "ename": "IndentationError",
          "evalue": "expected an indented block after 'if' statement on line 1 (<ipython-input-44-249ae2a9850f>, line 2)",
          "traceback": [
            "\u001b[0;36m  File \u001b[0;32m\"<ipython-input-44-249ae2a9850f>\"\u001b[0;36m, line \u001b[0;32m2\u001b[0m\n\u001b[0;31m    print(\"Five is greater than two!\") # Syntax error\u001b[0m\n\u001b[0m    ^\u001b[0m\n\u001b[0;31mIndentationError\u001b[0m\u001b[0;31m:\u001b[0m expected an indented block after 'if' statement on line 1\n"
          ]
        }
      ]
    },
    {
      "cell_type": "markdown",
      "source": [],
      "metadata": {
        "id": "WdCw6GRH8_Yi"
      }
    },
    {
      "cell_type": "code",
      "source": [
        "if 5 > 2:\n",
        " print(\"Five is greater than two!\")\n",
        "if 5 > 2:\n",
        "        print(\"Five is greater than two!\")\n",
        "\n"
      ],
      "metadata": {
        "colab": {
          "base_uri": "https://localhost:8080/"
        },
        "id": "Q8juj7BS8Nvd",
        "outputId": "a28b6b9c-6cb3-4d38-dfba-de6fddfaf2d2"
      },
      "execution_count": null,
      "outputs": [
        {
          "output_type": "stream",
          "name": "stdout",
          "text": [
            "Five is greater than two!\n",
            "Five is greater than two!\n"
          ]
        }
      ]
    },
    {
      "cell_type": "markdown",
      "source": [
        "You have to use the same number of spaces in the same block of code, otherwise Python will give you an error:"
      ],
      "metadata": {
        "id": "vVfeVgYM8yzW"
      }
    },
    {
      "cell_type": "code",
      "source": [
        "if 5 > 2:\n",
        " print(\"Five is greater than two!\")\n",
        "        print(\"Five is greater than two!\") #Syntax error"
      ],
      "metadata": {
        "colab": {
          "base_uri": "https://localhost:8080/",
          "height": 106
        },
        "id": "_GyETsHu8xCX",
        "outputId": "8c28b3cb-80ce-46be-de94-261d5dc8db5a"
      },
      "execution_count": null,
      "outputs": [
        {
          "output_type": "error",
          "ename": "IndentationError",
          "evalue": "unexpected indent (<ipython-input-73-948dfce52970>, line 3)",
          "traceback": [
            "\u001b[0;36m  File \u001b[0;32m\"<ipython-input-73-948dfce52970>\"\u001b[0;36m, line \u001b[0;32m3\u001b[0m\n\u001b[0;31m    print(\"Five is greater than two!\") #Syntax error\u001b[0m\n\u001b[0m    ^\u001b[0m\n\u001b[0;31mIndentationError\u001b[0m\u001b[0;31m:\u001b[0m unexpected indent\n"
          ]
        }
      ]
    },
    {
      "cell_type": "markdown",
      "source": [
        "# Variable Assignment"
      ],
      "metadata": {
        "id": "gRj4UjR49BjP"
      }
    },
    {
      "cell_type": "code",
      "source": [
        "x = 5\n",
        "y = \"Hello, World!\""
      ],
      "metadata": {
        "id": "_GDCUm0W9IYJ"
      },
      "execution_count": null,
      "outputs": []
    },
    {
      "cell_type": "markdown",
      "source": [
        "##Comments"
      ],
      "metadata": {
        "id": "RevV3Lcc9Lhk"
      }
    },
    {
      "cell_type": "code",
      "source": [
        "#This is a comment.\n",
        "print(\"Hello, World!\")\n",
        "\n",
        "print(\"Hello, World!\") #This is a comment\n",
        "\n",
        "#This is a comment\n",
        "#written in\n",
        "#more than just one line\n",
        "print(\"Hello, World!\")"
      ],
      "metadata": {
        "colab": {
          "base_uri": "https://localhost:8080/"
        },
        "id": "z6OSHDP39MTx",
        "outputId": "ec2719f8-5fde-4e17-f096-c786c096fc90"
      },
      "execution_count": null,
      "outputs": [
        {
          "output_type": "stream",
          "name": "stdout",
          "text": [
            "Hello, World!\n",
            "Hello, World!\n",
            "Hello, World!\n"
          ]
        }
      ]
    },
    {
      "cell_type": "markdown",
      "source": [
        "### Multistring"
      ],
      "metadata": {
        "id": "ZKJcs0L89ecQ"
      }
    },
    {
      "cell_type": "code",
      "source": [
        "\"\"\"\n",
        "This is a comment\n",
        "written in\n",
        "more than just one line\n",
        "\"\"\"\n",
        "print(\"Hello, World!\")"
      ],
      "metadata": {
        "colab": {
          "base_uri": "https://localhost:8080/"
        },
        "id": "QQZCf2l29iuF",
        "outputId": "3bda9f11-d2a0-43fe-e3e0-4a95e35f5c96"
      },
      "execution_count": null,
      "outputs": [
        {
          "output_type": "stream",
          "name": "stdout",
          "text": [
            "Hello, World!\n"
          ]
        }
      ]
    },
    {
      "cell_type": "markdown",
      "source": [
        "### Variables do not need to be declared with any particular type, and can even change type after they have been set."
      ],
      "metadata": {
        "id": "IQWt_2ZL9uP2"
      }
    },
    {
      "cell_type": "code",
      "source": [
        "x = 4       # x is of type int\n",
        "x = \"Sally\" # x is now of type str\n",
        "print(x)"
      ],
      "metadata": {
        "colab": {
          "base_uri": "https://localhost:8080/"
        },
        "id": "zNp_qiW19tTS",
        "outputId": "556bcceb-7512-4f82-ef6a-030d95475f67"
      },
      "execution_count": null,
      "outputs": [
        {
          "output_type": "stream",
          "name": "stdout",
          "text": [
            "Sally\n"
          ]
        }
      ]
    },
    {
      "cell_type": "markdown",
      "source": [
        "Casting"
      ],
      "metadata": {
        "id": "jLq9rN5H9wdf"
      }
    },
    {
      "cell_type": "code",
      "source": [
        "x = str(3)    # x will be '3'\n",
        "y = int(3)    # y will be 3\n",
        "z = float(3)  # z will be 3.0"
      ],
      "metadata": {
        "id": "rPeyXSv79xod"
      },
      "execution_count": null,
      "outputs": []
    },
    {
      "cell_type": "markdown",
      "source": [
        "Get Type"
      ],
      "metadata": {
        "id": "OxQZHUAt92fl"
      }
    },
    {
      "cell_type": "code",
      "source": [
        "x = 5\n",
        "y = \"John\"\n",
        "print(type(x))\n",
        "print(type(y))"
      ],
      "metadata": {
        "colab": {
          "base_uri": "https://localhost:8080/"
        },
        "id": "gGk4Cmsn93vN",
        "outputId": "9112406d-af41-4d0b-8c0e-016bef558fb3"
      },
      "execution_count": null,
      "outputs": [
        {
          "output_type": "stream",
          "name": "stdout",
          "text": [
            "<class 'int'>\n",
            "<class 'str'>\n"
          ]
        }
      ]
    },
    {
      "cell_type": "markdown",
      "source": [
        "Single or Double Quotes?"
      ],
      "metadata": {
        "id": "yXGWBCzv9_FI"
      }
    },
    {
      "cell_type": "code",
      "source": [
        "x = \"John\"\n",
        "# is the same as\n",
        "x = 'John'"
      ],
      "metadata": {
        "id": "c1Iq8xmV9_ii"
      },
      "execution_count": null,
      "outputs": []
    },
    {
      "cell_type": "markdown",
      "source": [
        "Case-Sensitive"
      ],
      "metadata": {
        "id": "MzkZOVVp-C_W"
      }
    },
    {
      "cell_type": "code",
      "source": [
        "#This will create two variables:\n",
        "a = 4\n",
        "A = \"Sally\"\n",
        "#A will not overwrite a"
      ],
      "metadata": {
        "id": "bIlUWCWz-EBw"
      },
      "execution_count": null,
      "outputs": []
    },
    {
      "cell_type": "markdown",
      "source": [
        "Rules for Python variables:\n",
        "\n",
        "\n",
        "*   A variable name must start with a letter or the underscore character\n",
        "*   A variable name cannot start with a number\n",
        "*   A variable name can only contain alpha-numeric characters and underscores (A-z, 0-9, and _ )\n",
        "*   Variable names are case-sensitive (age, Age and AGE are three different variables)\n",
        "*    A variable name cannot be any of the Python keywords.\n",
        "\n",
        "\n",
        "\n",
        "\n",
        "\n",
        "  \n",
        "\n",
        "  \n",
        "  \n",
        "\n",
        "\n",
        "\n"
      ],
      "metadata": {
        "id": "EnUMp4PL-XgO"
      }
    },
    {
      "cell_type": "code",
      "source": [
        "#Legal variable names:\n",
        "myvar = \"John\"\n",
        "my_var = \"John\"\n",
        "_my_var = \"John\"\n",
        "myVar = \"John\"\n",
        "MYVAR = \"John\"\n",
        "myvar2 = \"John\"\n",
        "\n",
        "#Camel Case\n",
        "myVariableName = \"John\"\n",
        "\n",
        "#Pascal Case\n",
        "MyVariableName = \"John\"\n",
        "\n",
        "#Snake Case\n",
        "my_variable_name = \"John\""
      ],
      "metadata": {
        "id": "KyMBiZTL-jpd"
      },
      "execution_count": null,
      "outputs": []
    },
    {
      "cell_type": "markdown",
      "source": [
        "Multiple Assignments"
      ],
      "metadata": {
        "id": "h1FujVZ__EkV"
      }
    },
    {
      "cell_type": "code",
      "source": [
        "# Many Values to Multiple Variables\n",
        "x, y, z = \"Orange\", \"Banana\", \"Cherry\"\n",
        "print(x)\n",
        "print(y)\n",
        "print(z)"
      ],
      "metadata": {
        "colab": {
          "base_uri": "https://localhost:8080/"
        },
        "id": "XnKwwf80_GR7",
        "outputId": "171e66f9-648f-441c-f7a5-840b01d9b38d"
      },
      "execution_count": null,
      "outputs": [
        {
          "output_type": "stream",
          "name": "stdout",
          "text": [
            "Orange\n",
            "Banana\n",
            "Cherry\n"
          ]
        }
      ]
    },
    {
      "cell_type": "code",
      "source": [
        "#One Value to Multiple Variables\n",
        "x = y = z = \"Orange\"\n",
        "print(x)\n",
        "print(y)\n",
        "print(z)"
      ],
      "metadata": {
        "colab": {
          "base_uri": "https://localhost:8080/"
        },
        "id": "gvsT1sfV_Kcb",
        "outputId": "df1e5656-8700-4b03-84cb-db1a202c9909"
      },
      "execution_count": null,
      "outputs": [
        {
          "output_type": "stream",
          "name": "stdout",
          "text": [
            "Orange\n",
            "Orange\n",
            "Orange\n"
          ]
        }
      ]
    },
    {
      "cell_type": "markdown",
      "source": [
        "Output Variables"
      ],
      "metadata": {
        "id": "3LBuAofo_u6b"
      }
    },
    {
      "cell_type": "code",
      "source": [
        "x = \"Python\"\n",
        "y = \"is\"\n",
        "z = \"awesome\"\n",
        "print(x, y, z)\n",
        "\n",
        "#Notice the space character after \"Python \" and \"is \", without them the result would be \"Pythonisawesome\".\n",
        "x = \"Python \"\n",
        "y = \"is \"\n",
        "z = \"awesome\"\n",
        "print(x + y + z)\n",
        "\n",
        "x = 5\n",
        "y = 10\n",
        "print(x + y)"
      ],
      "metadata": {
        "colab": {
          "base_uri": "https://localhost:8080/"
        },
        "id": "OgvEZLh__vQB",
        "outputId": "54dd981f-5e7b-44bc-bed0-fdc60b1386c4"
      },
      "execution_count": null,
      "outputs": [
        {
          "output_type": "stream",
          "name": "stdout",
          "text": [
            "Python is awesome\n",
            "Python is awesome\n",
            "15\n"
          ]
        }
      ]
    },
    {
      "cell_type": "code",
      "source": [
        "#In the print() function, when you try to combine a string and a number with the + operator, Python will give you an error:\n",
        "\n",
        "print(\"Hello\" + 123)\n",
        "#TypeError: can only concatenate str (not \"int\") to str"
      ],
      "metadata": {
        "colab": {
          "base_uri": "https://localhost:8080/",
          "height": 211
        },
        "id": "tgtX0skB_4XU",
        "outputId": "5d64d7be-9e6e-4bcc-9fc9-3aab0dd512e2"
      },
      "execution_count": null,
      "outputs": [
        {
          "output_type": "error",
          "ename": "TypeError",
          "evalue": "can only concatenate str (not \"int\") to str",
          "traceback": [
            "\u001b[0;31m---------------------------------------------------------------------------\u001b[0m",
            "\u001b[0;31mTypeError\u001b[0m                                 Traceback (most recent call last)",
            "\u001b[0;32m<ipython-input-57-ed14f725b002>\u001b[0m in \u001b[0;36m<cell line: 3>\u001b[0;34m()\u001b[0m\n\u001b[1;32m      1\u001b[0m \u001b[0;31m#In the print() function, when you try to combine a string and a number with the + operator, Python will give you an error:\u001b[0m\u001b[0;34m\u001b[0m\u001b[0;34m\u001b[0m\u001b[0m\n\u001b[1;32m      2\u001b[0m \u001b[0;34m\u001b[0m\u001b[0m\n\u001b[0;32m----> 3\u001b[0;31m \u001b[0mprint\u001b[0m\u001b[0;34m(\u001b[0m\u001b[0;34m\"Hello\"\u001b[0m \u001b[0;34m+\u001b[0m \u001b[0;36m123\u001b[0m\u001b[0;34m)\u001b[0m\u001b[0;34m\u001b[0m\u001b[0;34m\u001b[0m\u001b[0m\n\u001b[0m\u001b[1;32m      4\u001b[0m \u001b[0;31m#TypeError: can only concatenate str (not \"int\") to str\u001b[0m\u001b[0;34m\u001b[0m\u001b[0;34m\u001b[0m\u001b[0m\n",
            "\u001b[0;31mTypeError\u001b[0m: can only concatenate str (not \"int\") to str"
          ]
        }
      ]
    },
    {
      "cell_type": "code",
      "source": [
        "# The best way to output multiple variables in the print() function is to separate them with commas, which even support different data types:\n",
        "x = 5\n",
        "y = \"John\"\n",
        "print(x, y)\n"
      ],
      "metadata": {
        "colab": {
          "base_uri": "https://localhost:8080/"
        },
        "id": "1ZNcSCEp_-bt",
        "outputId": "acc85dd5-efaa-4670-e8d3-0a41412eedd5"
      },
      "execution_count": null,
      "outputs": [
        {
          "output_type": "stream",
          "name": "stdout",
          "text": [
            "5 John\n"
          ]
        }
      ]
    },
    {
      "cell_type": "markdown",
      "source": [
        "Global Assignment"
      ],
      "metadata": {
        "id": "L_krbF1DAT2E"
      }
    },
    {
      "cell_type": "code",
      "source": [
        "x = \"awesome\"\n",
        "\n",
        "def myfunc():\n",
        "  global x\n",
        "  x = \"fantastic\"\n",
        "\n",
        "myfunc()\n",
        "\n",
        "print(\"Python is \" + x)"
      ],
      "metadata": {
        "colab": {
          "base_uri": "https://localhost:8080/"
        },
        "id": "rB5STfIiAVNe",
        "outputId": "94732406-fbeb-4e8d-9b4e-8f8ecd83de62"
      },
      "execution_count": null,
      "outputs": [
        {
          "output_type": "stream",
          "name": "stdout",
          "text": [
            "Python is fantastic\n"
          ]
        }
      ]
    },
    {
      "cell_type": "markdown",
      "source": [
        "# Data Types"
      ],
      "metadata": {
        "id": "wQ3Tr0LwBOkt"
      }
    },
    {
      "cell_type": "markdown",
      "source": [
        "### Declaring data type **(Dynamic Typing)**"
      ],
      "metadata": {
        "id": "3HPPoV43Bflz"
      }
    },
    {
      "cell_type": "code",
      "source": [
        "x = \"Hello World\"\t#str\n",
        "x = 20\t#int\n",
        "x = 20.5\t#float\n",
        "x = 1j\t#complex\n",
        "x = [\"apple\", \"banana\", \"cherry\"]\t#list\n",
        "x = (\"apple\", \"banana\", \"cherry\")\t#tuple\n",
        "x = range(6)\t#range\n",
        "x = {\"name\" : \"John\", \"age\" : 36}\t#dict\n",
        "x = {\"apple\", \"banana\", \"cherry\"}\t#set\n",
        "x = frozenset({\"apple\", \"banana\", \"cherry\"})\t#frozenset\n",
        "x = True\t#bool\n",
        "x = b\"Hello\"\t#bytes\n",
        "x = bytearray(5)\t#bytearray\n",
        "x = memoryview(bytes(5))\t#memoryview\n",
        "x = None\t#NoneType"
      ],
      "metadata": {
        "id": "PPQoZbxgBSKs"
      },
      "execution_count": null,
      "outputs": []
    },
    {
      "cell_type": "markdown",
      "source": [
        "### Setting the Specific Data Type **(Type Casting)**"
      ],
      "metadata": {
        "id": "nyD0DIk4Bh5d"
      }
    },
    {
      "cell_type": "code",
      "source": [
        "x = str(\"Hello World\")\t#str\n",
        "x = int(20)\t#int\n",
        "x = float(20.5)\t#float\n",
        "x = complex(1j)\t#complex\n",
        "x = list((\"apple\", \"banana\", \"cherry\"))\t#list\n",
        "x = tuple((\"apple\", \"banana\", \"cherry\"))\t#tuple\n",
        "x = range(6)\t#range\n",
        "x = dict(name=\"John\", age=36)\t#dict\n",
        "x = set((\"apple\", \"banana\", \"cherry\"))\t#set\n",
        "x = frozenset((\"apple\", \"banana\", \"cherry\"))\t#frozenset\n",
        "x = bool(5)\t#bool\n",
        "x = bytes(5)\t#bytes\n",
        "x = bytearray(5)\t#bytearray\n",
        "x = memoryview(bytes(5))\t#memoryview\n",
        "\n",
        "#Numeric precision adjustment\n",
        "\n",
        "# See how round() rounds 1.5 up to 2, and 2.5 down to 2!\n",
        "x = 2.5\n",
        "\n",
        "y = round(x)\n",
        "print(y)\n",
        "\n",
        "z = 1.5\n",
        "\n",
        "y = round(z)\n",
        "print(y)"
      ],
      "metadata": {
        "colab": {
          "base_uri": "https://localhost:8080/"
        },
        "id": "dOHcTbRXBpO6",
        "outputId": "a631cc14-c718-499c-b1bb-841139670293"
      },
      "execution_count": null,
      "outputs": [
        {
          "output_type": "stream",
          "name": "stdout",
          "text": [
            "2\n",
            "2\n"
          ]
        }
      ]
    },
    {
      "cell_type": "markdown",
      "source": [
        "# Python Numbers"
      ],
      "metadata": {
        "id": "4tf78019B8kk"
      }
    },
    {
      "cell_type": "markdown",
      "source": [
        "Int, or integer, is a **whole number, positive or negative, without decimals, of unlimited length.**\n",
        "\n"
      ],
      "metadata": {
        "id": "UTnkdHaBCD3T"
      }
    },
    {
      "cell_type": "code",
      "source": [
        "x = 1\n",
        "y = 35656222554887711\n",
        "z = -3255522\n",
        "\n",
        "print(type(x))\n",
        "print(type(y))\n",
        "print(type(z))"
      ],
      "metadata": {
        "colab": {
          "base_uri": "https://localhost:8080/"
        },
        "id": "sMlZUFAgCAmr",
        "outputId": "0f984999-8952-4d5e-a3ad-377c5bbe57bf"
      },
      "execution_count": null,
      "outputs": [
        {
          "output_type": "stream",
          "name": "stdout",
          "text": [
            "<class 'int'>\n",
            "<class 'int'>\n",
            "<class 'int'>\n"
          ]
        }
      ]
    },
    {
      "cell_type": "markdown",
      "source": [
        "Float, or \"floating point number\" is a number, positive or negative, **containing one or more decimals**."
      ],
      "metadata": {
        "id": "c70yMcwMCHsR"
      }
    },
    {
      "cell_type": "code",
      "source": [
        "x = 1.10\n",
        "y = 1.0\n",
        "z = -35.59\n",
        "\n",
        "print(type(x))\n",
        "print(type(y))\n",
        "print(type(z))"
      ],
      "metadata": {
        "colab": {
          "base_uri": "https://localhost:8080/"
        },
        "id": "8fXlP60OCKQE",
        "outputId": "360423cd-3bce-4765-f9e0-252360b465d1"
      },
      "execution_count": null,
      "outputs": [
        {
          "output_type": "stream",
          "name": "stdout",
          "text": [
            "<class 'float'>\n",
            "<class 'float'>\n",
            "<class 'float'>\n"
          ]
        }
      ]
    },
    {
      "cell_type": "markdown",
      "source": [
        "Float can also be scientific numbers with an \"e\" to indicate the power of 10."
      ],
      "metadata": {
        "id": "64YFDI3_CO8P"
      }
    },
    {
      "cell_type": "code",
      "source": [
        "x = 35e3\n",
        "y = 12E4\n",
        "z = -87.7e100\n",
        "\n",
        "print(type(x))\n",
        "print(type(y))\n",
        "print(type(z))"
      ],
      "metadata": {
        "colab": {
          "base_uri": "https://localhost:8080/"
        },
        "id": "Vq-zeVlsCNFO",
        "outputId": "10cd1763-8b28-4941-ff68-2f4187abfc7d"
      },
      "execution_count": null,
      "outputs": [
        {
          "output_type": "stream",
          "name": "stdout",
          "text": [
            "<class 'float'>\n",
            "<class 'float'>\n",
            "<class 'float'>\n"
          ]
        }
      ]
    },
    {
      "cell_type": "markdown",
      "source": [
        "Type Conversion"
      ],
      "metadata": {
        "id": "sePQXGUCCQ8J"
      }
    },
    {
      "cell_type": "code",
      "source": [
        "x = 1    # int\n",
        "y = 2.8  # float\n",
        "z = 1j   # complex\n",
        "\n",
        "#convert from int to float:\n",
        "a = float(x)\n",
        "\n",
        "#convert from float to int:\n",
        "b = int(y)\n",
        "\n",
        "#convert from int to complex:\n",
        "c = complex(x)\n",
        "\n",
        "print(a)\n",
        "print(b)\n",
        "print(c)\n",
        "\n",
        "print(type(a))\n",
        "print(type(b))\n",
        "print(type(c))"
      ],
      "metadata": {
        "colab": {
          "base_uri": "https://localhost:8080/"
        },
        "id": "Kvx4eyF1DK78",
        "outputId": "39101e47-3ecf-4900-aa50-66fc3498013f"
      },
      "execution_count": null,
      "outputs": [
        {
          "output_type": "stream",
          "name": "stdout",
          "text": [
            "1.0\n",
            "2\n",
            "(1+0j)\n",
            "<class 'float'>\n",
            "<class 'int'>\n",
            "<class 'complex'>\n"
          ]
        }
      ]
    },
    {
      "cell_type": "markdown",
      "source": [
        "# Python Strings"
      ],
      "metadata": {
        "id": "_M74JWerF_ZX"
      }
    },
    {
      "cell_type": "markdown",
      "source": [
        "Quotes Inside Quotes\n",
        "\n",
        "You can use quotes inside a string, as long as they don't match the quotes surrounding the string:"
      ],
      "metadata": {
        "id": "G0cQxWxSGHNu"
      }
    },
    {
      "cell_type": "code",
      "source": [
        "print(\"It's alright\")\n",
        "print(\"He is called 'Johnny'\")\n",
        "print('He is called \"Johnny\"')"
      ],
      "metadata": {
        "colab": {
          "base_uri": "https://localhost:8080/"
        },
        "id": "FZWFzHYpGJHw",
        "outputId": "19746173-439f-4805-cb3b-8a95a6b04aec"
      },
      "execution_count": null,
      "outputs": [
        {
          "output_type": "stream",
          "name": "stdout",
          "text": [
            "It's alright\n",
            "He is called 'Johnny'\n",
            "He is called \"Johnny\"\n"
          ]
        }
      ]
    },
    {
      "cell_type": "markdown",
      "source": [
        "## Multiline Strings\n",
        "\n",
        "You can assign a multiline string to a variable by using three quotes:"
      ],
      "metadata": {
        "id": "nGQdlJutGQOd"
      }
    },
    {
      "cell_type": "code",
      "source": [
        "# three double quotes\n",
        "a = \"\"\"Lorem ipsum dolor sit amet,\n",
        "consectetur adipiscing elit,\n",
        "sed do eiusmod tempor incididunt\n",
        "ut labore et dolore magna aliqua.\"\"\"\n",
        "print(a)\n",
        "\n",
        "# three single quotes\n",
        "b = '''Lorem ipsum dolor sit amet,\n",
        "consectetur adipiscing elit,\n",
        "sed do eiusmod tempor incididunt\n",
        "ut labore et dolore magna aliqua.'''\n",
        "print(b)\n",
        "\n",
        "# Note: in the result, the line breaks are inserted at the same position as in the code."
      ],
      "metadata": {
        "colab": {
          "base_uri": "https://localhost:8080/"
        },
        "id": "EAzdxW5OGNUi",
        "outputId": "53bbd354-3063-426c-bcc8-25ffab622133"
      },
      "execution_count": null,
      "outputs": [
        {
          "output_type": "stream",
          "name": "stdout",
          "text": [
            "Lorem ipsum dolor sit amet,\n",
            "consectetur adipiscing elit,\n",
            "sed do eiusmod tempor incididunt\n",
            "ut labore et dolore magna aliqua.\n",
            "Lorem ipsum dolor sit amet,\n",
            "consectetur adipiscing elit,\n",
            "sed do eiusmod tempor incididunt\n",
            "ut labore et dolore magna aliqua.\n"
          ]
        }
      ]
    },
    {
      "cell_type": "markdown",
      "source": [
        "## Strings are Arrays"
      ],
      "metadata": {
        "id": "Q6rBBoAQGjgO"
      }
    },
    {
      "cell_type": "code",
      "source": [
        "a = \"Hello, World!\"\n",
        "print(a[1])"
      ],
      "metadata": {
        "colab": {
          "base_uri": "https://localhost:8080/"
        },
        "id": "Ppdr6kZ2GmS8",
        "outputId": "97e57414-21b6-4fe7-ac6c-a8c0820bc988"
      },
      "execution_count": null,
      "outputs": [
        {
          "output_type": "stream",
          "name": "stdout",
          "text": [
            "e\n"
          ]
        }
      ]
    },
    {
      "cell_type": "markdown",
      "source": [
        "Since strings are arrays, we can loop through the characters in a string, with a for loop."
      ],
      "metadata": {
        "id": "l3IP7nHEGpRj"
      }
    },
    {
      "cell_type": "code",
      "source": [
        "for x in \"banana\":\n",
        "  print(x)"
      ],
      "metadata": {
        "colab": {
          "base_uri": "https://localhost:8080/"
        },
        "id": "15DRdD0JGp-h",
        "outputId": "bdb828a6-bdc9-4a3b-c1e3-44cd3d42ea30"
      },
      "execution_count": null,
      "outputs": [
        {
          "output_type": "stream",
          "name": "stdout",
          "text": [
            "b\n",
            "a\n",
            "n\n",
            "a\n",
            "n\n",
            "a\n"
          ]
        }
      ]
    },
    {
      "cell_type": "markdown",
      "source": [
        "## String Length\n",
        "To get the length of a string, use the len() function."
      ],
      "metadata": {
        "id": "-Ec75RiFGu_G"
      }
    },
    {
      "cell_type": "code",
      "source": [
        "a = \"Hello, World!\"\n",
        "print(len(a))"
      ],
      "metadata": {
        "colab": {
          "base_uri": "https://localhost:8080/"
        },
        "id": "LT8VV46MGxYP",
        "outputId": "330bbcaa-4e8c-4782-f942-f1fc5953d0c8"
      },
      "execution_count": null,
      "outputs": [
        {
          "output_type": "stream",
          "name": "stdout",
          "text": [
            "13\n"
          ]
        }
      ]
    },
    {
      "cell_type": "markdown",
      "source": [
        "## Check String\n",
        "To check if a certain phrase or character is present in a string, we can use the keyword in."
      ],
      "metadata": {
        "id": "f8Y2YhWMHBT1"
      }
    },
    {
      "cell_type": "code",
      "source": [
        "txt = \"The best things in life are free!\"\n",
        "print(\"free\" in txt)"
      ],
      "metadata": {
        "colab": {
          "base_uri": "https://localhost:8080/"
        },
        "id": "bMmFr08_HF4J",
        "outputId": "7d0ae2d8-965d-4209-e900-61a1e8c3ee86"
      },
      "execution_count": null,
      "outputs": [
        {
          "output_type": "stream",
          "name": "stdout",
          "text": [
            "True\n"
          ]
        }
      ]
    },
    {
      "cell_type": "code",
      "source": [
        "txt = \"The best things in life are free!\"\n",
        "if \"free\" in txt:\n",
        "  print(\"Yes, 'free' is present.\")"
      ],
      "metadata": {
        "colab": {
          "base_uri": "https://localhost:8080/"
        },
        "id": "2fFt1gdcHJLe",
        "outputId": "8e926626-737e-400c-f0fb-c91e93164c1f"
      },
      "execution_count": null,
      "outputs": [
        {
          "output_type": "stream",
          "name": "stdout",
          "text": [
            "Yes, 'free' is present.\n"
          ]
        }
      ]
    },
    {
      "cell_type": "markdown",
      "source": [
        "To check if a certain phrase or character is NOT present in a string, we can use the keyword not in."
      ],
      "metadata": {
        "id": "Ykvnl7fKHLNd"
      }
    },
    {
      "cell_type": "code",
      "source": [
        "txt = \"The best things in life are free!\"\n",
        "print(\"expensive\" not in txt)"
      ],
      "metadata": {
        "colab": {
          "base_uri": "https://localhost:8080/"
        },
        "id": "8Rbjg6DwHML_",
        "outputId": "f39a8802-b43e-4295-d62e-3a38c1ebe422"
      },
      "execution_count": null,
      "outputs": [
        {
          "output_type": "stream",
          "name": "stdout",
          "text": [
            "True\n"
          ]
        }
      ]
    },
    {
      "cell_type": "code",
      "source": [
        "txt = \"The best things in life are free!\"\n",
        "if \"expensive\" not in txt:\n",
        "  print(\"No, 'expensive' is NOT present.\")"
      ],
      "metadata": {
        "colab": {
          "base_uri": "https://localhost:8080/"
        },
        "id": "7DwAvqV_HPN-",
        "outputId": "882161d4-22c9-49c1-8eab-d2210c19399b"
      },
      "execution_count": null,
      "outputs": [
        {
          "output_type": "stream",
          "name": "stdout",
          "text": [
            "No, 'expensive' is NOT present.\n"
          ]
        }
      ]
    },
    {
      "cell_type": "markdown",
      "source": [
        "## Escape Characters\n",
        "To insert characters that are illegal in a string, use an escape character.\n",
        "\n",
        "An escape character is a backslash `\\` followed by the character you want to insert.\n",
        "\n",
        "An example of an illegal character is a double quote inside a string that is surrounded by double quotes:"
      ],
      "metadata": {
        "id": "djSH45-0YVcM"
      }
    },
    {
      "cell_type": "code",
      "source": [
        "txt = \"We are the so-called \\\"Vikings\\\" from the north.\""
      ],
      "metadata": {
        "id": "fPFOv8BxYZ2A"
      },
      "execution_count": null,
      "outputs": []
    },
    {
      "cell_type": "markdown",
      "source": [
        "### Examples"
      ],
      "metadata": {
        "id": "Ct_ivKq_ZRhU"
      }
    },
    {
      "cell_type": "code",
      "source": [
        "# ignore \\\n",
        "s = 'This string will not include \\\n",
        "backslashes or newline characters.'\n",
        "print (s)\n",
        "\n",
        "# escape backslash\n",
        "s= 'The \\\\character is called backslash'\n",
        "print (s)\n",
        "\n",
        "# escape single quote\n",
        "s='Hello \\'Python\\''\n",
        "print (s)\n",
        "\n",
        "# escape double quote\n",
        "s=\"Hello \\\"Python\\\"\"\n",
        "print (s)\n",
        "\n",
        "# escape \\b to generate ASCII backspace\n",
        "s='Hel\\blo'\n",
        "print (s)\n",
        "\n",
        "# ASCII Bell character\n",
        "s='Hello\\a'\n",
        "print (s)\n",
        "\n",
        "# newline\n",
        "s='Hello\\nPython'\n",
        "print (s)\n",
        "\n",
        "# Horizontal tab\n",
        "s='Hello\\tPython'\n",
        "print (s)\n",
        "\n",
        "# form feed\n",
        "s= \"hello\\fworld\"\n",
        "print (s)\n",
        "\n",
        "# Octal notation\n",
        "s=\"\\101\"\n",
        "print(s)\n",
        "\n",
        "# Hexadecimal notation\n",
        "s=\"\\x41\"\n",
        "print (s)"
      ],
      "metadata": {
        "colab": {
          "base_uri": "https://localhost:8080/"
        },
        "id": "Ip54F4nMZQAK",
        "outputId": "72b0b536-9eed-44b6-8641-23951d5979e1"
      },
      "execution_count": null,
      "outputs": [
        {
          "output_type": "stream",
          "name": "stdout",
          "text": [
            "This string will not include backslashes or newline characters.\n",
            "The \\character is called backslash\n",
            "Hello 'Python'\n",
            "Hello \"Python\"\n",
            "Hel\blo\n",
            "Hello\u0007\n",
            "Hello\n",
            "Python\n",
            "Hello\tPython\n",
            "hello\fworld\n",
            "A\n",
            "A\n"
          ]
        }
      ]
    },
    {
      "cell_type": "markdown",
      "source": [
        "### Raw String\n",
        "\n",
        "In the following example, when a normal string is printed the escape character '\\n' is processed to introduce a newline. However, because of the raw string operator 'r' the effect of escape character is not translated as per its meaning."
      ],
      "metadata": {
        "id": "0etCAaP-Y-gZ"
      }
    },
    {
      "cell_type": "code",
      "source": [
        "normal = \"Hello\\nWorld\"\n",
        "print (normal)\n",
        "\n",
        "raw = r\"Hello\\nWorld\"\n",
        "print (raw)"
      ],
      "metadata": {
        "colab": {
          "base_uri": "https://localhost:8080/"
        },
        "id": "s8X-OsxQYhk6",
        "outputId": "0804bf87-ef1b-40b9-a970-9ae411927730"
      },
      "execution_count": null,
      "outputs": [
        {
          "output_type": "stream",
          "name": "stdout",
          "text": [
            "Hello\n",
            "World\n",
            "Hello\\nWorld\n"
          ]
        }
      ]
    },
    {
      "cell_type": "markdown",
      "source": [
        "# Python Boolean\n",
        "When you compare two values, the expression is evaluated and Python returns the Boolean answer:"
      ],
      "metadata": {
        "id": "ksooF2SKe6XB"
      }
    },
    {
      "cell_type": "code",
      "source": [
        "a = 200\n",
        "b = 33\n",
        "\n",
        "if b > a:\n",
        "  print(\"b is greater than a\")\n",
        "else:\n",
        "  print(\"b is not greater than a\")"
      ],
      "metadata": {
        "id": "jqFn8XyXfAl6"
      },
      "execution_count": null,
      "outputs": []
    },
    {
      "cell_type": "markdown",
      "source": [
        "### Evaluate Values and Variables\n",
        "The bool() function allows you to evaluate any value, and give you True or False in return,"
      ],
      "metadata": {
        "id": "BlefEbPKfLUa"
      }
    },
    {
      "cell_type": "code",
      "source": [
        "print(bool(\"Hello\"))\n",
        "print(bool(15))"
      ],
      "metadata": {
        "colab": {
          "base_uri": "https://localhost:8080/"
        },
        "id": "v0GhkKpFfH2j",
        "outputId": "4d9240f2-3abb-4c5d-8007-b6a36fd5120c"
      },
      "execution_count": 3,
      "outputs": [
        {
          "output_type": "stream",
          "name": "stdout",
          "text": [
            "True\n",
            "True\n"
          ]
        }
      ]
    },
    {
      "cell_type": "markdown",
      "source": [
        "### **Most Values are True**\n",
        "Almost any value is evaluated to True if it has some sort of content.\n",
        "\n",
        "Any string is True, except empty strings.\n",
        "\n",
        "Any number is True, except 0.\n",
        "\n",
        "Any list, tuple, set, and dictionary are True, except empty ones."
      ],
      "metadata": {
        "id": "5uJqUBg1fyNs"
      }
    },
    {
      "cell_type": "code",
      "source": [
        "# The following will return True\n",
        "bool(\"abc\")\n",
        "bool(123)\n",
        "bool([\"apple\", \"cherry\", \"banana\"])"
      ],
      "metadata": {
        "id": "pQmWHBVzf5a-"
      },
      "execution_count": null,
      "outputs": []
    },
    {
      "cell_type": "markdown",
      "source": [
        "In fact, there are not many values that evaluate to `False`, except empty values, such as `(), [], {}, \"\"`, the number `0`, and the value `None`. And of course the value `False` evaluates to `False`."
      ],
      "metadata": {
        "id": "xEL-XqHygCJS"
      }
    },
    {
      "cell_type": "markdown",
      "source": [
        "### Functions can Return a Boolean\n",
        "You can create functions that returns a Boolean Value:"
      ],
      "metadata": {
        "id": "Yie71sIzggga"
      }
    },
    {
      "cell_type": "code",
      "source": [
        "def myFunction() :\n",
        "  return True\n",
        "\n",
        "if myFunction():\n",
        "  print(\"YES!\")\n",
        "else:\n",
        "  print(\"NO!\")"
      ],
      "metadata": {
        "id": "JOcuVxzcgf5j"
      },
      "execution_count": null,
      "outputs": []
    },
    {
      "cell_type": "markdown",
      "source": [
        "# Python Operators"
      ],
      "metadata": {
        "id": "ROh1It5bbij_"
      }
    },
    {
      "cell_type": "markdown",
      "source": [
        "## Arithmetic Operators\n",
        "Arithmetic operators are used with numeric values to perform common mathematical operations:"
      ],
      "metadata": {
        "id": "1-QFMNBmbwFT"
      }
    },
    {
      "cell_type": "code",
      "source": [
        "a = 7\n",
        "b = 2\n",
        "\n",
        "# addition\n",
        "print ('Sum: ', a + b)\n",
        "\n",
        "# subtraction\n",
        "print ('Subtraction: ', a - b)\n",
        "\n",
        "# multiplication\n",
        "print ('Multiplication: ', a * b)\n",
        "\n",
        "# division\n",
        "print ('Division: ', a / b)\n",
        "\n",
        "# floor division\n",
        "print ('Floor Division: ', a // b)\n",
        "\n",
        "# modulo\n",
        "print ('Modulo: ', a % b)\n",
        "\n",
        "# a to the power b\n",
        "print ('Power: ', a ** b)"
      ],
      "metadata": {
        "colab": {
          "base_uri": "https://localhost:8080/"
        },
        "id": "36vulwBPb9c9",
        "outputId": "5ded1af1-1a05-475b-d606-2a152be15cf1"
      },
      "execution_count": null,
      "outputs": [
        {
          "output_type": "stream",
          "name": "stdout",
          "text": [
            "Sum:  9\n",
            "Subtraction:  5\n",
            "Multiplication:  14\n",
            "Division:  3.5\n",
            "Floor Division:  3\n",
            "Modulo:  1\n",
            "Power:  49\n"
          ]
        }
      ]
    },
    {
      "cell_type": "markdown",
      "source": [
        "## Assignment Operators\n",
        "Assignment operators are used to assign values to variables:"
      ],
      "metadata": {
        "id": "JSNYcXVIcDAV"
      }
    },
    {
      "cell_type": "code",
      "source": [
        "# assign 10 to a\n",
        "a = 10\n",
        "\n",
        "# assign 5 to b\n",
        "b = 5\n",
        "\n",
        "# assign the sum of a and b to a\n",
        "a += b      # a = a + b\n",
        "\n",
        "print(a)\n",
        "\n",
        "# Output: 15\n",
        "\n",
        "# assign 5 to a\n",
        "x = 5\n",
        "\n",
        "# same as x = x % 3\n",
        "x%=3\n",
        "\n",
        "print(x)\n",
        "\n",
        "#Output: 2\n",
        "\n",
        "# assign 5 10 y\n",
        "y = 5\n",
        "\n",
        "# same as x = x ** 3\n",
        "y **= 3\n",
        "\n",
        "print(y)\n",
        "# Output: 125"
      ],
      "metadata": {
        "colab": {
          "base_uri": "https://localhost:8080/"
        },
        "id": "4JJn1g9mcLO3",
        "outputId": "2c7318af-a3a7-413a-8fc1-a155ddd1032c"
      },
      "execution_count": null,
      "outputs": [
        {
          "output_type": "stream",
          "name": "stdout",
          "text": [
            "15\n",
            "2\n",
            "125\n"
          ]
        }
      ]
    },
    {
      "cell_type": "markdown",
      "source": [
        "## Comparison Operators\n",
        "Comparison operators are used to compare two values:"
      ],
      "metadata": {
        "id": "oCMfNzMjdWSv"
      }
    },
    {
      "cell_type": "code",
      "source": [
        "a = 5\n",
        "\n",
        "b = 2\n",
        "\n",
        "# equal to operator\n",
        "print('a == b =', a == b)\n",
        "\n",
        "# not equal to operator\n",
        "print('a != b =', a != b)\n",
        "\n",
        "# greater than operator\n",
        "print('a > b =', a > b)\n",
        "\n",
        "# less than operator\n",
        "print('a < b =', a < b)\n",
        "\n",
        "# greater than or equal to operator\n",
        "print('a >= b =', a >= b)\n",
        "\n",
        "# less than or equal to operator\n",
        "print('a <= b =', a <= b)"
      ],
      "metadata": {
        "colab": {
          "base_uri": "https://localhost:8080/"
        },
        "id": "qsLhXRJ7dd3A",
        "outputId": "223e06cb-403e-4bb0-e701-d6dfe771da81"
      },
      "execution_count": null,
      "outputs": [
        {
          "output_type": "stream",
          "name": "stdout",
          "text": [
            "a == b = False\n",
            "a != b = True\n",
            "a > b = True\n",
            "a < b = False\n",
            "a >= b = True\n",
            "a <= b = False\n"
          ]
        }
      ]
    },
    {
      "cell_type": "markdown",
      "source": [
        "## Logical Operators\n",
        "Logical operators are used to combine conditional statements:"
      ],
      "metadata": {
        "id": "po0HwDq4dkIi"
      }
    },
    {
      "cell_type": "code",
      "source": [
        "# logical AND\n",
        "print(True and True)     # True\n",
        "print(True and False)    # False\n",
        "\n",
        "# logical OR\n",
        "print(True or False)     # True\n",
        "\n",
        "# logical NOT, reverse the result\n",
        "print(not True)          # False"
      ],
      "metadata": {
        "id": "cv9x2OrXdovz",
        "colab": {
          "base_uri": "https://localhost:8080/"
        },
        "outputId": "e5517ce1-1127-482a-f8c2-673f569dac5b"
      },
      "execution_count": 52,
      "outputs": [
        {
          "output_type": "stream",
          "name": "stdout",
          "text": [
            "True\n",
            "False\n",
            "True\n",
            "False\n"
          ]
        }
      ]
    },
    {
      "cell_type": "code",
      "source": [
        "a = 10\n",
        "\n",
        "if a:\n",
        "    print(\"Boolean value of a is True\")\n",
        "if not (a % 3 == 0 or a % 5 == 0):\n",
        "    print(\"10 is not divisible by either 3 or 5\")\n",
        "else:\n",
        "    print(\"10 is divisible by either 3 or 5\")"
      ],
      "metadata": {
        "colab": {
          "base_uri": "https://localhost:8080/"
        },
        "id": "qUTTVcW-hJOJ",
        "outputId": "7aa66270-29af-474a-ced3-c883067d777a"
      },
      "execution_count": 5,
      "outputs": [
        {
          "output_type": "stream",
          "name": "stdout",
          "text": [
            "Boolean value of a is True\n",
            "10 is divisible by either 3 or 5\n"
          ]
        }
      ]
    },
    {
      "cell_type": "markdown",
      "source": [
        "## Identity Operators\n",
        "Identity operators are used to compare the objects, not if they are equal, but if they are actually the same object, with the same memory location:"
      ],
      "metadata": {
        "id": "FVP29YuPdron"
      }
    },
    {
      "cell_type": "code",
      "source": [
        "x1 = 5\n",
        "y1 = 5\n",
        "x2 = 'Hello'\n",
        "y2 = 'Hello'\n",
        "x3 = [1,2,3]\n",
        "y3 = [1,2,3]\n",
        "\n",
        "print(x1 is not y1)  # prints False\n",
        "\n",
        "print(x2 is y2)  # prints True\n",
        "\n",
        "print(x3 is y3)  # prints False because x3 is not the same object as y3, even if they have the same content"
      ],
      "metadata": {
        "colab": {
          "base_uri": "https://localhost:8080/"
        },
        "id": "tZagUOM6dxN7",
        "outputId": "b1f26580-45c4-4a5d-ee2c-7bd3a9b009ad"
      },
      "execution_count": null,
      "outputs": [
        {
          "output_type": "stream",
          "name": "stdout",
          "text": [
            "False\n",
            "True\n",
            "False\n"
          ]
        }
      ]
    },
    {
      "cell_type": "code",
      "source": [
        "a=[1,2,3]\n",
        "b=[1,2,3]\n",
        "print (\"id(a), id(b):\", id(a), id(b))\n",
        "print (\"a is b:\", a is b)\n",
        "print (\"b is not a:\", b is not a)\n",
        "\n",
        "print (id(a[0]), id(a[1]), id(a[2]))\n",
        "print (id(b[0]), id(b[1]), id(b[2]))\n",
        "print(a[0] is b[0])"
      ],
      "metadata": {
        "colab": {
          "base_uri": "https://localhost:8080/"
        },
        "id": "DvtF3jd1cUMH",
        "outputId": "0b2860a4-5d17-4148-cf28-0a94722dad08"
      },
      "execution_count": 1,
      "outputs": [
        {
          "output_type": "stream",
          "name": "stdout",
          "text": [
            "id(a), id(b): 137247697652352 137247697652160\n",
            "a is b: False\n",
            "b is not a: True\n",
            "137247995445488 137247995445520 137247995445552\n",
            "137247995445488 137247995445520 137247995445552\n",
            "True\n"
          ]
        }
      ]
    },
    {
      "cell_type": "markdown",
      "source": [
        "### Difference between` ‘==’` and `‘is’` Operator\n",
        "The equality operator is used to compare the value of two variables, whereas the identities operator is used to compare the memory location of two variables."
      ],
      "metadata": {
        "id": "HmHgsl_oeGRy"
      }
    },
    {
      "cell_type": "code",
      "source": [
        "# Python program to illustrate the use\n",
        "# of 'is' and '==' operators\n",
        "lst1 = [1, 2, 3]\n",
        "lst2 = [1, 2, 3]\n",
        "\n",
        "# using 'is' and '==' operators\n",
        "print(lst1 is lst2)\n",
        "print(lst1 == lst2)"
      ],
      "metadata": {
        "colab": {
          "base_uri": "https://localhost:8080/"
        },
        "id": "QxVwyaQeeLM8",
        "outputId": "b79b5661-4532-4e6d-9c2b-a9aefcec0499"
      },
      "execution_count": 2,
      "outputs": [
        {
          "output_type": "stream",
          "name": "stdout",
          "text": [
            "False\n",
            "True\n"
          ]
        }
      ]
    },
    {
      "cell_type": "markdown",
      "source": [
        "## Membership Operators\n",
        "Membership operators are used to test if a sequence is presented in an object:"
      ],
      "metadata": {
        "id": "DSiViD1Pd4ti"
      }
    },
    {
      "cell_type": "code",
      "source": [
        "message = 'Hello world'\n",
        "dict1 = {1:'a', 2:'b'}\n",
        "\n",
        "# check if 'H' is present in message string\n",
        "print('H' in message)  # prints True\n",
        "\n",
        "# check if 'hello' is present in message string\n",
        "print('hello' not in message)  # prints True, case-sensitive\n",
        "\n",
        "# check if '1' key is present in dict1\n",
        "print(1 in dict1)  # prints True\n",
        "\n",
        "# check if 'a' key is present in dict1\n",
        "print('a' in dict1)  # prints False"
      ],
      "metadata": {
        "colab": {
          "base_uri": "https://localhost:8080/"
        },
        "id": "mHM-MBUid9NR",
        "outputId": "8d91a7a0-c239-498b-d014-50b2e6dce511"
      },
      "execution_count": null,
      "outputs": [
        {
          "output_type": "stream",
          "name": "stdout",
          "text": [
            "True\n",
            "False\n",
            "True\n",
            "False\n"
          ]
        }
      ]
    },
    {
      "cell_type": "markdown",
      "source": [
        "# Python If ... Else\n",
        "An \"if statement\" is written by using the if keyword."
      ],
      "metadata": {
        "id": "XHjWUnoBk2Zp"
      }
    },
    {
      "cell_type": "code",
      "source": [
        "a = 33\n",
        "b = 200\n",
        "if b > a:\n",
        "  print(\"b is greater than a\")"
      ],
      "metadata": {
        "colab": {
          "base_uri": "https://localhost:8080/"
        },
        "id": "craKyxvtlN8G",
        "outputId": "d271185f-364c-4951-c23f-09bd38973a87"
      },
      "execution_count": 51,
      "outputs": [
        {
          "output_type": "stream",
          "name": "stdout",
          "text": [
            "b is greater than a\n"
          ]
        }
      ]
    },
    {
      "cell_type": "markdown",
      "source": [
        "## Elif and Else\n",
        "The `elif` keyword is Python's way of saying \"if the previous conditions were not true, then try this condition\".\n",
        "\n",
        "The `else` keyword catches anything which isn't caught by the preceding conditions."
      ],
      "metadata": {
        "id": "ZvBcREQmlL_A"
      }
    },
    {
      "cell_type": "code",
      "source": [
        "a = 200\n",
        "b = 33\n",
        "if b > a:\n",
        "  print(\"b is greater than a\")\n",
        "elif a == b:\n",
        "  print(\"a and b are equal\")\n",
        "else:\n",
        "  print(\"a is greater than b\")"
      ],
      "metadata": {
        "colab": {
          "base_uri": "https://localhost:8080/"
        },
        "id": "JeyLBiEglcHT",
        "outputId": "0750a00a-7d52-4b9c-b3c8-49c2c14c898e"
      },
      "execution_count": 7,
      "outputs": [
        {
          "output_type": "stream",
          "name": "stdout",
          "text": [
            "a is greater than b\n"
          ]
        }
      ]
    },
    {
      "cell_type": "markdown",
      "source": [
        "You can also have an `else` without the `elif`:"
      ],
      "metadata": {
        "id": "wvyajYNslfW3"
      }
    },
    {
      "cell_type": "code",
      "source": [
        "a = 200\n",
        "b = 33\n",
        "if b > a:\n",
        "  print(\"b is greater than a\")\n",
        "else:\n",
        "  print(\"b is not greater than a\")"
      ],
      "metadata": {
        "colab": {
          "base_uri": "https://localhost:8080/"
        },
        "id": "BIUAva3Wlg1q",
        "outputId": "2a069465-7315-4d07-c313-571b6966eef8"
      },
      "execution_count": 50,
      "outputs": [
        {
          "output_type": "stream",
          "name": "stdout",
          "text": [
            "b is not greater than a\n"
          ]
        }
      ]
    },
    {
      "cell_type": "markdown",
      "source": [
        "## Short Hand If\n",
        "If you have only one statement to execute, you can put it on the same line as the if statement.\n",
        "\n"
      ],
      "metadata": {
        "id": "ihJjzIwplion"
      }
    },
    {
      "cell_type": "code",
      "source": [
        "a = 200\n",
        "b = 33\n",
        "\n",
        "if a > b: print(\"a is greater than b\")"
      ],
      "metadata": {
        "colab": {
          "base_uri": "https://localhost:8080/"
        },
        "id": "F5rPgwsGllRp",
        "outputId": "9fdf2c8d-3d7c-4d69-919e-ecbb7b5083f7"
      },
      "execution_count": 9,
      "outputs": [
        {
          "output_type": "stream",
          "name": "stdout",
          "text": [
            "a is greater than b\n"
          ]
        }
      ]
    },
    {
      "cell_type": "markdown",
      "source": [
        "## Short Hand If ... Else\n",
        "If you have only one statement to execute, one for if, and one for else, you can put it all on the same line:\n",
        "\n"
      ],
      "metadata": {
        "id": "0uNdayFul4fI"
      }
    },
    {
      "cell_type": "code",
      "source": [
        "a = 2\n",
        "b = 330\n",
        "print(\"A\") if a > b else print(\"B\") # no need for semicolons"
      ],
      "metadata": {
        "colab": {
          "base_uri": "https://localhost:8080/"
        },
        "id": "-qNc_lgRl8r2",
        "outputId": "749faba5-4dff-47e2-a776-31d2440cb934"
      },
      "execution_count": 49,
      "outputs": [
        {
          "output_type": "stream",
          "name": "stdout",
          "text": [
            "B\n"
          ]
        }
      ]
    },
    {
      "cell_type": "code",
      "source": [
        "a = 330\n",
        "b = 330\n",
        "print(\"A\") if a > b else print(\"=\") if a == b else print(\"B\")"
      ],
      "metadata": {
        "colab": {
          "base_uri": "https://localhost:8080/"
        },
        "id": "yBZq5UYIl_ul",
        "outputId": "d1efd946-d29d-4b33-ebc9-0956bcc74c6c"
      },
      "execution_count": 48,
      "outputs": [
        {
          "output_type": "stream",
          "name": "stdout",
          "text": [
            "=\n"
          ]
        }
      ]
    },
    {
      "cell_type": "markdown",
      "source": [
        "## Pass\n",
        "`if` statements cannot be empty, but if you for some reason have an `if` statement with no content, put in the `pass` statement to avoid getting an error."
      ],
      "metadata": {
        "id": "6pkJQk-ymDQi"
      }
    },
    {
      "cell_type": "code",
      "source": [
        "a = 33\n",
        "b = 200\n",
        "\n",
        "if b > a:\n",
        "  pass"
      ],
      "metadata": {
        "id": "q2VhhruVmEwM"
      },
      "execution_count": 47,
      "outputs": []
    },
    {
      "cell_type": "markdown",
      "source": [
        "# Python Match Case\n",
        "The match case statement in Python is initialized with the match keyword followed by the parameter to be matched. Then various cases are defined using the case keyword and the pattern to match the parameter. The “_” is the wildcard character that runs when all the cases fail to match the parameter value."
      ],
      "metadata": {
        "id": "p2J5cYPanRZc"
      }
    },
    {
      "cell_type": "markdown",
      "source": [
        "\n",
        "\n",
        "```\n",
        "match variable_name:\n",
        "  case 'pattern 1' :\n",
        "    statement1\n",
        "  case 'pattern 2' :\n",
        "    statement2\n",
        "...\n",
        "  case 'pattern n' :\n",
        "    statement\n",
        "  case _:\n",
        "    print('default')\n",
        "```\n",
        "\n"
      ],
      "metadata": {
        "id": "62xvk5QEn_OE"
      }
    },
    {
      "cell_type": "code",
      "source": [
        "# simple match case statement\n",
        "def runMatch():\n",
        "    num = int(input(\"Enter a number between 1 and 3: \"))\n",
        "\n",
        "    # match case\n",
        "    match num:\n",
        "        # pattern 1\n",
        "        case 1:\n",
        "            print(\"One\")\n",
        "        # pattern 2\n",
        "        case 2:\n",
        "            print(\"Two\")\n",
        "        # pattern 3. case and statement can be inline\n",
        "        case 3: print(\"Three\")\n",
        "        # default pattern\n",
        "        case _:\n",
        "            print(\"Number not between 1 and 3\")\n",
        "\n",
        "runMatch()"
      ],
      "metadata": {
        "colab": {
          "base_uri": "https://localhost:8080/"
        },
        "id": "VkWUJZ9lnb8f",
        "outputId": "f8b6a43c-2539-4b89-ab3b-78aac682595d"
      },
      "execution_count": 13,
      "outputs": [
        {
          "output_type": "stream",
          "name": "stdout",
          "text": [
            "Enter a number between 1 and 3: 3\n",
            "Three\n"
          ]
        }
      ]
    },
    {
      "cell_type": "markdown",
      "source": [
        "## Match Case Statement with OR Operator\n",
        "Match case statement in Python are meant to be for only matching the patterns and specific keywords or parameters. But we can also use match case statement in python when there are more than one case that results in same output. In this case, we can use **pipe** operator, also known as OR Operator in match case statement."
      ],
      "metadata": {
        "id": "yhrFx5H6o4B5"
      }
    },
    {
      "cell_type": "code",
      "source": [
        "def access(user):\n",
        "   match user:\n",
        "      case \"admin\" | \"manager\": return \"Full access\"\n",
        "      case \"Guest\": return \"Limited access\"\n",
        "      case _: return \"No access\"\n",
        "print (access(\"manager\"))\n",
        "print (access(\"Guest\"))\n",
        "print (access(\"Ravi\"))"
      ],
      "metadata": {
        "id": "yGiBF8EJo3lN"
      },
      "execution_count": null,
      "outputs": []
    },
    {
      "cell_type": "markdown",
      "source": [
        "## Match case with List\n",
        "Since Python can match the expression against any literal, you can use a list as a case value. Moreover, for variable number of items in the list, they can be parsed to a sequence with `*` operator."
      ],
      "metadata": {
        "id": "HZKK0bTRpnXt"
      }
    },
    {
      "cell_type": "code",
      "source": [
        "# python match case with list\n",
        "def runMatch(mystr):\n",
        "\n",
        "    # match case\n",
        "    match mystr:\n",
        "        # pattern 1\n",
        "        case [\"a\"]:\n",
        "            print(\"a\")\n",
        "        # pattern 2\n",
        "        case [\"a\", *b]:\n",
        "            print(f\"a and {b}\")\n",
        "        # pattern 3\n",
        "        case [*a, \"e\"] | (*a, \"e\"):\n",
        "            return (f\"{a} and e\") #notice how return will encapsulate output with single quote\n",
        "        # default pattern\n",
        "        case _:\n",
        "            print(\"No data\")\n",
        "\n",
        "runMatch([])\n",
        "runMatch([\"a\"])\n",
        "runMatch([\"a\", \"b\"])\n",
        "runMatch([\"b\", \"c\", \"d\", \"e\"])"
      ],
      "metadata": {
        "colab": {
          "base_uri": "https://localhost:8080/",
          "height": 87
        },
        "id": "_oTOOqg7p9xG",
        "outputId": "08dacf46-dffd-430f-9521-0a410c15913e"
      },
      "execution_count": 36,
      "outputs": [
        {
          "output_type": "stream",
          "name": "stdout",
          "text": [
            "No data\n",
            "a\n",
            "a and ['b']\n"
          ]
        },
        {
          "output_type": "execute_result",
          "data": {
            "text/plain": [
              "\"['b', 'c', 'd'] and e\""
            ],
            "application/vnd.google.colaboratory.intrinsic+json": {
              "type": "string"
            }
          },
          "metadata": {},
          "execution_count": 36
        }
      ]
    },
    {
      "cell_type": "code",
      "source": [
        "def greeting(details):\n",
        "   match details:\n",
        "      case [time, name]:\n",
        "         return f'Good {time} {name}!'\n",
        "      case [time, *names]:\n",
        "         msg=''\n",
        "         for name in names:\n",
        "            msg+=f'Good {time} {name}!\\n'\n",
        "         return msg\n",
        "\n",
        "print (greeting([\"Morning\", \"Ravi\"]))\n",
        "print (greeting([\"Afternoon\",\"Guest\"]))\n",
        "print (greeting([\"Evening\", \"Kajal\", \"Praveen\", \"Lata\"]))"
      ],
      "metadata": {
        "colab": {
          "base_uri": "https://localhost:8080/"
        },
        "id": "DVovzY6XqNFb",
        "outputId": "c1b1014e-772d-4fb7-f8c3-6d2525852932"
      },
      "execution_count": 19,
      "outputs": [
        {
          "output_type": "stream",
          "name": "stdout",
          "text": [
            "Good Morning Ravi!\n",
            "Good Afternoon Guest!\n",
            "Good Evening Kajal!\n",
            "Good Evening Praveen!\n",
            "Good Evening Lata!\n",
            "\n"
          ]
        }
      ]
    },
    {
      "cell_type": "markdown",
      "source": [
        "# Control Flow"
      ],
      "metadata": {
        "id": "Z1T6I_-qtJ_a"
      }
    },
    {
      "cell_type": "markdown",
      "source": [
        "## While Loop\n",
        "With the while loop we can execute a set of statements as long as a condition is true.\n",
        "\n"
      ],
      "metadata": {
        "id": "i082VmjJtMY3"
      }
    },
    {
      "cell_type": "code",
      "source": [
        "i = 1\n",
        "while i < 6:\n",
        "  print(i)\n",
        "  if i == 3:\n",
        "    break\n",
        "  i += 1"
      ],
      "metadata": {
        "colab": {
          "base_uri": "https://localhost:8080/"
        },
        "id": "LQ-nhEnotVLR",
        "outputId": "6e8ec14b-66bd-4abe-9a31-a063f6c98fd6"
      },
      "execution_count": 37,
      "outputs": [
        {
          "output_type": "stream",
          "name": "stdout",
          "text": [
            "1\n",
            "2\n",
            "3\n"
          ]
        }
      ]
    },
    {
      "cell_type": "markdown",
      "source": [
        "With the `break` statement we can stop the loop even if the while condition is true:"
      ],
      "metadata": {
        "id": "GUcQducYtrZi"
      }
    },
    {
      "cell_type": "code",
      "source": [
        "i = 1\n",
        "while i < 6:\n",
        "  print(i)\n",
        "  if i == 3:\n",
        "    break\n",
        "  i += 1"
      ],
      "metadata": {
        "colab": {
          "base_uri": "https://localhost:8080/"
        },
        "id": "23UoCSnhtrwq",
        "outputId": "2e9be4fb-690f-4675-d243-f7215c6df124"
      },
      "execution_count": 40,
      "outputs": [
        {
          "output_type": "stream",
          "name": "stdout",
          "text": [
            "1\n",
            "2\n",
            "3\n"
          ]
        }
      ]
    },
    {
      "cell_type": "markdown",
      "source": [
        "With the `continue` statement we can stop the current iteration, and continue with the next:"
      ],
      "metadata": {
        "id": "S3mZPIs0tdNU"
      }
    },
    {
      "cell_type": "code",
      "source": [
        "i = 0\n",
        "while i < 6:\n",
        "  i += 1\n",
        "  if i == 3:\n",
        "    continue\n",
        "  print(i)"
      ],
      "metadata": {
        "colab": {
          "base_uri": "https://localhost:8080/"
        },
        "id": "sXbXc6VHtfob",
        "outputId": "dcee9c4f-2608-4280-fd09-b252f7710af6"
      },
      "execution_count": 38,
      "outputs": [
        {
          "output_type": "stream",
          "name": "stdout",
          "text": [
            "1\n",
            "2\n",
            "4\n",
            "5\n",
            "6\n"
          ]
        }
      ]
    },
    {
      "cell_type": "markdown",
      "source": [
        "With the else statement we can run a block of code once when the condition no longer is true:\n",
        "\n"
      ],
      "metadata": {
        "id": "qAuHo1oEtiO7"
      }
    },
    {
      "cell_type": "code",
      "source": [
        "i = 1\n",
        "while i < 6:\n",
        "  print(i)\n",
        "  i += 1\n",
        "else:\n",
        "  print(\"i is no longer less than 6\")"
      ],
      "metadata": {
        "colab": {
          "base_uri": "https://localhost:8080/"
        },
        "id": "KPfS4inBtkPf",
        "outputId": "eb3e2889-3421-4783-e9f8-e2c94c19a37a"
      },
      "execution_count": 39,
      "outputs": [
        {
          "output_type": "stream",
          "name": "stdout",
          "text": [
            "1\n",
            "2\n",
            "3\n",
            "4\n",
            "5\n",
            "i is no longer less than 6\n"
          ]
        }
      ]
    },
    {
      "cell_type": "markdown",
      "source": [
        "## For Loop\n",
        "A `for` loop is used for iterating over a sequence (that is either a list, a tuple, a dictionary, a set, or a string)."
      ],
      "metadata": {
        "id": "rdNrej0Rt9HP"
      }
    },
    {
      "cell_type": "code",
      "source": [
        "fruits = [\"apple\", \"banana\", \"cherry\"]\n",
        "for x in fruits:\n",
        "  print(x)"
      ],
      "metadata": {
        "id": "3YRr8dwhuMSW"
      },
      "execution_count": null,
      "outputs": []
    },
    {
      "cell_type": "code",
      "source": [
        "for x in \"banana\":\n",
        "  print(x)"
      ],
      "metadata": {
        "id": "oK9jRmxYuNVf"
      },
      "execution_count": null,
      "outputs": []
    },
    {
      "cell_type": "markdown",
      "source": [
        "With the `break` statement we can stop the loop before it has looped through all the items:\n",
        "\n",
        "\n"
      ],
      "metadata": {
        "id": "qhaSuH6yuRZE"
      }
    },
    {
      "cell_type": "code",
      "source": [
        "#Exit the loop when x is \"banana\":\n",
        "\n",
        "fruits = [\"apple\", \"banana\", \"cherry\"]\n",
        "for x in fruits:\n",
        "  print(x)\n",
        "  if x == \"banana\":\n",
        "    break"
      ],
      "metadata": {
        "colab": {
          "base_uri": "https://localhost:8080/"
        },
        "id": "9s8fDI2zuYJl",
        "outputId": "7752c081-07b7-4d8e-bed7-1664095adf01"
      },
      "execution_count": 41,
      "outputs": [
        {
          "output_type": "stream",
          "name": "stdout",
          "text": [
            "apple\n",
            "banana\n"
          ]
        }
      ]
    },
    {
      "cell_type": "markdown",
      "source": [
        "With the continue statement we can stop the current iteration of the loop, and continue with the next:"
      ],
      "metadata": {
        "id": "FdMi7Iqjug7t"
      }
    },
    {
      "cell_type": "code",
      "source": [
        "fruits = [\"apple\", \"banana\", \"cherry\"]\n",
        "for x in fruits:\n",
        "  if x == \"banana\":\n",
        "    continue\n",
        "  print(x)"
      ],
      "metadata": {
        "colab": {
          "base_uri": "https://localhost:8080/"
        },
        "id": "kx7Gz00Fugec",
        "outputId": "b48f4159-3c86-4403-d7fd-75163b33d027"
      },
      "execution_count": 42,
      "outputs": [
        {
          "output_type": "stream",
          "name": "stdout",
          "text": [
            "apple\n",
            "cherry\n"
          ]
        }
      ]
    },
    {
      "cell_type": "markdown",
      "source": [
        "## range() Function\n",
        "To loop through a set of code a specified number of times, we can use the `range()` function,\n",
        "\n",
        "The `range()` function returns a sequence of numbers, starting from 0 by default, and increments by 1 (by default), and ends at a specified number."
      ],
      "metadata": {
        "id": "ILG3jZCMujJZ"
      }
    },
    {
      "cell_type": "code",
      "source": [
        "#Note that range(6) is not the values of 0 to 6, but the values 0 to 5.\n",
        "for x in range(6):\n",
        "  print(x)"
      ],
      "metadata": {
        "colab": {
          "base_uri": "https://localhost:8080/"
        },
        "id": "COq-pTtBup6y",
        "outputId": "a5fa0108-117f-4a73-a0b2-b1fbc1c8fd6c"
      },
      "execution_count": 43,
      "outputs": [
        {
          "output_type": "stream",
          "name": "stdout",
          "text": [
            "0\n",
            "1\n",
            "2\n",
            "3\n",
            "4\n",
            "5\n"
          ]
        }
      ]
    },
    {
      "cell_type": "markdown",
      "source": [
        "The `range()` function defaults to 0 as a starting value, however it is possible to specify the starting value by adding a parameter: `range(2, 6)`, which means values from 2 to 6 (but not including 6):"
      ],
      "metadata": {
        "id": "bmdYGrI1ux29"
      }
    },
    {
      "cell_type": "code",
      "source": [
        "for x in range(2, 6):\n",
        "  print(x)"
      ],
      "metadata": {
        "colab": {
          "base_uri": "https://localhost:8080/"
        },
        "id": "A-8dzg9FuzaY",
        "outputId": "de10b6e6-04eb-4468-eb36-a40cd1c547d7"
      },
      "execution_count": 44,
      "outputs": [
        {
          "output_type": "stream",
          "name": "stdout",
          "text": [
            "2\n",
            "3\n",
            "4\n",
            "5\n"
          ]
        }
      ]
    },
    {
      "cell_type": "markdown",
      "source": [
        "The `range()` function defaults to increment the sequence by 1, however it is possible to specify the increment value by adding a third parameter: `range(2, 30, 3)`:"
      ],
      "metadata": {
        "id": "fYVhVuMFu4pi"
      }
    },
    {
      "cell_type": "code",
      "source": [
        "for x in range(2, 30, 3):\n",
        "  print(x)"
      ],
      "metadata": {
        "colab": {
          "base_uri": "https://localhost:8080/"
        },
        "id": "_IYY5I29vC_5",
        "outputId": "39d71847-c1f0-4e13-ea50-369066643634"
      },
      "execution_count": 45,
      "outputs": [
        {
          "output_type": "stream",
          "name": "stdout",
          "text": [
            "2\n",
            "5\n",
            "8\n",
            "11\n",
            "14\n",
            "17\n",
            "20\n",
            "23\n",
            "26\n",
            "29\n"
          ]
        }
      ]
    },
    {
      "cell_type": "markdown",
      "source": [
        "## Else in For Loop"
      ],
      "metadata": {
        "id": "OLIauL-FvJBW"
      }
    },
    {
      "cell_type": "code",
      "source": [
        "for x in range(6):\n",
        "  print(x)\n",
        "else:\n",
        "  print(\"Finally finished!\")\n",
        "\n",
        "#Note: The else block will NOT be executed if the loop is stopped by a break statement.\n",
        "\n"
      ],
      "metadata": {
        "id": "wOGqXxwYvLAw"
      },
      "execution_count": null,
      "outputs": []
    },
    {
      "cell_type": "markdown",
      "source": [
        "## Pass\n",
        "for loops cannot be empty, but if you for some reason have a for loop with no content, put in the pass statement to avoid getting an error."
      ],
      "metadata": {
        "id": "lWQMRE5jvRJ4"
      }
    },
    {
      "cell_type": "code",
      "source": [
        "for x in [0, 1, 2]:\n",
        "  pass"
      ],
      "metadata": {
        "id": "FTpX9pZ1vUnP"
      },
      "execution_count": 46,
      "outputs": []
    }
  ]
}